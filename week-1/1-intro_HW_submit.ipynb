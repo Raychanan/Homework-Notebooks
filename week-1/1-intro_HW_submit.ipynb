{
 "cells": [
  {
   "cell_type": "code",
   "execution_count": 1,
   "metadata": {},
   "outputs": [],
   "source": [
    "#All these packages need to be installed from pip\n",
    "import requests #for http requests\n",
    "import bs4 #called `beautifulsoup4`, an html parser\n",
    "import pandas #gives us DataFrames\n",
    "import docx #reading MS doc files, install as `python-docx`\n",
    "\n",
    "#Stuff for pdfs\n",
    "#Install as `pdfminer2`\n",
    "import pdfminer.pdfinterp\n",
    "import pdfminer.converter\n",
    "import pdfminer.layout\n",
    "import pdfminer.pdfpage\n",
    "\n",
    "#These come with Python\n",
    "import re #for regexs\n",
    "import urllib.parse #For joining urls\n",
    "import io #for making http requests look like files\n",
    "import json #For Tumblr API responses\n",
    "import os.path #For checking if files exist\n",
    "import os #For making directories"
   ]
  },
  {
   "cell_type": "code",
   "execution_count": 2,
   "metadata": {},
   "outputs": [],
   "source": [
    "bbc_fangfang_report = \"https://www.nytimes.com/\"\n",
    "bbc_fangfang_report = \"https://www.bbc.com/\"\n",
    "bbc_fangfang_report = \"https://www.bbc.com/news/world-asia-54987675\""
   ]
  },
  {
   "cell_type": "code",
   "execution_count": 3,
   "metadata": {},
   "outputs": [
    {
     "data": {
      "text/plain": [
       "<Response [200]>"
      ]
     },
     "execution_count": 3,
     "metadata": {},
     "output_type": "execute_result"
    }
   ],
   "source": [
    "requests.get(bbc_fangfang_report)"
   ]
  },
  {
   "cell_type": "code",
   "execution_count": 4,
   "metadata": {},
   "outputs": [
    {
     "name": "stdout",
     "output_type": "stream",
     "text": [
      "<Response [200]>\n",
      "---\n",
      "<!DOCTYPE html><html lang=\"en-GB\" class=\"no-js\"><head><meta charSet=\"utf-8\" /><meta name=\"viewport\" content=\"width=device-width, initial-scale=1\" /><title data-rh=\"true\">Fang Fang: Author vilified for Wuhan Diary speaks out a year on - BBC News</title><meta data-rh=\"true\" name=\"description\" content=\"Wuhan writer Fang Fang talks about the price she has had to pay for her controversial lockdown diaries.\"/><meta data-rh=\"true\" name=\"theme-color\" content=\"#FFFFFF\"/><meta data-rh=\"true\" property=\"article:author\" content=\"https://www.facebook.com/bbcnews\"/><meta data-rh=\"true\" property=\"article:section\" content=\"Asia\"/><meta data-rh=\"true\" property=\"fb:admins\" content=\"100004154058350\"/><meta data-rh=\"true\" property=\"fb:app_id\" content=\"1609039196070050\"/><meta data-rh=\"true\" property=\"fb:pages\" content=\"1143803202301544,317278538359186,1392506827668140,742734325867560,185246968166196,156060587793370,137920769558355,193435954068976,21263239760,156400551056385,929399697073756,154344434967,228\n"
     ]
    }
   ],
   "source": [
    "nytimes_content_request = requests.get(bbc_fangfang_report)\n",
    "print(nytimes_content_request)\n",
    "print('---')\n",
    "print(nytimes_content_request.text[:1000])"
   ]
  },
  {
   "cell_type": "code",
   "execution_count": 5,
   "metadata": {},
   "outputs": [
    {
     "name": "stdout",
     "output_type": "stream",
     "text": [
      "Fang Fang: Author vilified for Wuhan Diary speaks out a year on - BBC NewsBBC HomepageSkip to contentAccessibility HelpBBC AccountHomeNewsSportReelWorklifeTravelFutureCultureMenuMorecaret-downsearchSearchHomeNewsSportReelWorklifeTravelFutureCultureMusicTVWeatherSoundsnoClose menuBBC NewslistMenuHomeCoronavirusVideoWorldUS & CanadaUKBusinessTechScienceStoriesEntertainment & ArtslistMoreHealthIn PicturesReality CheckWorld News TVNewsbeatLong ReadsAsiaChinaIndiaFang Fang: Author vilified for Wuhan Diary speaks out a year onBy Fan Wang and Grace TsoiBBC World Service, Hong KongPublishedduration1 day agoSharenocloseShare pagelinkCopy linkAbout sharingRelated TopicsCoronavirus pandemicimage copyrightWu BaojianShe has faced a nationalist backlash for her diaries documenting life in Wuhan in the early days of the coronavirus outbreak, but Chinese author Fang Fang she says she will not be silenced.\"When facing a catastrophe, it's vital to voice your opinion and give your advice,\" she told BBC Chinese in a rare email interview with international media.In late January, when Wuhan became the first place in the world to enter a state of complete lockdown, many of the city's 11 million residents found solace in reading Fang Fang's online diaries. They also provided a revealing glimpse into the city where the virus first emerged.The 65-year-old's daily posts on her Weibo account, the Chinese equivalent of Twitter, chronicled life living alone with her dog during the lockdown, as well as what she described as the dark side of the authority's response.They were initially well-received, but later provoked a wave of criticism from those who saw her efforts as unpatriotic.As part of the BBC 100 Women season, Fang Fang told the BBC why, despite the condemnation, she does not regret speaking out.'Vivid narrative'image copyrightGetty Imagesimage captionTo contain the spread in Wuhan, the authorities imposed unprecedented restrictionsFang Fang says that she wrote the diaries as part of a p\n"
     ]
    }
   ],
   "source": [
    "nytimes_content_soup = bs4.BeautifulSoup(nytimes_content_request.text, 'html.parser')\n",
    "print(nytimes_content_soup.text[:2000])"
   ]
  },
  {
   "cell_type": "code",
   "execution_count": 6,
   "metadata": {},
   "outputs": [],
   "source": [
    "#it is likely that what Python receives is not what you will see, so we will need to \n",
    "#inspect what Python receives. To do this we can save the html requests obtained.\n",
    "\n",
    "nytimes_save = 'news.html'\n",
    "with open(nytimes_save, mode='w', encoding='utf-8') as f:\n",
    "    f.write(nytimes_content_request.text)"
   ]
  },
  {
   "cell_type": "code",
   "execution_count": 7,
   "metadata": {},
   "outputs": [
    {
     "name": "stdout",
     "output_type": "stream",
     "text": [
      "By Fan Wang and Grace TsoiBBC World Service, Hong Kong\n",
      "She has faced a nationalist backlash for her diaries documenting life in Wuhan in the early days of the coronavirus outbreak, but Chinese author Fang Fang she says she will not be silenced.\n",
      "\"When facing a catastrophe, it's vital to voice your opinion and give your advice,\" she told BBC Chinese in a rare email interview with international media.\n",
      "In late January, when Wuhan became the first place in the world to enter a state of complete lockdown, many of the city's 11 million residents found solace in reading Fang Fang's online diaries. They also provided a revealing glimpse into the city where the virus first emerged.\n",
      "The 65-year-old's daily posts on her Weibo account, the Chinese equivalent of Twitter, chronicled life living alone with her dog during the lockdown, as well as what she described as the dark side of the authority's response.\n",
      "They were initially well-received, but later provoked a wave of criticism from those who saw her efforts as unpatriotic.\n",
      "As part of the BBC 100 Women season, Fang Fang told the BBC why, despite the condemnation, she does not regret speaking out.\n",
      "Fang Fang says that she wrote the diaries as part of a process that helped her to \"channel her mind\" and reflect on what was happening during lockdown. \n",
      "She captured what it was like to be isolated from the rest of the world; the collective pain and sadness of witnessing the loss of life; and the anger at local officials for what she views as their mishandling of the crisis.\n",
      "At first, her online diary was praised domestically, with state media the China News Service describing her posts as inspiring, \"with vivid narrative, real emotions and a straightforward style\".\n",
      "But the reaction significantly shifted when they gained international attention and the criticism reached fever pitch when news emerged that her diaries would be translated into English and picked up by US publisher HarperCollins. \n",
      "\"Because of the 60 diary entries I wrote during the pandemicâ¦ I am seen as the enemy by the authorities,\" she said. \n",
      "Chinese media outlets, she says, have been ordered not to publish any of her articles. And her books, including new works and reprints, have been shunned by Chinese publishers. \n",
      "\"For a writer, it's a very, very cruel thing,\" she told the BBC.   \n",
      "\"Maybe it's because I have expressed more sympathy for ordinary people than applauding the government. I didn't flatter or praise the government, so I am guilty.\"  \n",
      "Fang Fang says that the backlash was not restricted to official disapproval.\n",
      "She says she has received tens of thousands of abusive messages, including death threats. On social media she has been labelled a traitor, accused of conspiring with the West to attack the Chinese state, with some even suggesting she was paid by the American intelligence agency, the CIA, to write the diaries.\n",
      "Fang Fang says she was surprised and confused by the viciousness of the attacks.\n",
      "\"It's very difficult for me to understand their hatred of me. My records are objective and mild,\" she says.  \n",
      "The attacks she says remind her of the 1966-1976 Cultural Revolution, a period of violent mob rule which led to the purging of intellectuals and \"class enemies\", including people with ties to the West.\n",
      "China is sensitive about its image abroad, and Fang Fang's diaries came during a time when the country was under immense international pressure for alleged cover-ups. \n",
      "Fang Kecheng, a journalism professor at the Chinese University of Hong Kong, says the attacks on Fang Fang follow a pattern of online nationalism. \"Nationalism has become the mainstream on the Chinese internet in recent years, and liberalism has been marginalised. Nationalist internet users are very active, and they have become nationalist trolls,\" says Prof Fang. \n",
      "He says online nationalism has been \"implicitly endorsed\" by Chinese authorities because it could help boost the support for the government - but it could also backfire if this gets radical. \n",
      "\"Words specifically used during the Cultural Revolution, such as 'class struggle' and 'dictatorship of the proletariat' have re-emerged. It means that China's reforms are on their way to failure and regression,\" she says.  \n",
      "After watching the coronavirus spread to almost every corner of the world, Fang Fang says China's decision to impose a 76-day lockdown in Wuhan was the right one, a stance reflected in her diary entries at the time.  \n",
      "\"The lockdown was a heavy price we paid in exchange for now being able to live freely in Wuhan without the virus,\" she says. \n",
      "Wuhan has reported no local cases since May. It does not count asymptomatic cases.\n",
      "\"If severe measures had not been adopted, the situation in Wuhan would have further spiralled out of control. So I expressed support for almost all disease control measures.\"   \n",
      "And Fang Fang says other countries can learn from aspects of China's approach. \n",
      "\"During the outbreak, all gatherings were banned, everyone was required to wear a mask, and a health QR code was needed to enter a housing complex. I think all these very good measures helped China control the virus.\" \n",
      "But China's ultimate success in containing the virus domestically does not negate, she argues, the need to investigate the initial handling of the outbreak by the authorities. \n",
      "\"There has been no thorough investigation into the reasons why it took so long to tackle the outbreak,\" Fang Fang says.\n",
      "She questions why at first authorities said the virus was \"preventable and controllable\".\n",
      "But Fang Fang says the world, not just China, needs to learn from the pandemic.\n",
      "\"It is human ignorance and arrogance that let the virus spread so widely and for so long.\"\n",
      "Professor Michael Berry, who translated her diaries into English, believes \"her resilience is rooted in the knowledge that she is doing the right thing\".\n",
      "\"She is not a dissident, she is not calling for the overthrow of the government; she is an individual that documented what she saw, felt, and experienced during the Wuhan lockdown,\" he said. \n",
      "But in doing that he argues, she does explore bigger questions \"not only the handling of the pandemic, but about what kind of society Chinese citizens want to create for themselves\".\n",
      "In Wuhan, Fang Fang's personal life was dealt a blow when her 16-year-old dog, a constant companion throughout the lockdown, died in April. But she is resilient.  \n",
      "She is still writing in the hope that her works will once again be published in her own country, and says she has no regrets.\n",
      "\"I definitely will not make compromises, and there's no need to stay silent.\" \n",
      "Additional reporting by Lara Owen\n",
      "BBC 100 Women names 100 influential and inspirational women around the world every year, and tells their stories. Follow us on Instagram and Facebook and join the conversation, using#BBC100Women.\n",
      "BBC 100 Women 2020: Who is on the list this year?\n",
      "Sanna Marin: The feminist PM leading a coalition of women\n",
      "Trump's farewell: We did what we came to do\n",
      "\"We did what we came to do - and so much more,\" Mr Trump says, a day before he leaves office.\n",
      "How will history remember Trump?\n",
      "US: China 'committed genocide against Uighurs'\n",
      "Women ending silence of sport abuse shake Greece\n",
      "Cycling around the world with cancer. VideoCycling around the world with cancer\n",
      "Biden's Iran nuclear challenge. VideoBiden's Iran nuclear challenge\n",
      "French students protest at Covid mental health toll\n",
      "Why has South Africa not started vaccinating?\n",
      "BBC Worklife: Why some still don't trust women to lead\n",
      "Baby Done comedy explores reluctance at motherhood\n",
      "The cartoonists making mental health their muse\n",
      "The other women in Kamala Harris' college photo\n",
      "Football phrases\n",
      "15 sayings from around the world\n",
      "Trump's farewell: We did what we came to do1\n",
      "The other women in Kamala Harris' college photo2\n",
      "Pay-out over Starbucks 'slanty' eyes drawing3\n",
      "Owners of Tiger King zoo ordered to surrender cubs4\n",
      "Pink seesaws at US-Mexico wall win design award5\n",
      "Stolen 500-year-old painting found in cupboard6\n",
      "US: China 'committed genocide against Uighurs'7\n",
      "Thai woman jailed for 43 years over monarchy posts8\n",
      "Man dies in cold just yards from shelter9\n",
      "Meghan's privacy invaded over letter, court told10\n",
      "Â© 2021 BBC. The BBC is not responsible for the content of external sites. Read about our approach to external linking.\n"
     ]
    }
   ],
   "source": [
    "content_p_tags = nytimes_content_soup.body.findAll('p')\n",
    "# print(content_p_tags)\n",
    "for p_tag in content_p_tags:\n",
    "#     print(p_tag)\n",
    "    print(p_tag.text)"
   ]
  },
  {
   "cell_type": "code",
   "execution_count": 8,
   "metadata": {},
   "outputs": [
    {
     "name": "stdout",
     "output_type": "stream",
     "text": [
      "                                       paragraph_text\n",
      "0   By Fan Wang and Grace TsoiBBC World Service, H...\n",
      "1   She has faced a nationalist backlash for her d...\n",
      "2   'When facing a catastrophe, it's vital to voic...\n",
      "3   In late January, when Wuhan became the first p...\n",
      "4   The (number missing) -year-old's daily posts o...\n",
      "..                                                ...\n",
      "66  US: China 'committed genocide against Uighurs'...\n",
      "67  Thai woman jailed for (number missing) years o...\n",
      "68  Man dies in cold just yards from shelter (numb...\n",
      "69  Meghan's privacy invaded over letter, court to...\n",
      "70  (number missing) BBC. The BBC is not responsib...\n",
      "\n",
      "[71 rows x 1 columns]\n"
     ]
    }
   ],
   "source": [
    "# The content of this news is almost perfect, and the cleaning work I'm doing is actually superfluous.\n",
    "# Anyway, the following code is used to satisfy the requirements of the homework\n",
    "\n",
    "content_paragraphs = []\n",
    "for p_tag in content_p_tags:\n",
    "    content_paragraphs.append(re.sub(r'\\d+', ' (number missing) ', p_tag.text))\n",
    "\n",
    "cleaned_content_paragraphs = []\n",
    "for paragraph in content_paragraphs:\n",
    "    cleaned_paragraph = re.sub(r'Â©', \"\", paragraph) # remove non-readable characters\n",
    "    cleaned_paragraph = re.sub(r' +', \" \", cleaned_paragraph) # remove extra spaces\n",
    "    cleaned_paragraph = re.sub(r'^\\s+', \"\", cleaned_paragraph) # remove leading spaces\n",
    "    cleaned_paragraph = re.sub(r'\\s+$', \"\", cleaned_paragraph) # # remove trailing spaces\n",
    "    cleaned_paragraph = re.sub(r'\"', \"'\", cleaned_paragraph) # to meet the homework's requirement\n",
    "    cleaned_content_paragraphs.append(cleaned_paragraph)\n",
    "    \n",
    "    \n",
    "# for paragraph in content_paragraphs:\n",
    "#     print(paragraph)\n",
    "content_paragraphs_df = pandas.DataFrame({'paragraph_text': cleaned_content_paragraphs})\n",
    "print(content_paragraphs_df)"
   ]
  },
  {
   "cell_type": "code",
   "execution_count": 9,
   "metadata": {},
   "outputs": [
    {
     "name": "stdout",
     "output_type": "stream",
     "text": [
      "[<p class=\"css-1pjc44v-Contributor e5xb54n0\"><span><strong>By Fan Wang and Grace Tsoi</strong><br/>BBC World Service, Hong Kong</span></p>, <p><style data-emotion-css=\"14iz86j-BoldText\">.css-14iz86j-BoldText{font-weight:bold;}</style><b class=\"css-14iz86j-BoldText e5tfeyi0\">She has faced a nationalist backlash for her diaries documenting life in Wuhan in the early days of the coronavirus outbreak, but Chinese author Fang Fang she says she will not be silenced.</b></p>, <p>\"When facing a catastrophe, it's vital to voice your opinion and give your advice,\" she told BBC Chinese in a rare email interview with international media.</p>, <p>In late January, when Wuhan became the first place in the world to enter a state of complete lockdown, many of the city's 11 million residents found solace in reading Fang Fang's online diaries. They also provided a revealing glimpse into the city where the virus first emerged.</p>, <p>The 65-year-old's daily posts on her Weibo account, the Chinese equivalent of Twitter, chronicled life living alone with her dog during the lockdown, as well as what she described as the dark side of the authority's response.</p>, <p>They were initially well-received, but later provoked a wave of criticism from those who saw her efforts as unpatriotic.</p>, <p>As part of the BBC 100 Women season, Fang Fang told the BBC why, despite the condemnation, she does not regret speaking out.</p>, <p>Fang Fang says that she wrote the diaries as part of a process that helped her to \"channel her mind\" and reflect on what was happening during lockdown. </p>, <p>She captured what it was like to be isolated from the rest of the world; the collective pain and sadness of witnessing the loss of life; and the anger at local officials for what she views as their mishandling of the crisis.</p>, <p>At first, her online diary was praised domestically, with state media the China News Service describing her posts as inspiring, \"with vivid narrative, real emotions and a straightforward style\".</p>, <p>But the reaction significantly shifted when they gained international attention and the criticism reached fever pitch when news emerged that her diaries would be translated into English and picked up by US publisher HarperCollins. </p>, <p>\"Because of the 60 diary entries I wrote during the pandemicâ¦ I am seen as the enemy by the authorities,\" she said. </p>, <p>Chinese media outlets, she says, have been ordered not to publish any of her articles. And her books, including new works and reprints, have been shunned by Chinese publishers. </p>, <p>\"For a writer, it's a very, very cruel thing,\" she told the BBC.   </p>, <p>\"Maybe it's because I have expressed more sympathy for ordinary people than applauding the government. I didn't flatter or praise the government, so I am guilty.\"  </p>, <p>Fang Fang says that the backlash was not restricted to official disapproval.</p>, <p>She says she has received tens of thousands of abusive messages, including death threats. On social media she has been labelled a traitor, accused of conspiring with the West to attack the Chinese state, with some even suggesting she was paid by the American intelligence agency, the CIA, to write the diaries.</p>, <p>Fang Fang says she was surprised and confused by the viciousness of the attacks.</p>, <p>\"It's very difficult for me to understand their hatred of me. My records are objective and mild,\" she says.  </p>, <p>The attacks she says remind her of the 1966-1976 Cultural Revolution, a period of violent mob rule which led to the purging of intellectuals and \"class enemies\", including people with ties to the West.</p>, <p>China is sensitive about its image abroad, and Fang Fang's diaries came during a time when the country was under immense international pressure for alleged cover-ups. </p>, <p>Fang Kecheng, a journalism professor at the Chinese University of Hong Kong, says the attacks on Fang Fang follow a pattern of online nationalism. \"Nationalism has become the mainstream on the Chinese internet in recent years, and liberalism has been marginalised. Nationalist internet users are very active, and they have become nationalist trolls,\" says Prof Fang. </p>, <p>He says online nationalism has been \"implicitly endorsed\" by Chinese authorities because it could help boost the support for the government - but it could also backfire if this gets radical. </p>, <p>\"Words specifically used during the Cultural Revolution, such as 'class struggle' and 'dictatorship of the proletariat' have re-emerged. It means that China's reforms are on their way to failure and regression,\" she says.  </p>, <p>After watching the coronavirus spread to almost every corner of the world, Fang Fang says China's decision to impose a 76-day lockdown in Wuhan was the right one, a stance reflected in her diary entries at the time.  </p>, <p>\"The lockdown was a heavy price we paid in exchange for now being able to live freely in Wuhan without the virus,\" she says. </p>, <p>Wuhan has reported no local cases since May. It does not count asymptomatic cases.</p>, <p>\"If severe measures had not been adopted, the situation in Wuhan would have further spiralled out of control. So I expressed support for almost all disease control measures.\"   </p>, <p>And Fang Fang says other countries can learn from aspects of China's approach. </p>, <p>\"During the outbreak, all gatherings were banned, everyone was required to wear a mask, and a health QR code was needed to enter a housing complex. I think all these very good measures helped China control the virus.\" </p>, <p>But China's ultimate success in containing the virus domestically does not negate, she argues, the need to investigate the initial handling of the outbreak by the authorities. </p>, <p>\"There has been no thorough investigation into the reasons why it took so long to tackle the outbreak,\" Fang Fang says.</p>, <p>She questions why at first authorities said the virus was \"preventable and controllable\".</p>, <p>But Fang Fang says the world, not just China, needs to learn from the pandemic.</p>, <p>\"It is human ignorance and arrogance that let the virus spread so widely and for so long.\"</p>, <p>Professor Michael Berry, who translated her diaries into English, believes \"her resilience is rooted in the knowledge that she is doing the right thing\".</p>, <p>\"She is not a dissident, she is not calling for the overthrow of the government; she is an individual that documented what she saw, felt, and experienced during the Wuhan lockdown,\" he said. </p>, <p>But in doing that he argues, she does explore bigger questions \"not only the handling of the pandemic, but about what kind of society Chinese citizens want to create for themselves\".</p>, <p>In Wuhan, Fang Fang's personal life was dealt a blow when her 16-year-old dog, a constant companion throughout the lockdown, died in April. But she is resilient.  </p>, <p>She is still writing in the hope that her works will once again be published in her own country, and says she has no regrets.</p>, <p>\"I definitely will not make compromises, and there's no need to stay silent.\" </p>, <p><style data-emotion-css=\"po6dm6-ItalicText\">.css-po6dm6-ItalicText{font-style:italic;}</style><i class=\"css-po6dm6-ItalicText e5tfeyi1\">Additional reporting by Lara Owen</i></p>, <p><a class=\"css-1xgj2ad-InlineLink e1no5rhv0\" href=\"http://www.bbc.co.uk/news/world-24371433\">BBC 100 Women</a><i class=\"css-po6dm6-ItalicText e5tfeyi1\"> names 100 influential and inspirational women around the world every year, and tells their stories. Follow us on </i><a class=\"css-1xgj2ad-InlineLink e1no5rhv0\" href=\"https://www.instagram.com/bbc100women/?hl=en\">Instagram</a><i class=\"css-po6dm6-ItalicText e5tfeyi1\"> and </i><a class=\"css-1xgj2ad-InlineLink e1no5rhv0\" href=\"https://www.facebook.com/BBC100women/?fref=ts\">Facebook </a><i class=\"css-po6dm6-ItalicText e5tfeyi1\">and join the conversation, using</i><i class=\"css-po6dm6-ItalicText e5tfeyi1\">#BBC100Women</i>.</p>, <p class=\"css-13k1mrq-PromoHeadline e1f5wbog2\"><style data-emotion-css=\"1hlxxic-PromoLink\">.css-1hlxxic-PromoLink:link{color:inherit;}.css-1hlxxic-PromoLink:visited{color:#696969;}.css-1hlxxic-PromoLink:link,.css-1hlxxic-PromoLink:visited{-webkit-text-decoration:none;text-decoration:none;}.css-1hlxxic-PromoLink:link:hover,.css-1hlxxic-PromoLink:visited:hover,.css-1hlxxic-PromoLink:link:focus,.css-1hlxxic-PromoLink:visited:focus{color:#B80000;-webkit-text-decoration:underline;text-decoration:underline;}.css-1hlxxic-PromoLink:link::after,.css-1hlxxic-PromoLink:visited::after{content:'';position:absolute;top:0;right:0;bottom:0;left:0;z-index:2;}</style><a class=\"css-1hlxxic-PromoLink e1f5wbog6\" href=\"/news/world-55042935\"><span aria-hidden=\"false\">BBC 100 Women 2020: Who is on the list this year?</span></a></p>, <p class=\"css-13k1mrq-PromoHeadline e1f5wbog2\"><a class=\"css-1hlxxic-PromoLink e1f5wbog6\" href=\"/news/stories-55020994\"><span aria-hidden=\"false\">Sanna Marin: The feminist PM leading a coalition of women</span></a></p>, <p class=\"css-13k1mrq-PromoHeadline e1f5wbog2\"><a class=\"css-1hlxxic-PromoLink e1f5wbog6\" href=\"/news/world-us-canada-55727022\"><span aria-hidden=\"false\">Trump's farewell: We did what we came to do</span></a></p>, <p>\"We did what we came to do - and so much more,\" Mr Trump says, a day before he leaves office.</p>, <p class=\"css-13k1mrq-PromoHeadline e1f5wbog2\"><a class=\"css-1hlxxic-PromoLink e1f5wbog6\" href=\"/news/world-us-canada-55640427\"><span aria-hidden=\"false\">How will history remember Trump?</span></a></p>, <p class=\"css-13k1mrq-PromoHeadline e1f5wbog2\"><a class=\"css-1hlxxic-PromoLink e1f5wbog6\" href=\"/news/world-us-canada-55723522\"><span aria-hidden=\"false\">US: China 'committed genocide against Uighurs'</span></a></p>, <p class=\"css-13k1mrq-PromoHeadline e1f5wbog2\"><a class=\"css-1hlxxic-PromoLink e1f5wbog6\" href=\"/news/world-europe-55716338\"><span aria-hidden=\"false\">Women ending silence of sport abuse shake Greece</span></a></p>, <p class=\"css-13k1mrq-PromoHeadline e1f5wbog2\"><style data-emotion-css=\"1snjdh1-IconContainer\">.css-1snjdh1-IconContainer{display:none;height:0.875em;width:0.875em;vertical-align:-0.0625em;margin-right:0.25em;}</style><span class=\"css-1snjdh1-IconContainer e1f5wbog8\"><svg aria-hidden=\"true\" class=\"css-47d2zd-StyledIcon e6m7o990\" focusable=\"false\" height=\"1em\" viewbox=\"0 0 32 32\" width=\"1em\"><path d=\"M29 16L5.8 1v30L29 16z\"></path></svg></span><a class=\"css-1hlxxic-PromoLink e1f5wbog6\" href=\"/news/world-asia-55724995\"><span class=\"css-oyqyoe-VisuallyHidden e1y6uwnp0\">Cycling around the world with cancer. Video</span><span aria-hidden=\"true\">Cycling around the world with cancer</span></a></p>, <p class=\"css-13k1mrq-PromoHeadline e1f5wbog2\"><span class=\"css-1snjdh1-IconContainer e1f5wbog8\"><svg aria-hidden=\"true\" class=\"css-47d2zd-StyledIcon e6m7o990\" focusable=\"false\" height=\"1em\" viewbox=\"0 0 32 32\" width=\"1em\"><path d=\"M29 16L5.8 1v30L29 16z\"></path></svg></span><a class=\"css-1hlxxic-PromoLink e1f5wbog6\" href=\"/news/world-middle-east-55726134\"><span class=\"css-oyqyoe-VisuallyHidden e1y6uwnp0\">Biden's Iran nuclear challenge. Video</span><span aria-hidden=\"true\">Biden's Iran nuclear challenge</span></a></p>, <p class=\"css-13k1mrq-PromoHeadline e1f5wbog2\"><a class=\"css-1hlxxic-PromoLink e1f5wbog6\" href=\"/news/world-europe-55716340\"><span aria-hidden=\"false\">French students protest at Covid mental health toll</span></a></p>, <p class=\"css-13k1mrq-PromoHeadline e1f5wbog2\"><a class=\"css-1hlxxic-PromoLink e1f5wbog6\" href=\"/news/world-africa-55675806\"><span aria-hidden=\"false\">Why has South Africa not started vaccinating?</span></a></p>, <p class=\"css-13k1mrq-PromoHeadline e1f5wbog2\"><a class=\"css-1hlxxic-PromoLink e1f5wbog6\" href=\"https://www.bbc.com/worklife/article/20210108-why-do-we-still-distrust-women-leaders\"><span aria-hidden=\"false\">BBC Worklife: Why some still don't trust women to lead</span></a></p>, <p class=\"css-13k1mrq-PromoHeadline e1f5wbog2\"><a class=\"css-1hlxxic-PromoLink e1f5wbog6\" href=\"/news/entertainment-arts-55719178\"><span aria-hidden=\"false\">Baby Done comedy explores reluctance at motherhood</span></a></p>, <p class=\"css-13k1mrq-PromoHeadline e1f5wbog2\"><a class=\"css-1hlxxic-PromoLink e1f5wbog6\" href=\"/news/disability-55562107\"><span aria-hidden=\"false\">The cartoonists making mental health their muse</span></a></p>, <p class=\"css-13k1mrq-PromoHeadline e1f5wbog2\"><a class=\"css-1hlxxic-PromoLink e1f5wbog6\" href=\"/news/world-us-canada-55690001\"><span aria-hidden=\"false\">The other women in Kamala Harris' college photo</span></a></p>, <p class=\"css-13k1mrq-PromoHeadline e1f5wbog2\"><a class=\"css-1hlxxic-PromoLink e1f5wbog6\" href=\"http://www.bbc.co.uk/programmes/articles/51MWxHsTD7YhW4gTWWtPvKf/end-to-end-with-15-football-phrases-from-around-the-world?intc_type=promo&amp;intc_location=news&amp;intc_campaign=fifteenfootballphrases_article&amp;intc_linkname=radio4_sm_mid_c3\"><span aria-hidden=\"false\">Football phrases</span></a></p>, <p>15 sayings from around the world</p>, <p class=\"css-13k1mrq-PromoHeadline e1f5wbog2\"><a class=\"css-1hlxxic-PromoLink e1f5wbog6\" href=\"/news/world-us-canada-55727022\"><span aria-hidden=\"false\"><style data-emotion-css=\"orcmk8-HeadlineContainer\">.css-orcmk8-HeadlineContainer{display:-webkit-box;display:-webkit-flex;display:-ms-flexbox;display:flex;-webkit-box-pack:justify;-webkit-justify-content:space-between;-ms-flex-pack:justify;justify-content:space-between;}</style><span class=\"css-orcmk8-HeadlineContainer e1ia0oo91\">Trump's farewell: We did what we came to do<style data-emotion-css=\"1dedj2h-Rank\">.css-1dedj2h-Rank{-webkit-align-self:center;-ms-flex-item-align:center;align-self:center;color:#B80000;margin-left:3.125rem;}</style><span class=\"css-1dedj2h-Rank e1ia0oo94\">1</span></span></span></a></p>, <p class=\"css-13k1mrq-PromoHeadline e1f5wbog2\"><a class=\"css-1hlxxic-PromoLink e1f5wbog6\" href=\"/news/world-us-canada-55690001\"><span aria-hidden=\"false\"><span class=\"css-orcmk8-HeadlineContainer e1ia0oo91\">The other women in Kamala Harris' college photo<span class=\"css-1dedj2h-Rank e1ia0oo94\">2</span></span></span></a></p>, <p class=\"css-13k1mrq-PromoHeadline e1f5wbog2\"><a class=\"css-1hlxxic-PromoLink e1f5wbog6\" href=\"/news/world-europe-55725235\"><span aria-hidden=\"false\"><span class=\"css-orcmk8-HeadlineContainer e1ia0oo91\">Pay-out over Starbucks 'slanty' eyes drawing<span class=\"css-1dedj2h-Rank e1ia0oo94\">3</span></span></span></a></p>, <p class=\"css-13k1mrq-PromoHeadline e1f5wbog2\"><a class=\"css-1hlxxic-PromoLink e1f5wbog6\" href=\"/news/world-us-canada-55723476\"><span aria-hidden=\"false\"><span class=\"css-orcmk8-HeadlineContainer e1ia0oo91\">Owners of Tiger King zoo ordered to surrender cubs<span class=\"css-1dedj2h-Rank e1ia0oo94\">4</span></span></span></a></p>, <p class=\"css-13k1mrq-PromoHeadline e1f5wbog2\"><a class=\"css-1hlxxic-PromoLink e1f5wbog6\" href=\"/news/world-us-canada-55718478\"><span aria-hidden=\"false\"><span class=\"css-orcmk8-HeadlineContainer e1ia0oo91\">Pink seesaws at US-Mexico wall win design award<span class=\"css-1dedj2h-Rank e1ia0oo94\">5</span></span></span></a></p>, <p class=\"css-13k1mrq-PromoHeadline e1f5wbog2\"><a class=\"css-1hlxxic-PromoLink e1f5wbog6\" href=\"/news/world-europe-55719685\"><span aria-hidden=\"false\"><span class=\"css-orcmk8-HeadlineContainer e1ia0oo91\">Stolen 500-year-old painting found in cupboard<span class=\"css-1dedj2h-Rank e1ia0oo94\">6</span></span></span></a></p>, <p class=\"css-13k1mrq-PromoHeadline e1f5wbog2\"><a class=\"css-1hlxxic-PromoLink e1f5wbog6\" href=\"/news/world-us-canada-55723522\"><span aria-hidden=\"false\"><span class=\"css-orcmk8-HeadlineContainer e1ia0oo91\">US: China 'committed genocide against Uighurs'<span class=\"css-1dedj2h-Rank e1ia0oo94\">7</span></span></span></a></p>, <p class=\"css-13k1mrq-PromoHeadline e1f5wbog2\"><a class=\"css-1hlxxic-PromoLink e1f5wbog6\" href=\"/news/world-asia-55723470\"><span aria-hidden=\"false\"><span class=\"css-orcmk8-HeadlineContainer e1ia0oo91\">Thai woman jailed for 43 years over monarchy posts<span class=\"css-1dedj2h-Rank e1ia0oo94\">8</span></span></span></a></p>, <p class=\"css-13k1mrq-PromoHeadline e1f5wbog2\"><a class=\"css-1hlxxic-PromoLink e1f5wbog6\" href=\"/news/world-us-canada-55723811\"><span aria-hidden=\"false\"><span class=\"css-orcmk8-HeadlineContainer e1ia0oo91\">Man dies in cold just yards from shelter<span class=\"css-1dedj2h-Rank e1ia0oo94\">9</span></span></span></a></p>, <p class=\"css-13k1mrq-PromoHeadline e1f5wbog2\"><a class=\"css-1hlxxic-PromoLink e1f5wbog6\" href=\"/news/uk-55721547\"><span aria-hidden=\"false\"><span class=\"css-orcmk8-HeadlineContainer e1ia0oo91\">Meghan's privacy invaded over letter, court told<span class=\"css-1dedj2h-Rank e1ia0oo94\">10</span></span></span></a></p>, <p>Â© 2021 BBC. The BBC is not responsible for the content of external sites.<!-- --> <style data-emotion-css=\"1xgx53b-Link\">.css-1xgx53b-Link{font-family:ReithSans,Helvetica,Arial,freesans,sans-serif;font-weight:700;-webkit-text-decoration:none;text-decoration:none;color:#FFFFFF;}.css-1xgx53b-Link:hover,.css-1xgx53b-Link:focus{-webkit-text-decoration:underline;text-decoration:underline;}</style><a class=\"css-1xgx53b-Link ejnx8uh1\" href=\"https://www.bbc.co.uk/help/web/links/\">Read about our approach to external linking.</a></p>]\n"
     ]
    }
   ],
   "source": [
    "# spidering\n",
    "print(content_p_tags)"
   ]
  },
  {
   "cell_type": "code",
   "execution_count": 10,
   "metadata": {},
   "outputs": [
    {
     "name": "stdout",
     "output_type": "stream",
     "text": [
      "[('http://www.bbc.co.uk/news/world-55042935', 43, 'BBC 100 Women 2020: Who is on the list this year?'), ('http://www.bbc.co.uk/news/stories-55020994', 44, 'Sanna Marin: The feminist PM leading a coalition of women'), ('http://www.bbc.co.uk/news/world-us-canada-55727022', 45, \"Trump's farewell: We did what we came to do\"), ('http://www.bbc.co.uk/news/world-us-canada-55640427', 47, 'How will history remember Trump?'), ('http://www.bbc.co.uk/news/world-us-canada-55723522', 48, \"US: China 'committed genocide against Uighurs'\")]\n"
     ]
    }
   ],
   "source": [
    "# The majority of links belong to relative links. \n",
    "# Others are absolute links like 'https://www.facebook.com/BBC100women/?fref=ts'\n",
    "bbc_base_url = \"http://www.bbc.co.uk\"\n",
    "other_p_urls = []\n",
    "for paragraph_number, p_tag in enumerate(content_p_tags):\n",
    "    #     print(p_tag)\n",
    "    tag_links = p_tag.findAll('a', href=re.compile('^/news/'))\n",
    "#     print(tag_links)\n",
    "    for a_tag in tag_links:\n",
    "        relurl = a_tag.get('href')\n",
    "        link_text = a_tag.text\n",
    "#         print(relurl)\n",
    "#         print(link_text)\n",
    "        other_p_urls.append(\n",
    "            (\n",
    "                urllib.parse.urljoin(bbc_base_url, relurl),\n",
    "                paragraph_number,\n",
    "                link_text,\n",
    "            )\n",
    "        )\n",
    "print(other_p_urls[:5])"
   ]
  },
  {
   "cell_type": "code",
   "execution_count": 11,
   "metadata": {},
   "outputs": [
    {
     "name": "stdout",
     "output_type": "stream",
     "text": [
      "71\n",
      "range(0, 71)\n"
     ]
    },
    {
     "data": {
      "text/html": [
       "<div>\n",
       "<style scoped>\n",
       "    .dataframe tbody tr th:only-of-type {\n",
       "        vertical-align: middle;\n",
       "    }\n",
       "\n",
       "    .dataframe tbody tr th {\n",
       "        vertical-align: top;\n",
       "    }\n",
       "\n",
       "    .dataframe thead th {\n",
       "        text-align: right;\n",
       "    }\n",
       "</style>\n",
       "<table border=\"1\" class=\"dataframe\">\n",
       "  <thead>\n",
       "    <tr style=\"text-align: right;\">\n",
       "      <th></th>\n",
       "      <th>paragraph_text</th>\n",
       "      <th>source</th>\n",
       "      <th>paragraph_number</th>\n",
       "    </tr>\n",
       "  </thead>\n",
       "  <tbody>\n",
       "    <tr>\n",
       "      <th>0</th>\n",
       "      <td>By Fan Wang and Grace TsoiBBC World Service, H...</td>\n",
       "      <td>https://www.bbc.com/news/world-asia-54987675</td>\n",
       "      <td>0</td>\n",
       "    </tr>\n",
       "    <tr>\n",
       "      <th>1</th>\n",
       "      <td>She has faced a nationalist backlash for her d...</td>\n",
       "      <td>https://www.bbc.com/news/world-asia-54987675</td>\n",
       "      <td>1</td>\n",
       "    </tr>\n",
       "    <tr>\n",
       "      <th>2</th>\n",
       "      <td>'When facing a catastrophe, it's vital to voic...</td>\n",
       "      <td>https://www.bbc.com/news/world-asia-54987675</td>\n",
       "      <td>2</td>\n",
       "    </tr>\n",
       "    <tr>\n",
       "      <th>3</th>\n",
       "      <td>In late January, when Wuhan became the first p...</td>\n",
       "      <td>https://www.bbc.com/news/world-asia-54987675</td>\n",
       "      <td>3</td>\n",
       "    </tr>\n",
       "    <tr>\n",
       "      <th>4</th>\n",
       "      <td>The (number missing) -year-old's daily posts o...</td>\n",
       "      <td>https://www.bbc.com/news/world-asia-54987675</td>\n",
       "      <td>4</td>\n",
       "    </tr>\n",
       "    <tr>\n",
       "      <th>...</th>\n",
       "      <td>...</td>\n",
       "      <td>...</td>\n",
       "      <td>...</td>\n",
       "    </tr>\n",
       "    <tr>\n",
       "      <th>66</th>\n",
       "      <td>US: China 'committed genocide against Uighurs'...</td>\n",
       "      <td>https://www.bbc.com/news/world-asia-54987675</td>\n",
       "      <td>66</td>\n",
       "    </tr>\n",
       "    <tr>\n",
       "      <th>67</th>\n",
       "      <td>Thai woman jailed for (number missing) years o...</td>\n",
       "      <td>https://www.bbc.com/news/world-asia-54987675</td>\n",
       "      <td>67</td>\n",
       "    </tr>\n",
       "    <tr>\n",
       "      <th>68</th>\n",
       "      <td>Man dies in cold just yards from shelter (numb...</td>\n",
       "      <td>https://www.bbc.com/news/world-asia-54987675</td>\n",
       "      <td>68</td>\n",
       "    </tr>\n",
       "    <tr>\n",
       "      <th>69</th>\n",
       "      <td>Meghan's privacy invaded over letter, court to...</td>\n",
       "      <td>https://www.bbc.com/news/world-asia-54987675</td>\n",
       "      <td>69</td>\n",
       "    </tr>\n",
       "    <tr>\n",
       "      <th>70</th>\n",
       "      <td>(number missing) BBC. The BBC is not responsib...</td>\n",
       "      <td>https://www.bbc.com/news/world-asia-54987675</td>\n",
       "      <td>70</td>\n",
       "    </tr>\n",
       "  </tbody>\n",
       "</table>\n",
       "<p>71 rows × 3 columns</p>\n",
       "</div>"
      ],
      "text/plain": [
       "                                       paragraph_text  \\\n",
       "0   By Fan Wang and Grace TsoiBBC World Service, H...   \n",
       "1   She has faced a nationalist backlash for her d...   \n",
       "2   'When facing a catastrophe, it's vital to voic...   \n",
       "3   In late January, when Wuhan became the first p...   \n",
       "4   The (number missing) -year-old's daily posts o...   \n",
       "..                                                ...   \n",
       "66  US: China 'committed genocide against Uighurs'...   \n",
       "67  Thai woman jailed for (number missing) years o...   \n",
       "68  Man dies in cold just yards from shelter (numb...   \n",
       "69  Meghan's privacy invaded over letter, court to...   \n",
       "70  (number missing) BBC. The BBC is not responsib...   \n",
       "\n",
       "                                          source  paragraph_number  \n",
       "0   https://www.bbc.com/news/world-asia-54987675                 0  \n",
       "1   https://www.bbc.com/news/world-asia-54987675                 1  \n",
       "2   https://www.bbc.com/news/world-asia-54987675                 2  \n",
       "3   https://www.bbc.com/news/world-asia-54987675                 3  \n",
       "4   https://www.bbc.com/news/world-asia-54987675                 4  \n",
       "..                                           ...               ...  \n",
       "66  https://www.bbc.com/news/world-asia-54987675                66  \n",
       "67  https://www.bbc.com/news/world-asia-54987675                67  \n",
       "68  https://www.bbc.com/news/world-asia-54987675                68  \n",
       "69  https://www.bbc.com/news/world-asia-54987675                69  \n",
       "70  https://www.bbc.com/news/world-asia-54987675                70  \n",
       "\n",
       "[71 rows x 3 columns]"
      ]
     },
     "execution_count": 11,
     "metadata": {},
     "output_type": "execute_result"
    }
   ],
   "source": [
    "content_paragraphs_df['source'] = [bbc_fangfang_report] * len(content_paragraphs_df['paragraph_text'])\n",
    "print(len(content_paragraphs_df['paragraph_text']))\n",
    "content_paragraphs_df['paragraph_number'] = range(len(content_paragraphs_df['paragraph_text']))\n",
    "print(range(len(content_paragraphs_df['paragraph_text'])))\n",
    "content_paragraphs_df"
   ]
  },
  {
   "cell_type": "code",
   "execution_count": 12,
   "metadata": {
    "code_folding": []
   },
   "outputs": [],
   "source": [
    "content_paragraphs_df['source_paragraph_number'] = [None] * len(content_paragraphs_df['paragraph_text'])\n",
    "content_paragraphs_df['source_paragraph_text'] = [None] * len(content_paragraphs_df['paragraph_text'])\n",
    "\n",
    "def getTextFromWikiPage(targetURL, sourceParNum, sourceText, depth):\n",
    "    if depth==0:\n",
    "        return pandas.DataFrame(parsDict) \n",
    "    else:\n",
    "        depth = depth - 1 \n",
    "        #Make a dict to store data before adding it to the DataFrame\n",
    "        parsDict = {'source' : [], 'paragraph_number' : [], 'paragraph_text' : [], 'source_paragraph_number' : [],  'source_paragraph_text' : []}\n",
    "        #Now we get the page\n",
    "        r = requests.get(targetURL)\n",
    "        soup = bs4.BeautifulSoup(r.text, 'html.parser')\n",
    "        #enumerating gives use the paragraph number\n",
    "        for parNum, pTag in enumerate(soup.body.findAll('p')):\n",
    "            #same regex as before\n",
    "            parsDict['paragraph_text'].append(re.sub(r' +', ' ', pTag.text)) #!!!!\n",
    "            parsDict['paragraph_number'].append(parNum)\n",
    "            parsDict['source'].append(targetURL)\n",
    "            parsDict['source_paragraph_number'].append(sourceParNum)\n",
    "            parsDict['source_paragraph_text'].append(sourceText)\n",
    "            \n",
    "        # TODO: construct a other_p_urls\n",
    "        content_p_tags = soup.body.findAll('p')\n",
    "        bbc_base_url = \"http://www.bbc.co.uk\"\n",
    "        other_p_urls = []\n",
    "        for paragraph_number, p_tag in enumerate(content_p_tags):\n",
    "            tag_links = p_tag.findAll('a', href=re.compile('^/news/'))\n",
    "            for a_tag in tag_links:\n",
    "                relurl = a_tag.get('href')\n",
    "                link_text = a_tag.text\n",
    "                other_p_urls.append(\n",
    "                    (\n",
    "                        urllib.parse.urljoin(bbc_base_url, relurl),\n",
    "                        paragraph_number,\n",
    "                        link_text,\n",
    "                    )\n",
    "                )\n",
    "        for url_tuple in other_p_urls[:1]:\n",
    "            print(url_tuple)\n",
    "            return getTextFromWikiPage(*url_tuple, depth)\n",
    "        \n",
    "    "
   ]
  },
  {
   "cell_type": "code",
   "execution_count": 13,
   "metadata": {
    "code_folding": [],
    "scrolled": true
   },
   "outputs": [
    {
     "ename": "NameError",
     "evalue": "name 'url_tuple' is not defined",
     "output_type": "error",
     "traceback": [
      "\u001b[0;31m---------------------------------------------------------------------------\u001b[0m",
      "\u001b[0;31mNameError\u001b[0m                                 Traceback (most recent call last)",
      "\u001b[0;32m<ipython-input-13-7e8ec9f0e7ba>\u001b[0m in \u001b[0;36m<module>\u001b[0;34m\u001b[0m\n\u001b[0;32m----> 1\u001b[0;31m \u001b[0mcontent_paragraphs_df\u001b[0m \u001b[0;34m=\u001b[0m \u001b[0mcontent_paragraphs_df\u001b[0m\u001b[0;34m.\u001b[0m\u001b[0mappend\u001b[0m\u001b[0;34m(\u001b[0m\u001b[0mgetTextFromWikiPage\u001b[0m\u001b[0;34m(\u001b[0m\u001b[0;34m*\u001b[0m\u001b[0murl_tuple\u001b[0m\u001b[0;34m,\u001b[0m \u001b[0mdepth\u001b[0m\u001b[0;34m=\u001b[0m\u001b[0;36m2\u001b[0m\u001b[0;34m)\u001b[0m\u001b[0;34m,\u001b[0m \u001b[0mignore_index\u001b[0m\u001b[0;34m=\u001b[0m\u001b[0;32mTrue\u001b[0m\u001b[0;34m)\u001b[0m\u001b[0;34m\u001b[0m\u001b[0;34m\u001b[0m\u001b[0m\n\u001b[0m\u001b[1;32m      2\u001b[0m \u001b[0mcontent_paragraphs_df\u001b[0m\u001b[0;34m\u001b[0m\u001b[0;34m\u001b[0m\u001b[0m\n",
      "\u001b[0;31mNameError\u001b[0m: name 'url_tuple' is not defined"
     ]
    }
   ],
   "source": [
    "content_paragraphs_df = content_paragraphs_df.append(getTextFromWikiPage(*url_tuple, depth=2), ignore_index=True)\n",
    "content_paragraphs_df"
   ]
  },
  {
   "cell_type": "code",
   "execution_count": null,
   "metadata": {},
   "outputs": [],
   "source": []
  },
  {
   "cell_type": "code",
   "execution_count": 14,
   "metadata": {
    "code_folding": []
   },
   "outputs": [],
   "source": [
    "content_paragraphs_df['source_paragraph_number'] = [None] * len(content_paragraphs_df['paragraph_text'])\n",
    "content_paragraphs_df['source_paragraph_text'] = [None] * len(content_paragraphs_df['paragraph_text'])\n",
    "\n",
    "def getTextFromWikiPage(targetURL, sourceParNum, sourceText):\n",
    "    #Make a dict to store data before adding it to the DataFrame\n",
    "    parsDict = {'source' : [], 'paragraph_number' : [], 'paragraph_text' : [], 'source_paragraph_number' : [],  'source_paragraph_text' : []}\n",
    "    #Now we get the page\n",
    "    r = requests.get(targetURL)\n",
    "    soup = bs4.BeautifulSoup(r.text, 'html.parser')\n",
    "    #enumerating gives use the paragraph number\n",
    "    for parNum, pTag in enumerate(soup.body.findAll('p')):\n",
    "        #same regex as before\n",
    "        parsDict['paragraph_text'].append(re.sub(r'\\[\\d+\\]', '', pTag.text))\n",
    "        parsDict['paragraph_number'].append(parNum)\n",
    "        parsDict['source'].append(targetURL)\n",
    "        parsDict['source_paragraph_number'].append(sourceParNum)\n",
    "        parsDict['source_paragraph_text'].append(sourceText)\n",
    "    return pandas.DataFrame(parsDict)"
   ]
  },
  {
   "cell_type": "code",
   "execution_count": 15,
   "metadata": {
    "code_folding": [],
    "scrolled": true
   },
   "outputs": [
    {
     "data": {
      "text/html": [
       "<div>\n",
       "<style scoped>\n",
       "    .dataframe tbody tr th:only-of-type {\n",
       "        vertical-align: middle;\n",
       "    }\n",
       "\n",
       "    .dataframe tbody tr th {\n",
       "        vertical-align: top;\n",
       "    }\n",
       "\n",
       "    .dataframe thead th {\n",
       "        text-align: right;\n",
       "    }\n",
       "</style>\n",
       "<table border=\"1\" class=\"dataframe\">\n",
       "  <thead>\n",
       "    <tr style=\"text-align: right;\">\n",
       "      <th></th>\n",
       "      <th>paragraph_text</th>\n",
       "      <th>source</th>\n",
       "      <th>paragraph_number</th>\n",
       "      <th>source_paragraph_number</th>\n",
       "      <th>source_paragraph_text</th>\n",
       "    </tr>\n",
       "  </thead>\n",
       "  <tbody>\n",
       "    <tr>\n",
       "      <th>0</th>\n",
       "      <td>By Fan Wang and Grace TsoiBBC World Service, H...</td>\n",
       "      <td>https://www.bbc.com/news/world-asia-54987675</td>\n",
       "      <td>0</td>\n",
       "      <td>None</td>\n",
       "      <td>None</td>\n",
       "    </tr>\n",
       "    <tr>\n",
       "      <th>1</th>\n",
       "      <td>She has faced a nationalist backlash for her d...</td>\n",
       "      <td>https://www.bbc.com/news/world-asia-54987675</td>\n",
       "      <td>1</td>\n",
       "      <td>None</td>\n",
       "      <td>None</td>\n",
       "    </tr>\n",
       "    <tr>\n",
       "      <th>2</th>\n",
       "      <td>'When facing a catastrophe, it's vital to voic...</td>\n",
       "      <td>https://www.bbc.com/news/world-asia-54987675</td>\n",
       "      <td>2</td>\n",
       "      <td>None</td>\n",
       "      <td>None</td>\n",
       "    </tr>\n",
       "    <tr>\n",
       "      <th>3</th>\n",
       "      <td>In late January, when Wuhan became the first p...</td>\n",
       "      <td>https://www.bbc.com/news/world-asia-54987675</td>\n",
       "      <td>3</td>\n",
       "      <td>None</td>\n",
       "      <td>None</td>\n",
       "    </tr>\n",
       "    <tr>\n",
       "      <th>4</th>\n",
       "      <td>The (number missing) -year-old's daily posts o...</td>\n",
       "      <td>https://www.bbc.com/news/world-asia-54987675</td>\n",
       "      <td>4</td>\n",
       "      <td>None</td>\n",
       "      <td>None</td>\n",
       "    </tr>\n",
       "    <tr>\n",
       "      <th>...</th>\n",
       "      <td>...</td>\n",
       "      <td>...</td>\n",
       "      <td>...</td>\n",
       "      <td>...</td>\n",
       "      <td>...</td>\n",
       "    </tr>\n",
       "    <tr>\n",
       "      <th>391</th>\n",
       "      <td>Edited by Amelia Butterly, Lara Owen, Lorin Bo...</td>\n",
       "      <td>http://www.bbc.co.uk/news/world-55042935</td>\n",
       "      <td>320</td>\n",
       "      <td>43</td>\n",
       "      <td>BBC 100 Women 2020: Who is on the list this year?</td>\n",
       "    </tr>\n",
       "    <tr>\n",
       "      <th>392</th>\n",
       "      <td>BBC 100 Women names 100 influential and inspir...</td>\n",
       "      <td>http://www.bbc.co.uk/news/world-55042935</td>\n",
       "      <td>321</td>\n",
       "      <td>43</td>\n",
       "      <td>BBC 100 Women 2020: Who is on the list this year?</td>\n",
       "    </tr>\n",
       "    <tr>\n",
       "      <th>393</th>\n",
       "      <td>Join us for an exciting digital live event of ...</td>\n",
       "      <td>http://www.bbc.co.uk/news/world-55042935</td>\n",
       "      <td>322</td>\n",
       "      <td>43</td>\n",
       "      <td>BBC 100 Women 2020: Who is on the list this year?</td>\n",
       "    </tr>\n",
       "    <tr>\n",
       "      <th>394</th>\n",
       "      <td>Follow BBC 100 Women on Instagram and Facebook...</td>\n",
       "      <td>http://www.bbc.co.uk/news/world-55042935</td>\n",
       "      <td>323</td>\n",
       "      <td>43</td>\n",
       "      <td>BBC 100 Women 2020: Who is on the list this year?</td>\n",
       "    </tr>\n",
       "    <tr>\n",
       "      <th>395</th>\n",
       "      <td>Â© 2021 BBC. The BBC is not responsible for th...</td>\n",
       "      <td>http://www.bbc.co.uk/news/world-55042935</td>\n",
       "      <td>324</td>\n",
       "      <td>43</td>\n",
       "      <td>BBC 100 Women 2020: Who is on the list this year?</td>\n",
       "    </tr>\n",
       "  </tbody>\n",
       "</table>\n",
       "<p>396 rows × 5 columns</p>\n",
       "</div>"
      ],
      "text/plain": [
       "                                        paragraph_text  \\\n",
       "0    By Fan Wang and Grace TsoiBBC World Service, H...   \n",
       "1    She has faced a nationalist backlash for her d...   \n",
       "2    'When facing a catastrophe, it's vital to voic...   \n",
       "3    In late January, when Wuhan became the first p...   \n",
       "4    The (number missing) -year-old's daily posts o...   \n",
       "..                                                 ...   \n",
       "391  Edited by Amelia Butterly, Lara Owen, Lorin Bo...   \n",
       "392  BBC 100 Women names 100 influential and inspir...   \n",
       "393  Join us for an exciting digital live event of ...   \n",
       "394  Follow BBC 100 Women on Instagram and Facebook...   \n",
       "395  Â© 2021 BBC. The BBC is not responsible for th...   \n",
       "\n",
       "                                           source  paragraph_number  \\\n",
       "0    https://www.bbc.com/news/world-asia-54987675                 0   \n",
       "1    https://www.bbc.com/news/world-asia-54987675                 1   \n",
       "2    https://www.bbc.com/news/world-asia-54987675                 2   \n",
       "3    https://www.bbc.com/news/world-asia-54987675                 3   \n",
       "4    https://www.bbc.com/news/world-asia-54987675                 4   \n",
       "..                                            ...               ...   \n",
       "391      http://www.bbc.co.uk/news/world-55042935               320   \n",
       "392      http://www.bbc.co.uk/news/world-55042935               321   \n",
       "393      http://www.bbc.co.uk/news/world-55042935               322   \n",
       "394      http://www.bbc.co.uk/news/world-55042935               323   \n",
       "395      http://www.bbc.co.uk/news/world-55042935               324   \n",
       "\n",
       "    source_paragraph_number                              source_paragraph_text  \n",
       "0                      None                                               None  \n",
       "1                      None                                               None  \n",
       "2                      None                                               None  \n",
       "3                      None                                               None  \n",
       "4                      None                                               None  \n",
       "..                      ...                                                ...  \n",
       "391                      43  BBC 100 Women 2020: Who is on the list this year?  \n",
       "392                      43  BBC 100 Women 2020: Who is on the list this year?  \n",
       "393                      43  BBC 100 Women 2020: Who is on the list this year?  \n",
       "394                      43  BBC 100 Women 2020: Who is on the list this year?  \n",
       "395                      43  BBC 100 Women 2020: Who is on the list this year?  \n",
       "\n",
       "[396 rows x 5 columns]"
      ]
     },
     "execution_count": 15,
     "metadata": {},
     "output_type": "execute_result"
    }
   ],
   "source": [
    "for url_tuple in other_p_urls[:1]:\n",
    "    content_paragraphs_df = content_paragraphs_df.append(getTextFromWikiPage(*url_tuple), ignore_index=True)\n",
    "content_paragraphs_df"
   ]
  },
  {
   "cell_type": "markdown",
   "metadata": {},
   "source": [
    "\n",
    "# <span style=\"color:red\">Section 3</span>\n",
    "<span style=\"color:red\">Construct cells immediately below this that extract and organize textual content from text, PDF or Word into a pandas dataframe.</span>\n"
   ]
  },
  {
   "cell_type": "code",
   "execution_count": 16,
   "metadata": {},
   "outputs": [
    {
     "data": {
      "text/html": [
       "<div>\n",
       "<style scoped>\n",
       "    .dataframe tbody tr th:only-of-type {\n",
       "        vertical-align: middle;\n",
       "    }\n",
       "\n",
       "    .dataframe tbody tr th {\n",
       "        vertical-align: top;\n",
       "    }\n",
       "\n",
       "    .dataframe thead th {\n",
       "        text-align: right;\n",
       "    }\n",
       "</style>\n",
       "<table border=\"1\" class=\"dataframe\">\n",
       "  <thead>\n",
       "    <tr style=\"text-align: right;\">\n",
       "      <th></th>\n",
       "      <th>text</th>\n",
       "    </tr>\n",
       "  </thead>\n",
       "  <tbody>\n",
       "    <tr>\n",
       "      <th>test32112.txt</th>\n",
       "      <td>hehe\\nhaha\\n</td>\n",
       "    </tr>\n",
       "    <tr>\n",
       "      <th>problem2.txt</th>\n",
       "      <td>### No importing other modules. You should are...</td>\n",
       "    </tr>\n",
       "    <tr>\n",
       "      <th>problem1.txt</th>\n",
       "      <td>### No importing other modules. You should are...</td>\n",
       "    </tr>\n",
       "  </tbody>\n",
       "</table>\n",
       "</div>"
      ],
      "text/plain": [
       "                                                            text\n",
       "test32112.txt                                       hehe\\nhaha\\n\n",
       "problem2.txt   ### No importing other modules. You should are...\n",
       "problem1.txt   ### No importing other modules. You should are..."
      ]
     },
     "execution_count": 16,
     "metadata": {},
     "output_type": "execute_result"
    }
   ],
   "source": [
    "# target_dir = \"/Users/raychanan/Desktop/Homework-Notebooks/week-1/HW_txt_data\"\n",
    "target_dir = \"./HW_txt_data\"\n",
    "text_list = []\n",
    "file_names = []\n",
    "\n",
    "for file in (file for file in os.scandir(target_dir) if file.is_file() and not file.name.startswith(\".\")):\n",
    "    with open(file.path, encoding='utf-8') as f:\n",
    "        text_list.append(f.read())\n",
    "    file_names.append(file.name)\n",
    "\n",
    "txt_df = pandas.DataFrame({'text': text_list}, index = file_names)\n",
    "txt_df"
   ]
  },
  {
   "cell_type": "code",
   "execution_count": 17,
   "metadata": {},
   "outputs": [
    {
     "name": "stdout",
     "output_type": "stream",
     "text": [
      "%PDF-1.5\n",
      "%����\n",
      "3 0 obj <<\n",
      "/Length 4875      \n",
      "/Filter /FlateDecode\n",
      ">>\n",
      "stream\n",
      "xڍ[I��8��ׯ�95\u0015�bq_�\u000e�v���j�\u0012]�pLT�\u0001� \t�\u0014���,կ���\u0004��=�\u0014��\b\u0002\u000fo��\f",
      "�w��?�\t�����o��&wa�qT�=\u001e",
      "���/�� ��\"�{���꽭6a��Z�o�Q^x��$��n��{��_7�8I���9�\n",
      "���-�����p@��\u0006�C5��I���\bw��\n",
      "^����wa��y\u001a�m��/��\u0017f\u001a~���2����fН�\u0006�6� �.�\u000b",
      "C�L�\bw�\r",
      "��\u000f��n�\u0004~Z\u0016<�\u0003�\u0019V`��(��jt_��\u001fM5�����i�%a���{S�\u0013�{��\u001c",
      "y�[gS \t�E0���p��֦���8-\r",
      "v�E\u0019�=��4�\u0005\u0006~����\u0016E�z��e{\u001f\u001a�i\u0003\u0014��f�n�I�d�\u000f�0+\u0013�6!.�Զ�\u0005�����\u001fD�o����x��ʕ�߫\u001e",
      "\u000fЯ��|�\u001f�Q,Q�յ�_�I�]{\u0001�����x�[�T�|�s<��>7\u000f.uRk\u0010m�8u\u0010s\u0002g��~^\n"
     ]
    }
   ],
   "source": [
    "# PDF\n",
    "pdf_link = \"https://www.cs.cornell.edu/~cristian/Echoes_of_power_files/echoes_of_power.pdf\"\n",
    "# pdf_link = \"http://web.stanford.edu/~gentzkow/research/biasmeas.pdf\"\n",
    "info_extraction_request = requests.get(pdf_link, stream=True)\n",
    "print(info_extraction_request.text[:500])"
   ]
  },
  {
   "cell_type": "code",
   "execution_count": 18,
   "metadata": {},
   "outputs": [],
   "source": [
    "def readPDF(pdfFile):\n",
    "    #Based on code from http://stackoverflow.com/a/20905381/4955164\n",
    "    #Using utf-8, if there are a bunch of random symbols try changing this\n",
    "    codec = 'utf-8'\n",
    "    rsrcmgr = pdfminer.pdfinterp.PDFResourceManager()\n",
    "    retstr = io.StringIO()\n",
    "    layoutParams = pdfminer.layout.LAParams()\n",
    "    device = pdfminer.converter.TextConverter(rsrcmgr, retstr, laparams = layoutParams, codec = codec)\n",
    "    #We need a device and an interpreter\n",
    "    interpreter = pdfminer.pdfinterp.PDFPageInterpreter(rsrcmgr, device)\n",
    "    password = ''\n",
    "    maxpages = 0\n",
    "    caching = True\n",
    "    pagenos=set()\n",
    "    for page in pdfminer.pdfpage.PDFPage.get_pages(pdfFile, pagenos, maxpages=maxpages, password=password,caching=caching, check_extractable=True):\n",
    "        interpreter.process_page(page)\n",
    "    device.close()\n",
    "    returnedString = retstr.getvalue()\n",
    "    retstr.close()\n",
    "    return returnedString"
   ]
  },
  {
   "cell_type": "code",
   "execution_count": 19,
   "metadata": {},
   "outputs": [],
   "source": [
    "info_extraction_bytes = io.BytesIO(info_extraction_request.content)"
   ]
  },
  {
   "cell_type": "code",
   "execution_count": 20,
   "metadata": {},
   "outputs": [
    {
     "name": "stdout",
     "output_type": "stream",
     "text": [
      "Echoes of Power\n"
     ]
    }
   ],
   "source": [
    "print(readPDF(info_extraction_bytes)[:15])"
   ]
  },
  {
   "cell_type": "code",
   "execution_count": 22,
   "metadata": {},
   "outputs": [
    {
     "name": "stdout",
     "output_type": "stream",
     "text": [
      "['Echoes of Power']\n",
      "['\\n\\nin Social Int']\n"
     ]
    }
   ],
   "source": [
    "pdf_title = [readPDF(info_extraction_bytes)[:15]]\n",
    "print(pdf_title)\n",
    "pdf_text = [readPDF(info_extraction_bytes)[55:70]]\n",
    "cleaned_pdf_text = []\n",
    "for item in pdf_text:\n",
    "    cleaned_pdf_text.append(re.sub(r'\\n', ' ', item)) #!!!\n",
    "print(pdf_text)"
   ]
  },
  {
   "cell_type": "code",
   "execution_count": 23,
   "metadata": {},
   "outputs": [
    {
     "name": "stdout",
     "output_type": "stream",
     "text": [
      "             title               text\n",
      "0  Echoes of Power  \\n\\nin Social Int\n"
     ]
    }
   ],
   "source": [
    "pdf_df = pandas.DataFrame({\"title\": pdf_title})\n",
    "pdf_df['text'] = pdf_text\n",
    "print(pdf_df)"
   ]
  },
  {
   "cell_type": "code",
   "execution_count": 41,
   "metadata": {},
   "outputs": [
    {
     "name": "stdout",
     "output_type": "stream",
     "text": [
      "Prevention of vaccine-matched and mismatched influenza in children 6−35 months of age: a multinational randomized trial across five influenza seasons\n",
      "Authors: Claeys C1, MD; Zaman K*2, PhD; Dbaibo G3, MD; Li P4, PhD; Izu A5, MS; Kosalaraksa P6, MD; Rivera L7, MD; Acosta B8, MD; Arroba Basanta ML9, MD; Aziz A2, MD; Cabanero MA10, PhD; Chandrashekaran V11, MS; Corsaro B11, PhD; Cousin L12, MD; Diaz A13, MD; Diez-Domingo J14, MD; Dinleyici EC15, MD; Faust SN16, MD; Friel D1, PhD; Garcia-Sicilia J17, MD; Gomez-Go GD18, MD; Gonzales MLA19, MS; Hughes SM20, MD; Jackowska T21, MD; Kant S22, MD; Lucero M23, MD; Malvaux L1, PhD; Mares Bermudez J24, MD; Martinon-Torres F25, PhD; Miranda M26, MD; Montellano M18, MD; Peix Sambola MA27, MD; Prymula R28, MD; Puthanakit T29, MD; Ruzkova R30, MD; Sadowska-Krawczenko I31, PhD; Salamanca de la Cueva I32, MD; Sokal E33, MD; Soni J34, MA; Szymanski H35, MD; Ulied A36, MD; Schuind A11, MD; Jain VKǂ37, MD; Innis BL38, MD; for the Flu4VEC Study Group \n",
      "* Co-first author\n"
     ]
    }
   ],
   "source": [
    "# Word Docx\n",
    "word_docx_link = \"https://file-examples-com.github.io/uploads/2017/02/file-sample_100kB.doc\"\n",
    "word_docx_link = \"https://eprints.soton.ac.uk/417883/1/Claeys_et_al_LCAH_v3_15_December.docx\"\n",
    "word_docx_request = requests.get(word_docx_link, stream=True)\n",
    "# print(word_docx_request.content)\n",
    "\n",
    "word_docx_content = docx.Document(io.BytesIO(word_docx_request.content))\n",
    "for paragraph in word_docx_content.paragraphs[:3]:\n",
    "    print(paragraph.text)"
   ]
  },
  {
   "cell_type": "code",
   "execution_count": 42,
   "metadata": {},
   "outputs": [],
   "source": [
    "def downloadIfNeeded(targetURL, outputFile, **openkwargs):\n",
    "    if not os.path.isfile(outputFile):\n",
    "        outputDir = os.path.dirname(outputFile)\n",
    "        #This function is a more general os.mkdir()\n",
    "        if len(outputDir) > 0:\n",
    "            os.makedirs(outputDir, exist_ok = True)\n",
    "        r = requests.get(targetURL, stream=True)\n",
    "        #Using a closure like this is generally better than having to\n",
    "        #remember to close the file. There are ways to make this function\n",
    "        #work as a closure too\n",
    "        with open(outputFile, 'wb') as f:\n",
    "            f.write(r.content)\n",
    "    return open(outputFile, **openkwargs)"
   ]
  },
  {
   "cell_type": "code",
   "execution_count": 43,
   "metadata": {},
   "outputs": [
    {
     "name": "stdout",
     "output_type": "stream",
     "text": [
      "File is not a zip file\n"
     ]
    }
   ],
   "source": [
    "word_docx_save = \"word_docx_example.docx\"\n",
    "try:\n",
    "    word_docx_content = docx.Document(downloadIfNeeded(word_docx_link, word_docx_save))\n",
    "except Exception as e:\n",
    "    print(e)"
   ]
  },
  {
   "cell_type": "code",
   "execution_count": 64,
   "metadata": {},
   "outputs": [
    {
     "name": "stdout",
     "output_type": "stream",
     "text": [
      "Prevention\n",
      "Authors: C\n",
      "* Co-first\n",
      "---------------------\n",
      "['Prevention', 'Authors: C', '* Co-first']\n",
      "---\n",
      "['Prevention']\n",
      "----\n",
      "['Authors: C', '* Co-first']\n",
      "--------\n",
      "2\n",
      "['Prevention', 'Prevention']\n",
      "        Title Paragraph Content\n",
      "0  Prevention        Authors: C\n",
      "1  Prevention        * Co-first\n"
     ]
    }
   ],
   "source": [
    "word_docx_content = docx.Document(downloadIfNeeded(word_docx_link, word_docx_save, mode='rb'))\n",
    "word_docx_content_short_list = []\n",
    "for paragraph in word_docx_content.paragraphs[:3]: # Modify this to change the number of paragraphs retrived\n",
    "    print(paragraph.text[:10])\n",
    "    word_docx_content_short_list.append(paragraph.text[:10])\n",
    "print('---------------------')\n",
    "print(word_docx_content_short_list)\n",
    "print('---')\n",
    "word_docx_title = [word_docx_content_short_list[0]]\n",
    "print(word_docx_title)\n",
    "print('----')\n",
    "word_docx_short_content = word_docx_content_short_list[1:]\n",
    "print(word_docx_short_content)\n",
    "print('--------')\n",
    "print(len(word_docx_short_content))\n",
    "print(word_docx_title*len(word_docx_short_content))\n",
    "word_docx_df_dict = {\n",
    "    \"Title\": word_docx_title*len(word_docx_short_content),\n",
    "    \"Paragraph Content\": word_docx_short_content\n",
    "}\n",
    "word_docx_df = pandas.DataFrame(word_docx_df_dict)\n",
    "print(word_docx_df)\n"
   ]
  },
  {
   "cell_type": "code",
   "execution_count": null,
   "metadata": {},
   "outputs": [],
   "source": []
  }
 ],
 "metadata": {
  "kernelspec": {
   "display_name": "Python 3",
   "language": "python",
   "name": "python3"
  },
  "language_info": {
   "codemirror_mode": {
    "name": "ipython",
    "version": 3
   },
   "file_extension": ".py",
   "mimetype": "text/x-python",
   "name": "python",
   "nbconvert_exporter": "python",
   "pygments_lexer": "ipython3",
   "version": "3.8.5"
  },
  "toc": {
   "base_numbering": 1,
   "nav_menu": {},
   "number_sections": true,
   "sideBar": true,
   "skip_h1_title": false,
   "title_cell": "Table of Contents",
   "title_sidebar": "Contents",
   "toc_cell": false,
   "toc_position": {},
   "toc_section_display": true,
   "toc_window_display": false
  },
  "varInspector": {
   "cols": {
    "lenName": 16,
    "lenType": 16,
    "lenVar": 40
   },
   "kernels_config": {
    "python": {
     "delete_cmd_postfix": "",
     "delete_cmd_prefix": "del ",
     "library": "var_list.py",
     "varRefreshCmd": "print(var_dic_list())"
    },
    "r": {
     "delete_cmd_postfix": ") ",
     "delete_cmd_prefix": "rm(",
     "library": "var_list.r",
     "varRefreshCmd": "cat(var_dic_list()) "
    }
   },
   "types_to_exclude": [
    "module",
    "function",
    "builtin_function_or_method",
    "instance",
    "_Feature"
   ],
   "window_display": false
  }
 },
 "nbformat": 4,
 "nbformat_minor": 4
}
