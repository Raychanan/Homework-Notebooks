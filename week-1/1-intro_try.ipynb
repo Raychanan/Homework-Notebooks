{
 "cells": [
  {
   "cell_type": "markdown",
   "metadata": {},
   "source": [
    "# <span style=\"color:red\">Section 1</span>\n",
    "<span style=\"color:red\">Construct cells immediately below this that describe and download webcontent relating to your anticipated final project. Use beautiful soup and at least five regular expressions to extract relevant, nontrivial *chunks* of that content (e.g., cleaned sentences, paragraphs, etc.) to a pandas `Dataframe`.</span>"
   ]
  },
  {
   "cell_type": "code",
   "execution_count": 318,
   "metadata": {},
   "outputs": [],
   "source": [
    "# All these packages need to be installed from pip\n",
    "import requests  # for http requests\n",
    "import bs4  # called `beautifulsoup4`, an html parser\n",
    "import pandas  # gives us DataFrames\n",
    "import docx  # reading MS doc files, install as `python-docx`\n",
    "\n",
    "# Stuff for pdfs\n",
    "import pdfminer.pdfinterp\n",
    "import pdfminer.converter\n",
    "import pdfminer.layout\n",
    "import pdfminer.pdfpage\n",
    "\n",
    "# These come with Python\n",
    "import re  # for regexs\n",
    "import urllib.parse  # For joining urls\n",
    "import io  # for making http requests look like files\n",
    "import json  # For Tumblr API responses\n",
    "import os.path  # For checking if files exist\n",
    "import os  # For making directories"
   ]
  },
  {
   "cell_type": "code",
   "execution_count": 319,
   "metadata": {},
   "outputs": [],
   "source": [
    "bbc_fangfang_report = \"https://www.bbc.com/\"\n",
    "bbc_fangfang_report = \"https://www.bbc.com/\"\n",
    "bbc_fangfang_report = \"https://www.bbc.com/news/world-asia-54987675\""
   ]
  },
  {
   "cell_type": "code",
   "execution_count": 320,
   "metadata": {},
   "outputs": [
    {
     "name": "stdout",
     "output_type": "stream",
     "text": [
      "<Response [200]>\n",
      "---\n",
      "<!DOCTYPE html><html lang=\"en-GB\" class=\"no-js\"><head><meta charSet=\"utf-8\" /><meta name=\"viewport\" content=\"width=device-width, initial-scale=1\" /><title data-rh=\"true\">Fang Fang: Author vilified for Wuhan Diary speaks out a year on - BBC News</title><meta data-rh=\"true\" name=\"description\" content=\"Wuhan writer Fang Fang talks about the price she has had to pay for her controversial lockdown diaries.\"/><meta data-rh=\"true\" name=\"theme-color\" content=\"#FFFFFF\"/><meta data-rh=\"true\" property=\"article:author\" content=\"https://www.facebook.com/bbcnews\"/><meta data-rh=\"true\" property=\"article:section\" content=\"Asia\"/><meta data-rh=\"true\" property=\"fb:admins\" content=\"100004154058350\"/><meta data-rh=\"true\" property=\"fb:app_id\" content=\"1609039196070050\"/><meta data-rh=\"true\" property=\"fb:pages\" content=\"1143803202301544,317278538359186,1392506827668140,742734325867560,185246968166196,156060587793370,137920769558355,193435954068976,21263239760,156400551056385,929399697073756,154344434967,228\n"
     ]
    }
   ],
   "source": [
    "bbc_content_request = requests.get(bbc_fangfang_report)\n",
    "print(bbc_content_request)\n",
    "print('---')\n",
    "print(bbc_content_request.text[:1000])"
   ]
  },
  {
   "cell_type": "code",
   "execution_count": 321,
   "metadata": {},
   "outputs": [
    {
     "name": "stdout",
     "output_type": "stream",
     "text": [
      "Fang Fang: Author vilified for Wuhan Diary speaks out a year on - BBC NewsBBC HomepageSkip to contentAccessibility HelpBBC AccountHomeNewsSportReelWorklifeTravelFutureCultureMenuMorecaret-downsearchSearchHomeNewsSportReelWorklifeTravelFutureCultureMusicTVWeatherSoundsnoClose menuBBC NewslistMenuHomeCoronavirusVideoWorldAsiaUKBusinessTechScienceStoriesEntertainment & ArtslistMoreHealthWorld News TVIn PicturesReality CheckNewsbeatLong ReadsAsiaChinaIndiaFang Fang: Author vilified for Wuhan Diary speaks out a year onBy Fan Wang and Grace TsoiBBC World Service, Hong KongPublishedduration1 day agoSharenocloseShare pagelinkCopy linkAbout sharingRelated TopicsCoronavirus pandemicimage copyrightWu BaojianShe has faced a nationalist backlash for her diaries documenting life in Wuhan in the early days of the coronavirus outbreak, but Chinese author Fang Fang she says she will not be silenced.\"When facing a catastrophe, it's vital to voice your opinion and give your advice,\" she told BBC Chinese in a rare email interview with international media.In late January, when Wuhan became the first place in the world to enter a state of complete lockdown, many of the city's 11 million residents found solace in reading Fang Fang's online diaries. They also provided a revealing glimpse into the city where the virus first emerged.The 65-year-old's daily posts on her Weibo account, the Chinese equivalent of Twitter, chronicled life living alone with her dog during the lockdown, as well as what she described as the dark side of the authority's response.They were initially well-received, but later provoked a wave of criticism from those who saw her efforts as unpatriotic.As part of the BBC 100 Women season, Fang Fang told the BBC why, despite the condemnation, she does not regret speaking out.'Vivid narrative'image copyrightGetty Imagesimage captionTo contain the spread in Wuhan, the authorities imposed unprecedented restrictionsFang Fang says that she wrote the diaries as part of a process \n"
     ]
    }
   ],
   "source": [
    "bbc_content_soup = bs4.BeautifulSoup(bbc_content_request.text, 'html.parser')\n",
    "print(bbc_content_soup.text[:2000])"
   ]
  },
  {
   "cell_type": "code",
   "execution_count": 322,
   "metadata": {},
   "outputs": [],
   "source": [
    "# Inspect what Python receives. To do this we can save the html requests obtained.\n",
    "\n",
    "bbc_save = 'news.html'\n",
    "with open(bbc_save, mode='w', encoding='utf-8') as f:\n",
    "    f.write(bbc_content_request.text)"
   ]
  },
  {
   "cell_type": "code",
   "execution_count": 323,
   "metadata": {},
   "outputs": [
    {
     "name": "stdout",
     "output_type": "stream",
     "text": [
      "By Fan Wang and Grace TsoiBBC World Service, Hong Kong\n",
      "She has faced a nationalist backlash for her diaries documenting life in Wuhan in the early days of the coronavirus outbreak, but Chinese author Fang Fang she says she will not be silenced.\n",
      "\"When facing a catastrophe, it's vital to voice your opinion and give your advice,\" she told BBC Chinese in a rare email interview with international media.\n",
      "In late January, when Wuhan became the first place in the world to enter a state of complete lockdown, many of the city's 11 million residents found solace in reading Fang Fang's online diaries. They also provided a revealing glimpse into the city where the virus first emerged.\n",
      "The 65-year-old's daily posts on her Weibo account, the Chinese equivalent of Twitter, chronicled life living alone with her dog during the lockdown, as well as what she described as the dark side of the authority's response.\n",
      "They were initially well-received, but later provoked a wave of criticism from those who saw her efforts as unpatriotic.\n",
      "As part of the BBC 100 Women season, Fang Fang told the BBC why, despite the condemnation, she does not regret speaking out.\n",
      "Fang Fang says that she wrote the diaries as part of a process that helped her to \"channel her mind\" and reflect on what was happening during lockdown. \n",
      "She captured what it was like to be isolated from the rest of the world; the collective pain and sadness of witnessing the loss of life; and the anger at local officials for what she views as their mishandling of the crisis.\n",
      "At first, her online diary was praised domestically, with state media the China News Service describing her posts as inspiring, \"with vivid narrative, real emotions and a straightforward style\".\n",
      "But the reaction significantly shifted when they gained international attention and the criticism reached fever pitch when news emerged that her diaries would be translated into English and picked up by US publisher HarperCollins. \n",
      "\"Because of the 60 diary entries I wrote during the pandemicâ¦ I am seen as the enemy by the authorities,\" she said. \n",
      "Chinese media outlets, she says, have been ordered not to publish any of her articles. And her books, including new works and reprints, have been shunned by Chinese publishers. \n",
      "\"For a writer, it's a very, very cruel thing,\" she told the BBC.   \n",
      "\"Maybe it's because I have expressed more sympathy for ordinary people than applauding the government. I didn't flatter or praise the government, so I am guilty.\"  \n",
      "Fang Fang says that the backlash was not restricted to official disapproval.\n",
      "She says she has received tens of thousands of abusive messages, including death threats. On social media she has been labelled a traitor, accused of conspiring with the West to attack the Chinese state, with some even suggesting she was paid by the American intelligence agency, the CIA, to write the diaries.\n",
      "Fang Fang says she was surprised and confused by the viciousness of the attacks.\n",
      "\"It's very difficult for me to understand their hatred of me. My records are objective and mild,\" she says.  \n",
      "The attacks she says remind her of the 1966-1976 Cultural Revolution, a period of violent mob rule which led to the purging of intellectuals and \"class enemies\", including people with ties to the West.\n",
      "China is sensitive about its image abroad, and Fang Fang's diaries came during a time when the country was under immense international pressure for alleged cover-ups. \n",
      "Fang Kecheng, a journalism professor at the Chinese University of Hong Kong, says the attacks on Fang Fang follow a pattern of online nationalism. \"Nationalism has become the mainstream on the Chinese internet in recent years, and liberalism has been marginalised. Nationalist internet users are very active, and they have become nationalist trolls,\" says Prof Fang. \n",
      "He says online nationalism has been \"implicitly endorsed\" by Chinese authorities because it could help boost the support for the government - but it could also backfire if this gets radical. \n",
      "\"Words specifically used during the Cultural Revolution, such as 'class struggle' and 'dictatorship of the proletariat' have re-emerged. It means that China's reforms are on their way to failure and regression,\" she says.  \n",
      "After watching the coronavirus spread to almost every corner of the world, Fang Fang says China's decision to impose a 76-day lockdown in Wuhan was the right one, a stance reflected in her diary entries at the time.  \n",
      "\"The lockdown was a heavy price we paid in exchange for now being able to live freely in Wuhan without the virus,\" she says. \n",
      "Wuhan has reported no local cases since May. It does not count asymptomatic cases.\n",
      "\"If severe measures had not been adopted, the situation in Wuhan would have further spiralled out of control. So I expressed support for almost all disease control measures.\"   \n",
      "And Fang Fang says other countries can learn from aspects of China's approach. \n",
      "\"During the outbreak, all gatherings were banned, everyone was required to wear a mask, and a health QR code was needed to enter a housing complex. I think all these very good measures helped China control the virus.\" \n",
      "But China's ultimate success in containing the virus domestically does not negate, she argues, the need to investigate the initial handling of the outbreak by the authorities. \n",
      "\"There has been no thorough investigation into the reasons why it took so long to tackle the outbreak,\" Fang Fang says.\n",
      "She questions why at first authorities said the virus was \"preventable and controllable\".\n",
      "But Fang Fang says the world, not just China, needs to learn from the pandemic.\n",
      "\"It is human ignorance and arrogance that let the virus spread so widely and for so long.\"\n",
      "Professor Michael Berry, who translated her diaries into English, believes \"her resilience is rooted in the knowledge that she is doing the right thing\".\n",
      "\"She is not a dissident, she is not calling for the overthrow of the government; she is an individual that documented what she saw, felt, and experienced during the Wuhan lockdown,\" he said. \n",
      "But in doing that he argues, she does explore bigger questions \"not only the handling of the pandemic, but about what kind of society Chinese citizens want to create for themselves\".\n",
      "In Wuhan, Fang Fang's personal life was dealt a blow when her 16-year-old dog, a constant companion throughout the lockdown, died in April. But she is resilient.  \n",
      "She is still writing in the hope that her works will once again be published in her own country, and says she has no regrets.\n",
      "\"I definitely will not make compromises, and there's no need to stay silent.\" \n",
      "Additional reporting by Lara Owen\n",
      "BBC 100 Women names 100 influential and inspirational women around the world every year, and tells their stories. Follow us on Instagram and Facebook and join the conversation, using#BBC100Women.\n",
      "BBC 100 Women 2020: Who is on the list this year?\n",
      "Sanna Marin: The feminist PM leading a coalition of women\n",
      "Trump includes ex-aide Bannon in swathe of pardons\n",
      "Donald Trump issues pardons and commutations for more than 140 people in his final hours as president.\n",
      "Biden to be sworn in as Trump leaves White House\n",
      "US: China 'committed genocide against Uighurs'\n",
      "Author vilified for Wuhan Diary speaks out a year on\n",
      "Women ending silence of sport abuse shake Greece\n",
      "Cycling around the world with cancer. VideoCycling around the world with cancer\n",
      "Conquering K2 in winter 'together' VideoConquering K2 in winter 'together'\n",
      "Biden's Iran nuclear challenge. VideoBiden's Iran nuclear challenge\n",
      "French students protest at Covid mental health toll\n",
      "Why has South Africa not started vaccinating?\n",
      "BBC Worklife: Why some still don't trust women to lead\n",
      "Baby Done comedy explores reluctance at motherhood\n",
      "Lyrics quiz\n",
      "Have you been getting these songs wrong?\n",
      "Feeling hot\n",
      "What happens to your body in extreme heat?\n",
      "Trump includes ex-aide Bannon in swathe of pardons1\n",
      "Biden to be sworn in as Trump leaves White House2\n",
      "The other women in Kamala Harris' college photo3\n",
      "Jack Ma makes first appearance since October4\n",
      "Prada drops actress over alleged surrogacy row5\n",
      "Pay-out over Starbucks 'slanty' eyes drawing6\n",
      "Owners of Tiger King zoo ordered to surrender cubs7\n",
      "US: China 'committed genocide against Uighurs'8\n",
      "PM's aid cut damaged UK's moral leadership, says May9\n",
      "Bali to deport influencer over Twitter thread10\n",
      "Â© 2021 BBC. The BBC is not responsible for the content of external sites. Read about our approach to external linking.\n"
     ]
    }
   ],
   "source": [
    "content_p_tags = bbc_content_soup.body.findAll('p')\n",
    "for p_tag in content_p_tags:\n",
    "    print(p_tag.text)"
   ]
  },
  {
   "cell_type": "code",
   "execution_count": 324,
   "metadata": {},
   "outputs": [
    {
     "name": "stdout",
     "output_type": "stream",
     "text": [
      "                                       paragraph_text\n",
      "0   By Fan Wang and Grace TsoiBBC World Service, H...\n",
      "1   She has faced a nationalist backlash for her d...\n",
      "2   'When facing a catastrophe, it's vital to voic...\n",
      "3   In late January, when Wuhan became the first p...\n",
      "4   The 65-year-old's daily posts on her Weibo acc...\n",
      "..                                                ...\n",
      "68  Owners of Tiger King zoo ordered to surrender ...\n",
      "69    US: China 'committed genocide against Uighurs'8\n",
      "70  PM's aid cut damaged UK's moral leadership, sa...\n",
      "71    Bali to deport influencer over Twitter thread10\n",
      "72  2021 BBC. The BBC is not responsible for the c...\n",
      "\n",
      "[73 rows x 1 columns]\n"
     ]
    }
   ],
   "source": [
    "# The content of this news is almost perfect, \n",
    "# so the cleaning work I'm doing is actually a littile bit superfluous.\n",
    "# Anyway, the following code is used to meet the requirements of the homework\n",
    "\n",
    "content_paragraphs = []\n",
    "for p_tag in content_p_tags:\n",
    "    content_paragraphs.append(re.sub(r'\\[\\d+\\]', '', p_tag.text))\n",
    "\n",
    "# Further cleaning the article\n",
    "cleaned_content_paragraphs = []\n",
    "for paragraph in content_paragraphs:\n",
    "    cleaned_paragraph = re.sub(r'Â©', \"\", paragraph) # Remove non-readable characters\n",
    "    cleaned_paragraph = re.sub(r' +', \" \", cleaned_paragraph) # Remove extra spaces\n",
    "    cleaned_paragraph = re.sub(r'^\\s+', \"\", cleaned_paragraph) # Remove leading spaces\n",
    "    cleaned_paragraph = re.sub(r'\\s+$', \"\", cleaned_paragraph) # # Remove trailing spaces\n",
    "    cleaned_paragraph = re.sub(r'\"', \"'\", cleaned_paragraph) # To meet the homework's requirement\n",
    "    cleaned_content_paragraphs.append(cleaned_paragraph)\n",
    "    \n",
    "\n",
    "content_paragraphs_df = pandas.DataFrame({'paragraph_text': cleaned_content_paragraphs})\n",
    "print(content_paragraphs_df)"
   ]
  },
  {
   "cell_type": "markdown",
   "metadata": {},
   "source": [
    "\n",
    "# <span style=\"color:red\">Section 2</span>\n",
    "<span style=\"color:red\">Construct cells immediately below this that spider webcontent from another site with content relating to your anticipated final project. Specifically, identify urls on a core page, then follow and extract content from them into a pandas `Dataframe`. In addition, demonstrate a *recursive* spider, which follows more than one level of links (i.e., follows links from a site, then follows links on followed sites to new sites, etc.), making sure to define a reasonable endpoint so that you do not wander the web forever :-).</span>\n",
    "\n"
   ]
  },
  {
   "cell_type": "code",
   "execution_count": 325,
   "metadata": {},
   "outputs": [
    {
     "name": "stdout",
     "output_type": "stream",
     "text": [
      "[<p class=\"css-1pjc44v-Contributor e5xb54n0\"><span><strong>By Fan Wang and Grace Tsoi</strong><br/>BBC World Service, Hong Kong</span></p>, <p><style data-emotion-css=\"14iz86j-BoldText\">.css-14iz86j-BoldText{font-weight:bold;}</style><b class=\"css-14iz86j-BoldText e5tfeyi0\">She has faced a nationalist backlash for her diaries documenting life in Wuhan in the early days of the coronavirus outbreak, but Chinese author Fang Fang she says she will not be silenced.</b></p>, <p>\"When facing a catastrophe, it's vital to voice your opinion and give your advice,\" she told BBC Chinese in a rare email interview with international media.</p>, <p>In late January, when Wuhan became the first place in the world to enter a state of complete lockdown, many of the city's 11 million residents found solace in reading Fang Fang's online diaries. They also provided a revealing glimpse into the city where the virus first emerged.</p>, <p>The 65-year-old's daily posts on her Weibo account, the Chinese equivalent of Twitter, chronicled life living alone with her dog during the lockdown, as well as what she described as the dark side of the authority's response.</p>, <p>They were initially well-received, but later provoked a wave of criticism from those who saw her efforts as unpatriotic.</p>, <p>As part of the BBC 100 Women season, Fang Fang told the BBC why, despite the condemnation, she does not regret speaking out.</p>, <p>Fang Fang says that she wrote the diaries as part of a process that helped her to \"channel her mind\" and reflect on what was happening during lockdown. </p>, <p>She captured what it was like to be isolated from the rest of the world; the collective pain and sadness of witnessing the loss of life; and the anger at local officials for what she views as their mishandling of the crisis.</p>, <p>At first, her online diary was praised domestically, with state media the China News Service describing her posts as inspiring, \"with vivid narrative, real emotions and a straightforward style\".</p>, <p>But the reaction significantly shifted when they gained international attention and the criticism reached fever pitch when news emerged that her diaries would be translated into English and picked up by US publisher HarperCollins. </p>, <p>\"Because of the 60 diary entries I wrote during the pandemicâ¦ I am seen as the enemy by the authorities,\" she said. </p>, <p>Chinese media outlets, she says, have been ordered not to publish any of her articles. And her books, including new works and reprints, have been shunned by Chinese publishers. </p>, <p>\"For a writer, it's a very, very cruel thing,\" she told the BBC.   </p>, <p>\"Maybe it's because I have expressed more sympathy for ordinary people than applauding the government. I didn't flatter or praise the government, so I am guilty.\"  </p>, <p>Fang Fang says that the backlash was not restricted to official disapproval.</p>, <p>She says she has received tens of thousands of abusive messages, including death threats. On social media she has been labelled a traitor, accused of conspiring with the West to attack the Chinese state, with some even suggesting she was paid by the American intelligence agency, the CIA, to write the diaries.</p>, <p>Fang Fang says she was surprised and confused by the viciousness of the attacks.</p>, <p>\"It's very difficult for me to understand their hatred of me. My records are objective and mild,\" she says.  </p>, <p>The attacks she says remind her of the 1966-1976 Cultural Revolution, a period of violent mob rule which led to the purging of intellectuals and \"class enemies\", including people with ties to the West.</p>, <p>China is sensitive about its image abroad, and Fang Fang's diaries came during a time when the country was under immense international pressure for alleged cover-ups. </p>, <p>Fang Kecheng, a journalism professor at the Chinese University of Hong Kong, says the attacks on Fang Fang follow a pattern of online nationalism. \"Nationalism has become the mainstream on the Chinese internet in recent years, and liberalism has been marginalised. Nationalist internet users are very active, and they have become nationalist trolls,\" says Prof Fang. </p>, <p>He says online nationalism has been \"implicitly endorsed\" by Chinese authorities because it could help boost the support for the government - but it could also backfire if this gets radical. </p>, <p>\"Words specifically used during the Cultural Revolution, such as 'class struggle' and 'dictatorship of the proletariat' have re-emerged. It means that China's reforms are on their way to failure and regression,\" she says.  </p>, <p>After watching the coronavirus spread to almost every corner of the world, Fang Fang says China's decision to impose a 76-day lockdown in Wuhan was the right one, a stance reflected in her diary entries at the time.  </p>, <p>\"The lockdown was a heavy price we paid in exchange for now being able to live freely in Wuhan without the virus,\" she says. </p>, <p>Wuhan has reported no local cases since May. It does not count asymptomatic cases.</p>, <p>\"If severe measures had not been adopted, the situation in Wuhan would have further spiralled out of control. So I expressed support for almost all disease control measures.\"   </p>, <p>And Fang Fang says other countries can learn from aspects of China's approach. </p>, <p>\"During the outbreak, all gatherings were banned, everyone was required to wear a mask, and a health QR code was needed to enter a housing complex. I think all these very good measures helped China control the virus.\" </p>, <p>But China's ultimate success in containing the virus domestically does not negate, she argues, the need to investigate the initial handling of the outbreak by the authorities. </p>, <p>\"There has been no thorough investigation into the reasons why it took so long to tackle the outbreak,\" Fang Fang says.</p>, <p>She questions why at first authorities said the virus was \"preventable and controllable\".</p>, <p>But Fang Fang says the world, not just China, needs to learn from the pandemic.</p>, <p>\"It is human ignorance and arrogance that let the virus spread so widely and for so long.\"</p>, <p>Professor Michael Berry, who translated her diaries into English, believes \"her resilience is rooted in the knowledge that she is doing the right thing\".</p>, <p>\"She is not a dissident, she is not calling for the overthrow of the government; she is an individual that documented what she saw, felt, and experienced during the Wuhan lockdown,\" he said. </p>, <p>But in doing that he argues, she does explore bigger questions \"not only the handling of the pandemic, but about what kind of society Chinese citizens want to create for themselves\".</p>, <p>In Wuhan, Fang Fang's personal life was dealt a blow when her 16-year-old dog, a constant companion throughout the lockdown, died in April. But she is resilient.  </p>, <p>She is still writing in the hope that her works will once again be published in her own country, and says she has no regrets.</p>, <p>\"I definitely will not make compromises, and there's no need to stay silent.\" </p>, <p><style data-emotion-css=\"po6dm6-ItalicText\">.css-po6dm6-ItalicText{font-style:italic;}</style><i class=\"css-po6dm6-ItalicText e5tfeyi1\">Additional reporting by Lara Owen</i></p>, <p><a class=\"css-1xgj2ad-InlineLink e1no5rhv0\" href=\"http://www.bbc.co.uk/news/world-24371433\">BBC 100 Women</a><i class=\"css-po6dm6-ItalicText e5tfeyi1\"> names 100 influential and inspirational women around the world every year, and tells their stories. Follow us on </i><a class=\"css-1xgj2ad-InlineLink e1no5rhv0\" href=\"https://www.instagram.com/bbc100women/?hl=en\">Instagram</a><i class=\"css-po6dm6-ItalicText e5tfeyi1\"> and </i><a class=\"css-1xgj2ad-InlineLink e1no5rhv0\" href=\"https://www.facebook.com/BBC100women/?fref=ts\">Facebook </a><i class=\"css-po6dm6-ItalicText e5tfeyi1\">and join the conversation, using</i><i class=\"css-po6dm6-ItalicText e5tfeyi1\">#BBC100Women</i>.</p>, <p class=\"css-13k1mrq-PromoHeadline e1f5wbog2\"><style data-emotion-css=\"1hlxxic-PromoLink\">.css-1hlxxic-PromoLink:link{color:inherit;}.css-1hlxxic-PromoLink:visited{color:#696969;}.css-1hlxxic-PromoLink:link,.css-1hlxxic-PromoLink:visited{-webkit-text-decoration:none;text-decoration:none;}.css-1hlxxic-PromoLink:link:hover,.css-1hlxxic-PromoLink:visited:hover,.css-1hlxxic-PromoLink:link:focus,.css-1hlxxic-PromoLink:visited:focus{color:#B80000;-webkit-text-decoration:underline;text-decoration:underline;}.css-1hlxxic-PromoLink:link::after,.css-1hlxxic-PromoLink:visited::after{content:'';position:absolute;top:0;right:0;bottom:0;left:0;z-index:2;}</style><a class=\"css-1hlxxic-PromoLink e1f5wbog6\" href=\"/news/world-55042935\"><span aria-hidden=\"false\">BBC 100 Women 2020: Who is on the list this year?</span></a></p>, <p class=\"css-13k1mrq-PromoHeadline e1f5wbog2\"><a class=\"css-1hlxxic-PromoLink e1f5wbog6\" href=\"/news/stories-55020994\"><span aria-hidden=\"false\">Sanna Marin: The feminist PM leading a coalition of women</span></a></p>, <p class=\"css-13k1mrq-PromoHeadline e1f5wbog2\"><a class=\"css-1hlxxic-PromoLink e1f5wbog6\" href=\"/news/world-us-canada-55729221\"><span aria-hidden=\"false\">Trump includes ex-aide Bannon in swathe of pardons</span></a></p>, <p>Donald Trump issues pardons and commutations for more than 140 people in his final hours as president.</p>, <p class=\"css-13k1mrq-PromoHeadline e1f5wbog2\"><a class=\"css-1hlxxic-PromoLink e1f5wbog6\" href=\"/news/world-us-canada-55728852\"><span aria-hidden=\"false\">Biden to be sworn in as Trump leaves White House</span></a></p>, <p class=\"css-13k1mrq-PromoHeadline e1f5wbog2\"><a class=\"css-1hlxxic-PromoLink e1f5wbog6\" href=\"/news/world-us-canada-55723522\"><span aria-hidden=\"false\">US: China 'committed genocide against Uighurs'</span></a></p>, <p class=\"css-13k1mrq-PromoHeadline e1f5wbog2\"><a class=\"css-1hlxxic-PromoLink e1f5wbog6\" href=\"/news/world-asia-54987675\"><span aria-hidden=\"false\">Author vilified for Wuhan Diary speaks out a year on</span></a></p>, <p class=\"css-13k1mrq-PromoHeadline e1f5wbog2\"><a class=\"css-1hlxxic-PromoLink e1f5wbog6\" href=\"/news/world-europe-55716338\"><span aria-hidden=\"false\">Women ending silence of sport abuse shake Greece</span></a></p>, <p class=\"css-13k1mrq-PromoHeadline e1f5wbog2\"><style data-emotion-css=\"1snjdh1-IconContainer\">.css-1snjdh1-IconContainer{display:none;height:0.875em;width:0.875em;vertical-align:-0.0625em;margin-right:0.25em;}</style><span class=\"css-1snjdh1-IconContainer e1f5wbog8\"><svg aria-hidden=\"true\" class=\"css-47d2zd-StyledIcon e6m7o990\" focusable=\"false\" height=\"1em\" viewbox=\"0 0 32 32\" width=\"1em\"><path d=\"M29 16L5.8 1v30L29 16z\"></path></svg></span><a class=\"css-1hlxxic-PromoLink e1f5wbog6\" href=\"/news/world-asia-55724995\"><span class=\"css-oyqyoe-VisuallyHidden e1y6uwnp0\">Cycling around the world with cancer. Video</span><span aria-hidden=\"true\">Cycling around the world with cancer</span></a></p>, <p class=\"css-13k1mrq-PromoHeadline e1f5wbog2\"><span class=\"css-1snjdh1-IconContainer e1f5wbog8\"><svg aria-hidden=\"true\" class=\"css-47d2zd-StyledIcon e6m7o990\" focusable=\"false\" height=\"1em\" viewbox=\"0 0 32 32\" width=\"1em\"><path d=\"M29 16L5.8 1v30L29 16z\"></path></svg></span><a class=\"css-1hlxxic-PromoLink e1f5wbog6\" href=\"/news/world-asia-55710125\"><span class=\"css-oyqyoe-VisuallyHidden e1y6uwnp0\">Conquering K2 in winter 'together' Video</span><span aria-hidden=\"true\">Conquering K2 in winter 'together'</span></a></p>, <p class=\"css-13k1mrq-PromoHeadline e1f5wbog2\"><span class=\"css-1snjdh1-IconContainer e1f5wbog8\"><svg aria-hidden=\"true\" class=\"css-47d2zd-StyledIcon e6m7o990\" focusable=\"false\" height=\"1em\" viewbox=\"0 0 32 32\" width=\"1em\"><path d=\"M29 16L5.8 1v30L29 16z\"></path></svg></span><a class=\"css-1hlxxic-PromoLink e1f5wbog6\" href=\"/news/world-middle-east-55726134\"><span class=\"css-oyqyoe-VisuallyHidden e1y6uwnp0\">Biden's Iran nuclear challenge. Video</span><span aria-hidden=\"true\">Biden's Iran nuclear challenge</span></a></p>, <p class=\"css-13k1mrq-PromoHeadline e1f5wbog2\"><a class=\"css-1hlxxic-PromoLink e1f5wbog6\" href=\"/news/world-europe-55716340\"><span aria-hidden=\"false\">French students protest at Covid mental health toll</span></a></p>, <p class=\"css-13k1mrq-PromoHeadline e1f5wbog2\"><a class=\"css-1hlxxic-PromoLink e1f5wbog6\" href=\"/news/world-africa-55675806\"><span aria-hidden=\"false\">Why has South Africa not started vaccinating?</span></a></p>, <p class=\"css-13k1mrq-PromoHeadline e1f5wbog2\"><a class=\"css-1hlxxic-PromoLink e1f5wbog6\" href=\"https://www.bbc.com/worklife/article/20210108-why-do-we-still-distrust-women-leaders\"><span aria-hidden=\"false\">BBC Worklife: Why some still don't trust women to lead</span></a></p>, <p class=\"css-13k1mrq-PromoHeadline e1f5wbog2\"><a class=\"css-1hlxxic-PromoLink e1f5wbog6\" href=\"/news/entertainment-arts-55719178\"><span aria-hidden=\"false\">Baby Done comedy explores reluctance at motherhood</span></a></p>, <p class=\"css-13k1mrq-PromoHeadline e1f5wbog2\"><a class=\"css-1hlxxic-PromoLink e1f5wbog6\" href=\"https://www.bbc.co.uk/music/articles/d37a03cb-41e5-43c8-b88d-8e1f59fd9998?intc_type=promo&amp;intc_location=news&amp;intc_campaign=misheardlyrics_quiz&amp;intc_linkname=bbcmusic_rm_low_c3\"><span aria-hidden=\"false\">Lyrics quiz</span></a></p>, <p>Have you been getting these songs wrong?</p>, <p class=\"css-13k1mrq-PromoHeadline e1f5wbog2\"><a class=\"css-1hlxxic-PromoLink e1f5wbog6\" href=\"https://www.bbc.co.uk/bbcthree/article/063dba1d-2ab2-40e3-9837-3d70481ef82c?intc_type=promo&amp;intc_location=news&amp;intc_campaign=whathappenstoyourbodyinheat_article&amp;intc_linkname=bbcthree_yc_low_c3\"><span aria-hidden=\"false\">Feeling hot</span></a></p>, <p>What happens to your body in extreme heat?</p>, <p class=\"css-13k1mrq-PromoHeadline e1f5wbog2\"><a class=\"css-1hlxxic-PromoLink e1f5wbog6\" href=\"/news/world-us-canada-55729221\"><span aria-hidden=\"false\"><style data-emotion-css=\"orcmk8-HeadlineContainer\">.css-orcmk8-HeadlineContainer{display:-webkit-box;display:-webkit-flex;display:-ms-flexbox;display:flex;-webkit-box-pack:justify;-webkit-justify-content:space-between;-ms-flex-pack:justify;justify-content:space-between;}</style><span class=\"css-orcmk8-HeadlineContainer e1ia0oo91\">Trump includes ex-aide Bannon in swathe of pardons<style data-emotion-css=\"1dedj2h-Rank\">.css-1dedj2h-Rank{-webkit-align-self:center;-ms-flex-item-align:center;align-self:center;color:#B80000;margin-left:3.125rem;}</style><span class=\"css-1dedj2h-Rank e1ia0oo94\">1</span></span></span></a></p>, <p class=\"css-13k1mrq-PromoHeadline e1f5wbog2\"><a class=\"css-1hlxxic-PromoLink e1f5wbog6\" href=\"/news/world-us-canada-55728852\"><span aria-hidden=\"false\"><span class=\"css-orcmk8-HeadlineContainer e1ia0oo91\">Biden to be sworn in as Trump leaves White House<span class=\"css-1dedj2h-Rank e1ia0oo94\">2</span></span></span></a></p>, <p class=\"css-13k1mrq-PromoHeadline e1f5wbog2\"><a class=\"css-1hlxxic-PromoLink e1f5wbog6\" href=\"/news/world-us-canada-55690001\"><span aria-hidden=\"false\"><span class=\"css-orcmk8-HeadlineContainer e1ia0oo91\">The other women in Kamala Harris' college photo<span class=\"css-1dedj2h-Rank e1ia0oo94\">3</span></span></span></a></p>, <p class=\"css-13k1mrq-PromoHeadline e1f5wbog2\"><a class=\"css-1hlxxic-PromoLink e1f5wbog6\" href=\"/news/business-55728338\"><span aria-hidden=\"false\"><span class=\"css-orcmk8-HeadlineContainer e1ia0oo91\">Jack Ma makes first appearance since October<span class=\"css-1dedj2h-Rank e1ia0oo94\">4</span></span></span></a></p>, <p class=\"css-13k1mrq-PromoHeadline e1f5wbog2\"><a class=\"css-1hlxxic-PromoLink e1f5wbog6\" href=\"/news/world-asia-china-55729437\"><span aria-hidden=\"false\"><span class=\"css-orcmk8-HeadlineContainer e1ia0oo91\">Prada drops actress over alleged surrogacy row<span class=\"css-1dedj2h-Rank e1ia0oo94\">5</span></span></span></a></p>, <p class=\"css-13k1mrq-PromoHeadline e1f5wbog2\"><a class=\"css-1hlxxic-PromoLink e1f5wbog6\" href=\"/news/world-europe-55725235\"><span aria-hidden=\"false\"><span class=\"css-orcmk8-HeadlineContainer e1ia0oo91\">Pay-out over Starbucks 'slanty' eyes drawing<span class=\"css-1dedj2h-Rank e1ia0oo94\">6</span></span></span></a></p>, <p class=\"css-13k1mrq-PromoHeadline e1f5wbog2\"><a class=\"css-1hlxxic-PromoLink e1f5wbog6\" href=\"/news/world-us-canada-55723476\"><span aria-hidden=\"false\"><span class=\"css-orcmk8-HeadlineContainer e1ia0oo91\">Owners of Tiger King zoo ordered to surrender cubs<span class=\"css-1dedj2h-Rank e1ia0oo94\">7</span></span></span></a></p>, <p class=\"css-13k1mrq-PromoHeadline e1f5wbog2\"><a class=\"css-1hlxxic-PromoLink e1f5wbog6\" href=\"/news/world-us-canada-55723522\"><span aria-hidden=\"false\"><span class=\"css-orcmk8-HeadlineContainer e1ia0oo91\">US: China 'committed genocide against Uighurs'<span class=\"css-1dedj2h-Rank e1ia0oo94\">8</span></span></span></a></p>, <p class=\"css-13k1mrq-PromoHeadline e1f5wbog2\"><a class=\"css-1hlxxic-PromoLink e1f5wbog6\" href=\"/news/uk-politics-55723167\"><span aria-hidden=\"false\"><span class=\"css-orcmk8-HeadlineContainer e1ia0oo91\">PM's aid cut damaged UK's moral leadership, says May<span class=\"css-1dedj2h-Rank e1ia0oo94\">9</span></span></span></a></p>, <p class=\"css-13k1mrq-PromoHeadline e1f5wbog2\"><a class=\"css-1hlxxic-PromoLink e1f5wbog6\" href=\"/news/world-asia-55728398\"><span aria-hidden=\"false\"><span class=\"css-orcmk8-HeadlineContainer e1ia0oo91\">Bali to deport influencer over Twitter thread<span class=\"css-1dedj2h-Rank e1ia0oo94\">10</span></span></span></a></p>, <p>Â© 2021 BBC. The BBC is not responsible for the content of external sites.<!-- --> <style data-emotion-css=\"1xgx53b-Link\">.css-1xgx53b-Link{font-family:ReithSans,Helvetica,Arial,freesans,sans-serif;font-weight:700;-webkit-text-decoration:none;text-decoration:none;color:#FFFFFF;}.css-1xgx53b-Link:hover,.css-1xgx53b-Link:focus{-webkit-text-decoration:underline;text-decoration:underline;}</style><a class=\"css-1xgx53b-Link ejnx8uh1\" href=\"https://www.bbc.co.uk/help/web/links/\">Read about our approach to external linking.</a></p>]\n"
     ]
    }
   ],
   "source": [
    "print(content_p_tags)"
   ]
  },
  {
   "cell_type": "code",
   "execution_count": 351,
   "metadata": {
    "scrolled": true
   },
   "outputs": [
    {
     "name": "stdout",
     "output_type": "stream",
     "text": [
      "[('https://www.bbc.co.uk/news/world-55042935', 43, 'BBC 100 Women 2020: Who is on the list this year?'), ('https://www.bbc.co.uk/news/stories-55020994', 44, 'Sanna Marin: The feminist PM leading a coalition of women'), ('https://www.bbc.co.uk/news/world-us-canada-55729221', 45, 'Trump includes ex-aide Bannon in swathe of pardons'), ('https://www.bbc.co.uk/news/world-us-canada-55728852', 47, 'Biden to be sworn in as Trump leaves White House'), ('https://www.bbc.co.uk/news/world-us-canada-55723522', 48, \"US: China 'committed genocide against Uighurs'\")]\n",
      "--------------------\n",
      "26\n"
     ]
    }
   ],
   "source": [
    "# Notice here there are both relative links and absolute links.\n",
    "\n",
    "bbc_base_url = \"https://www.bbc.co.uk\"\n",
    "other_page_urls = []\n",
    "\n",
    "for paragraph_number, p_tag in enumerate(content_p_tags):\n",
    "    tag_links = p_tag.findAll('a', href=re.compile('^/news/'))\n",
    "\n",
    "    # Deal with relative links first\n",
    "    for a_tag in tag_links:\n",
    "        relurl = a_tag.get('href')\n",
    "        link_text = a_tag.text\n",
    "\n",
    "        other_page_urls.append(\n",
    "            (\n",
    "                urllib.parse.urljoin(bbc_base_url, relurl),\n",
    "                paragraph_number,\n",
    "                link_text,\n",
    "            )\n",
    "        )\n",
    "\n",
    "    # Deal with absolute links\n",
    "    tag_links = p_tag.findAll('a', href=re.compile('https://www.bbc.co.uk'))\n",
    "    for a_tag in tag_links:\n",
    "        absolute_url = a_tag.get('href')\n",
    "        link_text = a_tag.text\n",
    "        other_page_urls.append(\n",
    "            (absolute_url,\n",
    "             paragraph_number,\n",
    "             link_text,\n",
    "             ))\n",
    "\n",
    "print(other_page_urls[:5])\n",
    "print('--------------------')\n",
    "print(len(other_page_urls))"
   ]
  },
  {
   "cell_type": "code",
   "execution_count": 327,
   "metadata": {},
   "outputs": [
    {
     "name": "stdout",
     "output_type": "stream",
     "text": [
      "73\n",
      "range(0, 73)\n"
     ]
    },
    {
     "data": {
      "text/html": [
       "<div>\n",
       "<style scoped>\n",
       "    .dataframe tbody tr th:only-of-type {\n",
       "        vertical-align: middle;\n",
       "    }\n",
       "\n",
       "    .dataframe tbody tr th {\n",
       "        vertical-align: top;\n",
       "    }\n",
       "\n",
       "    .dataframe thead th {\n",
       "        text-align: right;\n",
       "    }\n",
       "</style>\n",
       "<table border=\"1\" class=\"dataframe\">\n",
       "  <thead>\n",
       "    <tr style=\"text-align: right;\">\n",
       "      <th></th>\n",
       "      <th>paragraph_text</th>\n",
       "      <th>source</th>\n",
       "      <th>paragraph_number</th>\n",
       "    </tr>\n",
       "  </thead>\n",
       "  <tbody>\n",
       "    <tr>\n",
       "      <th>0</th>\n",
       "      <td>By Fan Wang and Grace TsoiBBC World Service, H...</td>\n",
       "      <td>https://www.bbc.com/news/world-asia-54987675</td>\n",
       "      <td>0</td>\n",
       "    </tr>\n",
       "    <tr>\n",
       "      <th>1</th>\n",
       "      <td>She has faced a nationalist backlash for her d...</td>\n",
       "      <td>https://www.bbc.com/news/world-asia-54987675</td>\n",
       "      <td>1</td>\n",
       "    </tr>\n",
       "    <tr>\n",
       "      <th>2</th>\n",
       "      <td>'When facing a catastrophe, it's vital to voic...</td>\n",
       "      <td>https://www.bbc.com/news/world-asia-54987675</td>\n",
       "      <td>2</td>\n",
       "    </tr>\n",
       "    <tr>\n",
       "      <th>3</th>\n",
       "      <td>In late January, when Wuhan became the first p...</td>\n",
       "      <td>https://www.bbc.com/news/world-asia-54987675</td>\n",
       "      <td>3</td>\n",
       "    </tr>\n",
       "    <tr>\n",
       "      <th>4</th>\n",
       "      <td>The 65-year-old's daily posts on her Weibo acc...</td>\n",
       "      <td>https://www.bbc.com/news/world-asia-54987675</td>\n",
       "      <td>4</td>\n",
       "    </tr>\n",
       "    <tr>\n",
       "      <th>...</th>\n",
       "      <td>...</td>\n",
       "      <td>...</td>\n",
       "      <td>...</td>\n",
       "    </tr>\n",
       "    <tr>\n",
       "      <th>68</th>\n",
       "      <td>Owners of Tiger King zoo ordered to surrender ...</td>\n",
       "      <td>https://www.bbc.com/news/world-asia-54987675</td>\n",
       "      <td>68</td>\n",
       "    </tr>\n",
       "    <tr>\n",
       "      <th>69</th>\n",
       "      <td>US: China 'committed genocide against Uighurs'8</td>\n",
       "      <td>https://www.bbc.com/news/world-asia-54987675</td>\n",
       "      <td>69</td>\n",
       "    </tr>\n",
       "    <tr>\n",
       "      <th>70</th>\n",
       "      <td>PM's aid cut damaged UK's moral leadership, sa...</td>\n",
       "      <td>https://www.bbc.com/news/world-asia-54987675</td>\n",
       "      <td>70</td>\n",
       "    </tr>\n",
       "    <tr>\n",
       "      <th>71</th>\n",
       "      <td>Bali to deport influencer over Twitter thread10</td>\n",
       "      <td>https://www.bbc.com/news/world-asia-54987675</td>\n",
       "      <td>71</td>\n",
       "    </tr>\n",
       "    <tr>\n",
       "      <th>72</th>\n",
       "      <td>2021 BBC. The BBC is not responsible for the c...</td>\n",
       "      <td>https://www.bbc.com/news/world-asia-54987675</td>\n",
       "      <td>72</td>\n",
       "    </tr>\n",
       "  </tbody>\n",
       "</table>\n",
       "<p>73 rows × 3 columns</p>\n",
       "</div>"
      ],
      "text/plain": [
       "                                       paragraph_text  \\\n",
       "0   By Fan Wang and Grace TsoiBBC World Service, H...   \n",
       "1   She has faced a nationalist backlash for her d...   \n",
       "2   'When facing a catastrophe, it's vital to voic...   \n",
       "3   In late January, when Wuhan became the first p...   \n",
       "4   The 65-year-old's daily posts on her Weibo acc...   \n",
       "..                                                ...   \n",
       "68  Owners of Tiger King zoo ordered to surrender ...   \n",
       "69    US: China 'committed genocide against Uighurs'8   \n",
       "70  PM's aid cut damaged UK's moral leadership, sa...   \n",
       "71    Bali to deport influencer over Twitter thread10   \n",
       "72  2021 BBC. The BBC is not responsible for the c...   \n",
       "\n",
       "                                          source  paragraph_number  \n",
       "0   https://www.bbc.com/news/world-asia-54987675                 0  \n",
       "1   https://www.bbc.com/news/world-asia-54987675                 1  \n",
       "2   https://www.bbc.com/news/world-asia-54987675                 2  \n",
       "3   https://www.bbc.com/news/world-asia-54987675                 3  \n",
       "4   https://www.bbc.com/news/world-asia-54987675                 4  \n",
       "..                                           ...               ...  \n",
       "68  https://www.bbc.com/news/world-asia-54987675                68  \n",
       "69  https://www.bbc.com/news/world-asia-54987675                69  \n",
       "70  https://www.bbc.com/news/world-asia-54987675                70  \n",
       "71  https://www.bbc.com/news/world-asia-54987675                71  \n",
       "72  https://www.bbc.com/news/world-asia-54987675                72  \n",
       "\n",
       "[73 rows x 3 columns]"
      ]
     },
     "execution_count": 327,
     "metadata": {},
     "output_type": "execute_result"
    }
   ],
   "source": [
    "content_paragraphs_df['source'] = [bbc_fangfang_report] * len(content_paragraphs_df['paragraph_text'])\n",
    "print(len(content_paragraphs_df['paragraph_text']))\n",
    "content_paragraphs_df['paragraph_number'] = range(len(content_paragraphs_df['paragraph_text']))\n",
    "print(range(len(content_paragraphs_df['paragraph_text'])))\n",
    "content_paragraphs_df"
   ]
  },
  {
   "cell_type": "markdown",
   "metadata": {},
   "source": [
    "# <span style=\"color:red\">Section 2: recursive</span>"
   ]
  },
  {
   "cell_type": "code",
   "execution_count": 328,
   "metadata": {
    "code_folding": []
   },
   "outputs": [],
   "source": [
    "content_paragraphs_df['source_paragraph_number'] = [\n",
    "    None] * len(content_paragraphs_df['paragraph_text'])\n",
    "content_paragraphs_df['source_paragraph_text'] = [\n",
    "    None] * len(content_paragraphs_df['paragraph_text'])\n",
    "\n",
    "\n",
    "def getTextFromWikiPage(targetURL, sourceParNum, sourceText):\n",
    "    # Make a dict to store data before adding it to the DataFrame\n",
    "    parsDict = {'source': [], 'paragraph_number': [], 'paragraph_text': [\n",
    "    ], 'source_paragraph_number': [],  'source_paragraph_text': []}\n",
    "    # Now we get the page\n",
    "    r = requests.get(targetURL)\n",
    "    soup = bs4.BeautifulSoup(r.text, 'html.parser')\n",
    "    # enumerating gives use the paragraph number\n",
    "    for parNum, pTag in enumerate(soup.body.findAll('p')):\n",
    "        # same regex as before\n",
    "        parsDict['paragraph_text'].append(re.sub(r'\\[\\d+\\]', '', pTag.text))\n",
    "        parsDict['paragraph_number'].append(parNum)\n",
    "        parsDict['source'].append(targetURL)\n",
    "        parsDict['source_paragraph_number'].append(sourceParNum)\n",
    "        parsDict['source_paragraph_text'].append(sourceText)\n",
    "\n",
    "    # Generate new other_page_urls <--- type: a list of tuples\n",
    "    global other_page_urls\n",
    "    other_page_urls = []\n",
    "\n",
    "    contentPTags = soup.body.findAll('p')\n",
    "    for paragraphNum, pTag in enumerate(contentPTags):\n",
    "        tagLinks = pTag.findAll('a', href=re.compile('^/news/'))\n",
    "        for aTag in tagLinks:\n",
    "            relurl = aTag.get('href')\n",
    "            linkText = aTag.text\n",
    "            other_page_urls.append((\n",
    "                urllib.parse.urljoin(bbc_base_url, relurl),\n",
    "                paragraphNum,\n",
    "                linkText,\n",
    "            ))\n",
    "\n",
    "        tagLinks = pTag.findAll('a', href=re.compile('https://www.bbc.co.uk'))\n",
    "        for aTag in tagLinks:\n",
    "            absolute_url = aTag.get('href')\n",
    "            linkText = aTag.text\n",
    "            other_page_urls.append((\n",
    "                absolute_url,\n",
    "                paragraphNum,\n",
    "                linkText,\n",
    "            ))\n",
    "    return pandas.DataFrame(parsDict)"
   ]
  },
  {
   "cell_type": "code",
   "execution_count": 353,
   "metadata": {
    "code_folding": []
   },
   "outputs": [
    {
     "name": "stdout",
     "output_type": "stream",
     "text": [
      "Current depth level: 2\n",
      "Current depth level: 1\n",
      "Current depth level: 0\n"
     ]
    },
    {
     "data": {
      "text/html": [
       "<div>\n",
       "<style scoped>\n",
       "    .dataframe tbody tr th:only-of-type {\n",
       "        vertical-align: middle;\n",
       "    }\n",
       "\n",
       "    .dataframe tbody tr th {\n",
       "        vertical-align: top;\n",
       "    }\n",
       "\n",
       "    .dataframe thead th {\n",
       "        text-align: right;\n",
       "    }\n",
       "</style>\n",
       "<table border=\"1\" class=\"dataframe\">\n",
       "  <thead>\n",
       "    <tr style=\"text-align: right;\">\n",
       "      <th></th>\n",
       "      <th>paragraph_text</th>\n",
       "      <th>source</th>\n",
       "      <th>paragraph_number</th>\n",
       "      <th>source_paragraph_number</th>\n",
       "      <th>source_paragraph_text</th>\n",
       "    </tr>\n",
       "  </thead>\n",
       "  <tbody>\n",
       "    <tr>\n",
       "      <th>0</th>\n",
       "      <td>By Fan Wang and Grace TsoiBBC World Service, H...</td>\n",
       "      <td>https://www.bbc.com/news/world-asia-54987675</td>\n",
       "      <td>0</td>\n",
       "      <td>None</td>\n",
       "      <td>None</td>\n",
       "    </tr>\n",
       "    <tr>\n",
       "      <th>1</th>\n",
       "      <td>She has faced a nationalist backlash for her d...</td>\n",
       "      <td>https://www.bbc.com/news/world-asia-54987675</td>\n",
       "      <td>1</td>\n",
       "      <td>None</td>\n",
       "      <td>None</td>\n",
       "    </tr>\n",
       "    <tr>\n",
       "      <th>2</th>\n",
       "      <td>'When facing a catastrophe, it's vital to voic...</td>\n",
       "      <td>https://www.bbc.com/news/world-asia-54987675</td>\n",
       "      <td>2</td>\n",
       "      <td>None</td>\n",
       "      <td>None</td>\n",
       "    </tr>\n",
       "    <tr>\n",
       "      <th>3</th>\n",
       "      <td>In late January, when Wuhan became the first p...</td>\n",
       "      <td>https://www.bbc.com/news/world-asia-54987675</td>\n",
       "      <td>3</td>\n",
       "      <td>None</td>\n",
       "      <td>None</td>\n",
       "    </tr>\n",
       "    <tr>\n",
       "      <th>4</th>\n",
       "      <td>The 65-year-old's daily posts on her Weibo acc...</td>\n",
       "      <td>https://www.bbc.com/news/world-asia-54987675</td>\n",
       "      <td>4</td>\n",
       "      <td>None</td>\n",
       "      <td>None</td>\n",
       "    </tr>\n",
       "    <tr>\n",
       "      <th>...</th>\n",
       "      <td>...</td>\n",
       "      <td>...</td>\n",
       "      <td>...</td>\n",
       "      <td>...</td>\n",
       "      <td>...</td>\n",
       "    </tr>\n",
       "    <tr>\n",
       "      <th>1940</th>\n",
       "      <td>Owners of Tiger King zoo ordered to surrender ...</td>\n",
       "      <td>https://www.bbc.co.uk/news/stories-55020994</td>\n",
       "      <td>97</td>\n",
       "      <td>44</td>\n",
       "      <td>Sanna Marin: The feminist PM leading a coaliti...</td>\n",
       "    </tr>\n",
       "    <tr>\n",
       "      <th>1941</th>\n",
       "      <td>US: China 'committed genocide against Uighurs'8</td>\n",
       "      <td>https://www.bbc.co.uk/news/stories-55020994</td>\n",
       "      <td>98</td>\n",
       "      <td>44</td>\n",
       "      <td>Sanna Marin: The feminist PM leading a coaliti...</td>\n",
       "    </tr>\n",
       "    <tr>\n",
       "      <th>1942</th>\n",
       "      <td>PM's aid cut damaged UK's moral leadership, sa...</td>\n",
       "      <td>https://www.bbc.co.uk/news/stories-55020994</td>\n",
       "      <td>99</td>\n",
       "      <td>44</td>\n",
       "      <td>Sanna Marin: The feminist PM leading a coaliti...</td>\n",
       "    </tr>\n",
       "    <tr>\n",
       "      <th>1943</th>\n",
       "      <td>Bali to deport influencer over Twitter thread10</td>\n",
       "      <td>https://www.bbc.co.uk/news/stories-55020994</td>\n",
       "      <td>100</td>\n",
       "      <td>44</td>\n",
       "      <td>Sanna Marin: The feminist PM leading a coaliti...</td>\n",
       "    </tr>\n",
       "    <tr>\n",
       "      <th>1944</th>\n",
       "      <td>Â© 2021 BBC. The BBC is not responsible for th...</td>\n",
       "      <td>https://www.bbc.co.uk/news/stories-55020994</td>\n",
       "      <td>101</td>\n",
       "      <td>44</td>\n",
       "      <td>Sanna Marin: The feminist PM leading a coaliti...</td>\n",
       "    </tr>\n",
       "  </tbody>\n",
       "</table>\n",
       "<p>1945 rows × 5 columns</p>\n",
       "</div>"
      ],
      "text/plain": [
       "                                         paragraph_text  \\\n",
       "0     By Fan Wang and Grace TsoiBBC World Service, H...   \n",
       "1     She has faced a nationalist backlash for her d...   \n",
       "2     'When facing a catastrophe, it's vital to voic...   \n",
       "3     In late January, when Wuhan became the first p...   \n",
       "4     The 65-year-old's daily posts on her Weibo acc...   \n",
       "...                                                 ...   \n",
       "1940  Owners of Tiger King zoo ordered to surrender ...   \n",
       "1941    US: China 'committed genocide against Uighurs'8   \n",
       "1942  PM's aid cut damaged UK's moral leadership, sa...   \n",
       "1943    Bali to deport influencer over Twitter thread10   \n",
       "1944  Â© 2021 BBC. The BBC is not responsible for th...   \n",
       "\n",
       "                                            source  paragraph_number  \\\n",
       "0     https://www.bbc.com/news/world-asia-54987675                 0   \n",
       "1     https://www.bbc.com/news/world-asia-54987675                 1   \n",
       "2     https://www.bbc.com/news/world-asia-54987675                 2   \n",
       "3     https://www.bbc.com/news/world-asia-54987675                 3   \n",
       "4     https://www.bbc.com/news/world-asia-54987675                 4   \n",
       "...                                            ...               ...   \n",
       "1940   https://www.bbc.co.uk/news/stories-55020994                97   \n",
       "1941   https://www.bbc.co.uk/news/stories-55020994                98   \n",
       "1942   https://www.bbc.co.uk/news/stories-55020994                99   \n",
       "1943   https://www.bbc.co.uk/news/stories-55020994               100   \n",
       "1944   https://www.bbc.co.uk/news/stories-55020994               101   \n",
       "\n",
       "     source_paragraph_number  \\\n",
       "0                       None   \n",
       "1                       None   \n",
       "2                       None   \n",
       "3                       None   \n",
       "4                       None   \n",
       "...                      ...   \n",
       "1940                      44   \n",
       "1941                      44   \n",
       "1942                      44   \n",
       "1943                      44   \n",
       "1944                      44   \n",
       "\n",
       "                                  source_paragraph_text  \n",
       "0                                                  None  \n",
       "1                                                  None  \n",
       "2                                                  None  \n",
       "3                                                  None  \n",
       "4                                                  None  \n",
       "...                                                 ...  \n",
       "1940  Sanna Marin: The feminist PM leading a coaliti...  \n",
       "1941  Sanna Marin: The feminist PM leading a coaliti...  \n",
       "1942  Sanna Marin: The feminist PM leading a coaliti...  \n",
       "1943  Sanna Marin: The feminist PM leading a coaliti...  \n",
       "1944  Sanna Marin: The feminist PM leading a coaliti...  \n",
       "\n",
       "[1945 rows x 5 columns]"
      ]
     },
     "execution_count": 353,
     "metadata": {},
     "output_type": "execute_result"
    }
   ],
   "source": [
    "end_depth_level = 3\n",
    "while end_depth_level != 0:\n",
    "    end_depth_level -= 1\n",
    "    print(\"Current depth level:\", end_depth_level)\n",
    "    for url_tuple in other_page_urls[1:2]:\n",
    "        content_paragraphs_df = content_paragraphs_df.append(getTextFromWikiPage(*url_tuple), ignore_index=True)\n",
    "content_paragraphs_df"
   ]
  },
  {
   "cell_type": "code",
   "execution_count": 330,
   "metadata": {},
   "outputs": [
    {
     "data": {
      "text/plain": [
       "array(['https://www.bbc.com/news/world-asia-54987675',\n",
       "       'https://www.bbc.co.uk/news/stories-55020994',\n",
       "       'https://www.bbc.co.uk/news/world-us-canada-55729221',\n",
       "       'https://www.bbc.co.uk/news/world-us-canada-44244687'],\n",
       "      dtype=object)"
      ]
     },
     "execution_count": 330,
     "metadata": {},
     "output_type": "execute_result"
    }
   ],
   "source": [
    "# I only extract one link from \"one\" website. Therefore, \n",
    "# the following result shows that I extract info from \"three\" different sites\n",
    "\n",
    "content_paragraphs_df.source.unique()"
   ]
  },
  {
   "cell_type": "markdown",
   "metadata": {},
   "source": [
    "\n",
    "# <span style=\"color:red\">Section 3</span>\n",
    "<span style=\"color:red\">Construct cells immediately below this that extract and organize textual content from text, PDF or Word into a pandas dataframe.</span>\n"
   ]
  },
  {
   "cell_type": "markdown",
   "metadata": {},
   "source": [
    "## Raw Files"
   ]
  },
  {
   "cell_type": "code",
   "execution_count": 370,
   "metadata": {},
   "outputs": [
    {
     "data": {
      "text/html": [
       "<div>\n",
       "<style scoped>\n",
       "    .dataframe tbody tr th:only-of-type {\n",
       "        vertical-align: middle;\n",
       "    }\n",
       "\n",
       "    .dataframe tbody tr th {\n",
       "        vertical-align: top;\n",
       "    }\n",
       "\n",
       "    .dataframe thead th {\n",
       "        text-align: right;\n",
       "    }\n",
       "</style>\n",
       "<table border=\"1\" class=\"dataframe\">\n",
       "  <thead>\n",
       "    <tr style=\"text-align: right;\">\n",
       "      <th></th>\n",
       "      <th>text</th>\n",
       "    </tr>\n",
       "  </thead>\n",
       "  <tbody>\n",
       "    <tr>\n",
       "      <th>test32112.txt</th>\n",
       "      <td>hehe\\nhaha\\n</td>\n",
       "    </tr>\n",
       "    <tr>\n",
       "      <th>sometextfile.txt</th>\n",
       "      <td>A line\\nAnother line\\nA line with a few unusua...</td>\n",
       "    </tr>\n",
       "    <tr>\n",
       "      <th>problem2.txt</th>\n",
       "      <td>def lru_cache(func, maxsize=128):\\n    '''\\n  ...</td>\n",
       "    </tr>\n",
       "    <tr>\n",
       "      <th>problem1.txt</th>\n",
       "      <td>### No importing other modules. You should are...</td>\n",
       "    </tr>\n",
       "    <tr>\n",
       "      <th>sample1.txt</th>\n",
       "      <td>Utilitatis causa amicitia est quaesita.\\nLorem...</td>\n",
       "    </tr>\n",
       "    <tr>\n",
       "      <th>sample2.txt</th>\n",
       "      <td>Aeque enim contingit omnibus fidibus, ut incon...</td>\n",
       "    </tr>\n",
       "    <tr>\n",
       "      <th>sample3.txt</th>\n",
       "      <td>Quod equidem non reprehendo;\\nLorem ipsum dolo...</td>\n",
       "    </tr>\n",
       "  </tbody>\n",
       "</table>\n",
       "</div>"
      ],
      "text/plain": [
       "                                                               text\n",
       "test32112.txt                                          hehe\\nhaha\\n\n",
       "sometextfile.txt  A line\\nAnother line\\nA line with a few unusua...\n",
       "problem2.txt      def lru_cache(func, maxsize=128):\\n    '''\\n  ...\n",
       "problem1.txt      ### No importing other modules. You should are...\n",
       "sample1.txt       Utilitatis causa amicitia est quaesita.\\nLorem...\n",
       "sample2.txt       Aeque enim contingit omnibus fidibus, ut incon...\n",
       "sample3.txt       Quod equidem non reprehendo;\\nLorem ipsum dolo..."
      ]
     },
     "execution_count": 370,
     "metadata": {},
     "output_type": "execute_result"
    }
   ],
   "source": [
    "target_dir = \"./HW_txt_data\"\n",
    "text_list = []\n",
    "file_names = []\n",
    "\n",
    "for file in (file for file in os.scandir(target_dir) if file.is_file() and not file.name.startswith(\".\")):\n",
    "    with open(file.path, encoding='utf-8') as f:\n",
    "        text_list.append(f.read())\n",
    "    file_names.append(file.name)\n",
    "\n",
    "txt_df = pandas.DataFrame({'text': text_list}, index=file_names)\n",
    "txt_df"
   ]
  },
  {
   "cell_type": "code",
   "execution_count": 355,
   "metadata": {},
   "outputs": [
    {
     "name": "stdout",
     "output_type": "stream",
     "text": [
      "%PDF-1.5\n",
      "%����\n",
      "3 0 obj <<\n",
      "/Length 4875      \n",
      "/Filter /FlateDecode\n",
      ">>\n",
      "stream\n",
      "xڍ[I��8��ׯ�95\u0015�bq_�\u000e�v���j�\u0012]�pLT�\u0001� \t�\u0014���,կ���\u0004��=�\u0014�\u0002\u000fo��\f",
      "�w��?�\t�����o��&wa�qT�=\u001e",
      "���/�� ��\"�{���꽭6a��Z�o�Q^x��$��n��{��_7�8I���9�\n",
      "���-�����p@��\u0006�C5��I��w��\n",
      "v�E\u0019�=��4�\u0005\u0006~����\u0016E�z��e{\u001f\u001a�i\u0003\u0014��f�n�I�d�\u000f�0+\u0013�6!.�Զ�\u0005�����\u001fD�o����x��ʕ�߫\u001e",
      "\u000fЯ��|�\u001f�Q,Q�յ�_�I�]{\u0001�����x�[�T�|�s<��>7\u000f.uRk\u0010m�8u\u0010s\u0002g��~^\n"
     ]
    }
   ],
   "source": [
    "pdf_link = \"https://www.cs.cornell.edu/~cristian/Echoes_of_power_files/echoes_of_power.pdf\"\n",
    "info_extraction_request = requests.get(pdf_link, stream=True)\n",
    "print(info_extraction_request.text[:500])"
   ]
  },
  {
   "cell_type": "code",
   "execution_count": 340,
   "metadata": {},
   "outputs": [],
   "source": [
    "def readPDF(pdfFile):\n",
    "    # Based on code from http://stackoverflow.com/a/20905381/4955164\n",
    "    codec = 'utf-8'\n",
    "    rsrcmgr = pdfminer.pdfinterp.PDFResourceManager()\n",
    "    retstr = io.StringIO()\n",
    "    layoutParams = pdfminer.layout.LAParams()\n",
    "    device = pdfminer.converter.TextConverter(\n",
    "        rsrcmgr, retstr, laparams=layoutParams, codec=codec)\n",
    "    # We need a device and an interpreter\n",
    "    interpreter = pdfminer.pdfinterp.PDFPageInterpreter(rsrcmgr, device)\n",
    "    password = ''\n",
    "    maxpages = 0\n",
    "    caching = True\n",
    "    pagenos = set()\n",
    "    for page in pdfminer.pdfpage.PDFPage.get_pages(pdfFile, pagenos, maxpages=maxpages, password=password, caching=caching, check_extractable=True):\n",
    "        interpreter.process_page(page)\n",
    "    device.close()\n",
    "    returnedString = retstr.getvalue()\n",
    "    retstr.close()\n",
    "    return returnedString"
   ]
  },
  {
   "cell_type": "code",
   "execution_count": 341,
   "metadata": {},
   "outputs": [],
   "source": [
    "info_extraction_bytes = io.BytesIO(info_extraction_request.content)"
   ]
  },
  {
   "cell_type": "code",
   "execution_count": 368,
   "metadata": {},
   "outputs": [
    {
     "name": "stdout",
     "output_type": "stream",
     "text": [
      "['Echoes of Power']\n",
      "['in Social Interaction', 'Cristian Danescu-Niculescu-Mizil', 'Cornell University', 'cristian@cs.cornell.edu,']\n"
     ]
    }
   ],
   "source": [
    "# Extract the PDF's title\n",
    "pdf_title = [readPDF(info_extraction_bytes)[:15]]\n",
    "print(pdf_title)\n",
    "\n",
    "# Extract some of the PDF's texts and clean them\n",
    "pdf_text = readPDF(info_extraction_bytes)[55:2500].split('\\n')\n",
    "cleaned_pdf_text = []\n",
    "for item in pdf_text:\n",
    "    if len(item) > 0:\n",
    "        cleaned_pdf_text.append(re.sub(r'\\n', '', item))\n",
    "\n",
    "print(cleaned_pdf_text[:4])"
   ]
  },
  {
   "cell_type": "code",
   "execution_count": 366,
   "metadata": {},
   "outputs": [
    {
     "name": "stdout",
     "output_type": "stream",
     "text": [
      "              title                                               text\n",
      "0   Echoes of Power                              in Social Interaction\n",
      "1   Echoes of Power                   Cristian Danescu-Niculescu-Mizil\n",
      "2   Echoes of Power                                 Cornell University\n",
      "3   Echoes of Power                           cristian@cs.cornell.edu,\n",
      "4   Echoes of Power                               llee@cs.cornell.edu,\n",
      "5   Echoes of Power                              bopang@yahoo-inc.com,\n",
      "6   Echoes of Power                                        Lillian Lee\n",
      "7   Echoes of Power                                 Cornell University\n",
      "8   Echoes of Power                                            Bo Pang\n",
      "9   Echoes of Power                                             Yahoo!\n",
      "10  Echoes of Power                                      Jon Kleinberg\n",
      "11  Echoes of Power                                 Cornell University\n",
      "12  Echoes of Power                            kleinber@cs.cornell.edu\n",
      "13  Echoes of Power                                           ABSTRACT\n",
      "14  Echoes of Power  Understanding social interaction within groups...\n",
      "15  Echoes of Power  ing online communities. Most current work focu...\n",
      "16  Echoes of Power  properties: who talks to whom, and how such in...\n",
      "17  Echoes of Power  larger network structures. The interactions th...\n",
      "18  Echoes of Power  generally take place in the form of natural la...\n",
      "19  Echoes of Power  ken or written — and one could reasonably supp...\n",
      "20  Echoes of Power  manifested in language might also provide info...\n",
      "21  Echoes of Power  status, and other aspects of the group’s dynam...\n",
      "22  Echoes of Power  ever, ﬁnding domain-independent language-based...\n",
      "23  Echoes of Power                                       a challenge.\n",
      "24  Echoes of Power  Here, we show that in group discussions, power...\n",
      "25  Echoes of Power  tween participants are subtly revealed by how ...\n",
      "26  Echoes of Power  immediately echoes the linguistic style of the...\n",
      "27  Echoes of Power  sponding to. Starting from this observation, w...\n",
      "28  Echoes of Power  ysis framework based on linguistic coordinatio...\n",
      "29  Echoes of Power  to shed light on power relationships and that ...\n",
      "30  Echoes of Power  across multiple types of power — including a m...\n",
      "31  Echoes of Power  of power based on status differences, and a mo...\n",
      "32  Echoes of Power  of power in which one individual experiences a...\n",
      "33  Echoes of Power  on another. Using this framework, we study how...\n",
      "34  Echoes of Power  behavior can reveal power relationships in two...\n",
      "35  Echoes of Power  tings: discussions among Wikipedians and argum...\n",
      "36  Echoes of Power                               U. S. Supreme Court.\n",
      "37  Echoes of Power  Categories and Subject Descriptors: J.4 [Compu...\n",
      "38  Echoes of Power             tions]: Social and behavioral sciences\n",
      "39  Echoes of Power        General Terms: Measurement, Experimentation\n",
      "40  Echoes of Power  Keywords power, relations, dependence, social ...\n",
      "41  Echoes of Power  style, coordination, linguistic convergence, l...\n",
      "42  Echoes of Power                munities, dependence, accommodation\n",
      "43  Echoes of Power                                                 1.\n",
      "44  Echoes of Power                                       INTRODUCTION\n",
      "45  Echoes of Power  With the arrival of detailed data on the inter...\n",
      "46  Echoes of Power  groups — generally coming from the on-line dom...\n",
      "47  Echoes of Power  line of research has developed around the phen...\n",
      "48  Echoes of Power  in these groups. To date, these analyses have ...\n",
      "49  Echoes of Power  features of the interactions, including who ta...\n",
      "50  Echoes of Power  quently, and how these patterns of interaction...\n",
      "51  Echoes of Power                                        structures.\n",
      "52  Echoes of Power            But the interactions themselves are gen\n"
     ]
    }
   ],
   "source": [
    "pdf_df = pandas.DataFrame({\"title\": pdf_title*len(cleaned_pdf_text)})\n",
    "pdf_df['text'] = cleaned_pdf_text\n",
    "print(pdf_df)"
   ]
  },
  {
   "cell_type": "code",
   "execution_count": 345,
   "metadata": {},
   "outputs": [
    {
     "name": "stdout",
     "output_type": "stream",
     "text": [
      "Prevention of vaccine-matched and mismatched influenza in children 6−35 months of age: a multinational randomized trial across five influenza seasons\n",
      "Authors: Claeys C1, MD; Zaman K*2, PhD; Dbaibo G3, MD; Li P4, PhD; Izu A5, MS; Kosalaraksa P6, MD; Rivera L7, MD; Acosta B8, MD; Arroba Basanta ML9, MD; Aziz A2, MD; Cabanero MA10, PhD; Chandrashekaran V11, MS; Corsaro B11, PhD; Cousin L12, MD; Diaz A13, MD; Diez-Domingo J14, MD; Dinleyici EC15, MD; Faust SN16, MD; Friel D1, PhD; Garcia-Sicilia J17, MD; Gomez-Go GD18, MD; Gonzales MLA19, MS; Hughes SM20, MD; Jackowska T21, MD; Kant S22, MD; Lucero M23, MD; Malvaux L1, PhD; Mares Bermudez J24, MD; Martinon-Torres F25, PhD; Miranda M26, MD; Montellano M18, MD; Peix Sambola MA27, MD; Prymula R28, MD; Puthanakit T29, MD; Ruzkova R30, MD; Sadowska-Krawczenko I31, PhD; Salamanca de la Cueva I32, MD; Sokal E33, MD; Soni J34, MA; Szymanski H35, MD; Ulied A36, MD; Schuind A11, MD; Jain VKǂ37, MD; Innis BL38, MD; for the Flu4VEC Study Group \n",
      "* Co-first author\n"
     ]
    }
   ],
   "source": [
    "word_docx_link = \"https://eprints.soton.ac.uk/417883/1/Claeys_et_al_LCAH_v3_15_December.docx\"\n",
    "word_docx_request = requests.get(word_docx_link, stream=True)\n",
    "word_docx_content = docx.Document(io.BytesIO(word_docx_request.content))\n",
    "for paragraph in word_docx_content.paragraphs[:3]:\n",
    "    print(paragraph.text)"
   ]
  },
  {
   "cell_type": "code",
   "execution_count": 371,
   "metadata": {},
   "outputs": [],
   "source": [
    "def downloadIfNeeded(targetURL, outputFile, **openkwargs):\n",
    "    if not os.path.isfile(outputFile):\n",
    "        outputDir = os.path.dirname(outputFile)\n",
    "        #This function is a more general os.mkdir()\n",
    "        if len(outputDir) > 0:\n",
    "            os.makedirs(outputDir, exist_ok = True)\n",
    "        r = requests.get(targetURL, stream=True)\n",
    "        #Using a closure like this is generally better than having to\n",
    "        #remember to close the file. There are ways to make this function\n",
    "        #work as a closure too\n",
    "        with open(outputFile, 'wb') as f:\n",
    "            f.write(r.content)\n",
    "    return open(outputFile, **openkwargs)"
   ]
  },
  {
   "cell_type": "code",
   "execution_count": 372,
   "metadata": {},
   "outputs": [
    {
     "name": "stdout",
     "output_type": "stream",
     "text": [
      "File is not a zip file\n"
     ]
    }
   ],
   "source": [
    "word_docx_save = \"word_docx_example.docx\"\n",
    "try:\n",
    "    word_docx_content = docx.Document(downloadIfNeeded(word_docx_link, word_docx_save))\n",
    "except Exception as e:\n",
    "    print(e)"
   ]
  },
  {
   "cell_type": "code",
   "execution_count": 380,
   "metadata": {},
   "outputs": [
    {
     "name": "stdout",
     "output_type": "stream",
     "text": [
      "        Title Paragraph Content\n",
      "0  Prevention        Authors: C\n",
      "1  Prevention        * Co-first\n",
      "2  Prevention        ǂ Co-last \n",
      "3  Prevention        Affiliatio\n",
      "4  Prevention        Correspond\n",
      "5  Prevention        Current wo\n",
      "6  Prevention        Research i\n"
     ]
    }
   ],
   "source": [
    "word_docx_content = docx.Document(downloadIfNeeded(word_docx_link, word_docx_save, mode='rb'))\n",
    "word_docx_content_short_list = []\n",
    "\n",
    "# Modify this to change the number of paragraphs retrived\n",
    "for paragraph in word_docx_content.paragraphs[:10]:\n",
    "    word_docx_content_short_list.append(paragraph.text[:10])\n",
    "\n",
    "# Organize the info into a dataframe\n",
    "word_docx_title = [word_docx_content_short_list[0]]\n",
    "word_docx_short_content = [paragraph for paragraph in word_docx_content_short_list[1:] if len(paragraph) > 1]\n",
    "word_docx_df_dict = {\n",
    "    \"Title\": word_docx_title*len(word_docx_short_content),\n",
    "    \"Paragraph Content\": word_docx_short_content\n",
    "}\n",
    "word_docx_df = pandas.DataFrame(word_docx_df_dict)\n",
    "print(word_docx_df)"
   ]
  },
  {
   "cell_type": "code",
   "execution_count": null,
   "metadata": {},
   "outputs": [],
   "source": []
  }
 ],
 "metadata": {
  "kernelspec": {
   "display_name": "Python 3",
   "language": "python",
   "name": "python3"
  },
  "language_info": {
   "codemirror_mode": {
    "name": "ipython",
    "version": 3
   },
   "file_extension": ".py",
   "mimetype": "text/x-python",
   "name": "python",
   "nbconvert_exporter": "python",
   "pygments_lexer": "ipython3",
   "version": "3.8.5"
  },
  "toc": {
   "base_numbering": 1,
   "nav_menu": {},
   "number_sections": true,
   "sideBar": true,
   "skip_h1_title": false,
   "title_cell": "Table of Contents",
   "title_sidebar": "Contents",
   "toc_cell": false,
   "toc_position": {},
   "toc_section_display": true,
   "toc_window_display": false
  },
  "varInspector": {
   "cols": {
    "lenName": 16,
    "lenType": 16,
    "lenVar": 40
   },
   "kernels_config": {
    "python": {
     "delete_cmd_postfix": "",
     "delete_cmd_prefix": "del ",
     "library": "var_list.py",
     "varRefreshCmd": "print(var_dic_list())"
    },
    "r": {
     "delete_cmd_postfix": ") ",
     "delete_cmd_prefix": "rm(",
     "library": "var_list.r",
     "varRefreshCmd": "cat(var_dic_list()) "
    }
   },
   "types_to_exclude": [
    "module",
    "function",
    "builtin_function_or_method",
    "instance",
    "_Feature"
   ],
   "window_display": false
  }
 },
 "nbformat": 4,
 "nbformat_minor": 4
}
