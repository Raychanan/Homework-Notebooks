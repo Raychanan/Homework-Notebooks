{
 "cells": [
  {
   "cell_type": "markdown",
   "metadata": {},
   "source": [
    "# Week 1 - Retreiving and Preparing Text for Machines\n",
    "\n",
    "This week, we begin by \"begging, borrowing and stealing\" text from several\n",
    "contexts of human communication (e.g., PDFs, HTML, Word) and preparing it for\n",
    "machines to \"read\" and analyze. This notebook outlines scraping text from the\n",
    "web, PDF and Word documents. Then we detail \"spidering\" or walking\n",
    "through hyperlinks to build samples of online content, and using APIs,\n",
    "Application Programming Interfaces, provided by webservices to access their\n",
    "content. Along the way, we will use regular expressions, outlined in the\n",
    "reading, to remove unwanted formatting and ornamentation. Finally, we discuss\n",
    "various text encodings, filtering and data structures in which text can be\n",
    "placed for analysis.\n",
    "\n",
    "For this notebook we will be using the following packages:"
   ]
  },
  {
   "cell_type": "markdown",
   "metadata": {},
   "source": [
    "We made a python package just for this course: lucem_illud. If you haven't installed this package, you should run the following code first. You don't need to install the package later; all you need to do is just to import the package with: import lucem_illud. "
   ]
  },
  {
   "cell_type": "code",
   "execution_count": null,
   "metadata": {},
   "outputs": [],
   "source": [
    "!pip install git+git://github.com/UChicago-Computational-Content-Analysis/lucem_illud.git\n",
    "#installing lucem_illud package"
   ]
  },
  {
   "cell_type": "markdown",
   "metadata": {},
   "source": [
    "If you're not familiar with jupyter notebook, you may wonder what the exclamation mark(!) at the beginning of the command does (or even what pip means). The exclamation mark enables us to execute Terminal commands in the notebook cells. "
   ]
  },
  {
   "cell_type": "code",
   "execution_count": null,
   "metadata": {},
   "outputs": [],
   "source": [
    "#Special module written for this class\n",
    "#This provides access to data and to helper functions from previous weeks\n",
    "import lucem_illud #pip install git+git://github.com/UChicago-Computational-Content-Analysis/lucem_illud.git\n",
    "\n",
    "#All these packages need to be installed from pip\n",
    "import requests #for http requests\n",
    "import bs4 #called `beautifulsoup4`, an html parser\n",
    "import pandas #gives us DataFrames\n",
    "import docx #reading MS doc files, install as `python-docx`\n",
    "\n",
    "#Stuff for pdfs\n",
    "#Install as `pdfminer2`\n",
    "import pdfminer.pdfinterp\n",
    "import pdfminer.converter\n",
    "import pdfminer.layout\n",
    "import pdfminer.pdfpage\n",
    "\n",
    "#These come with Python\n",
    "import re #for regexs\n",
    "import urllib.parse #For joining urls\n",
    "import io #for making http requests look like files\n",
    "import json #For Tumblr API responses\n",
    "import os.path #For checking if files exist\n",
    "import os #For making directories"
   ]
  },
  {
   "cell_type": "markdown",
   "metadata": {},
   "source": [
    "We will also be working on the following files/urls"
   ]
  },
  {
   "cell_type": "code",
   "execution_count": null,
   "metadata": {},
   "outputs": [],
   "source": [
    "wikipedia_base_url = 'https://en.wikipedia.org'\n",
    "wikipedia_content_analysis = 'https://en.wikipedia.org/wiki/Content_analysis'\n",
    "content_analysis_save = 'wikipedia_content_analysis.html'\n",
    "example_text_file = 'sometextfile.txt'\n",
    "information_extraction_pdf = 'https://github.com/Computational-Content-Analysis-2018/Data-Files/raw/master/1-intro/Content%20Analysis%2018.pdf'\n",
    "example_docx = 'https://github.com/Computational-Content-Analysis-2018/Data-Files/raw/master/1-intro/macs6000_connecting_to_midway.docx'\n",
    "example_docx_save = 'example.docx'"
   ]
  },
  {
   "cell_type": "markdown",
   "metadata": {},
   "source": [
    "# Scraping\n",
    "\n",
    "Before we can start analyzing content we need to obtain it. Sometimes it will be\n",
    "provided to us from a pre-curated text archive, but sometimes we will need to\n",
    "download it. As a starting example we will attempt to download the wikipedia\n",
    "page on content analysis. The page is located at [https://en.wikipedia.org/wiki/\n",
    "Content_analysis](https://en.wikipedia.org/wiki/Content_analysis) so lets start\n",
    "with that.\n",
    "\n",
    "We can do this by making an HTTP GET request to that url, a GET request is\n",
    "simply a request to the server to provide the contents given by some url. The\n",
    "other request we will be using in this class is called a POST request and\n",
    "requests the server to take some content we provide. While the Python standard\n",
    "library does have the ability do make GET requests we will be using the\n",
    "[_requests_](http://docs.python-requests.org/en/master/) package as it is _'the\n",
    "only Non-GMO HTTP library for Python'_...also it provides a nicer interface."
   ]
  },
  {
   "cell_type": "code",
   "execution_count": null,
   "metadata": {},
   "outputs": [],
   "source": [
    "#wikipedia_content_analysis = 'https://en.wikipedia.org/wiki/Content_analysis'\n",
    "requests.get(wikipedia_content_analysis)"
   ]
  },
  {
   "cell_type": "markdown",
   "metadata": {},
   "source": [
    "`'Response [200]'` means the server responded with what we asked for. If you get\n",
    "another number (e.g. 404) it likely means there was some kind of error, these\n",
    "codes are called HTTP response codes and a list of them can be found\n",
    "[here](https://en.wikipedia.org/wiki/List_of_HTTP_status_codes). The response\n",
    "object contains all the data the server sent including the website's contents\n",
    "and the HTTP header. We are interested in the contents which we can access with\n",
    "the `.text` attribute."
   ]
  },
  {
   "cell_type": "code",
   "execution_count": null,
   "metadata": {},
   "outputs": [],
   "source": [
    "wikiContentRequest = requests.get(wikipedia_content_analysis)\n",
    "print(wikiContentRequest.text[:1000])"
   ]
  },
  {
   "cell_type": "markdown",
   "metadata": {},
   "source": [
    "This is not what we were looking for, because it is the start of the HTML that\n",
    "makes up the website. This is HTML and is meant to be read by computers. Luckily\n",
    "we have a computer to parse it for us. To do the parsing we will use [_Beautiful\n",
    "Soup_](https://www.crummy.com/software/BeautifulSoup/) which is a better parser\n",
    "than the one in the standard library."
   ]
  },
  {
   "cell_type": "markdown",
   "metadata": {},
   "source": [
    "But before we proceed to Beautiful Soup, a digression about Python syntax, especially about objects and functions.\n",
    "For those who are not familiar with the syntax of python (or, if you're familiar with R programming), you might wonder what requests.get or wikiContentRequest.text mean. To understand this, you need to first understand what objects are. You may have heard that Python is an object oriented programming language (unlike the procedure oriented programming language, an example of which is R). Object is a set of variables (or, data) and functions into which you pass your data. So, in object oriented programming languages, like python, variables and functions are bunleded into objects.\n",
    "\n",
    "For example, let's look at wikiContentRequest. We use dir() function, which returns the list of attributes and functions of objects."
   ]
  },
  {
   "cell_type": "code",
   "execution_count": null,
   "metadata": {},
   "outputs": [],
   "source": [
    " dir(wikiContentRequest)"
   ]
  },
  {
   "cell_type": "markdown",
   "metadata": {},
   "source": [
    "There's 'text' here. We used 'wikiContentRequest.text' to access 'text.' In other words, we use .(dot notation) to access functions from objects. wikiContentRequest has a set of functions, as shown above, and we used 'wikiContentRequest.text' to access one of them. By the way, dot notations do not necessarily refer to functions--it refers to anything that the entity contains. \n",
    "\n"
   ]
  },
  {
   "cell_type": "markdown",
   "metadata": {},
   "source": [
    "Moving on to the next step: BeautifulSoup, a Python library which extracts data from HTML and XML, and transforms HTML files into Python objects."
   ]
  },
  {
   "cell_type": "code",
   "execution_count": null,
   "metadata": {},
   "outputs": [],
   "source": [
    "wikiContentSoup = bs4.BeautifulSoup(wikiContentRequest.text, 'html.parser')\n",
    "print(wikiContentSoup.text[:200])"
   ]
  },
  {
   "cell_type": "markdown",
   "metadata": {},
   "source": [
    "This is better but there's still random whitespace and we have more than just\n",
    "the text of the article. This is because what we requested is the whole webpage,\n",
    "not just the text for the article.\n",
    "\n",
    "We want to extract only the text we care about, and in order to do this we will\n",
    "need to inspect the html. One way to do this is simply to go to the website with\n",
    "a browser and use its inspection or view source tool. If javascript or other\n",
    "dynamic loading occurs on the page, however, it is likely that what Python\n",
    "receives is not what you will see, so we will need to inspect what Python\n",
    "receives. To do this we can save the html `requests` obtained."
   ]
  },
  {
   "cell_type": "code",
   "execution_count": null,
   "metadata": {},
   "outputs": [],
   "source": [
    "#content_analysis_save = 'wikipedia_content_analysis.html'\n",
    "\n",
    "with open(content_analysis_save, mode='w', encoding='utf-8') as f:\n",
    "    f.write(wikiContentRequest.text)"
   ]
  },
  {
   "cell_type": "markdown",
   "metadata": {},
   "source": [
    "open() is a function which literally opens and returns the file. This function has multiple modes, and, here, we used mode as 'w', which means: open a file for writing. And then, we use 'write' function to write on the empty file (content_analysis_save) that we created using open(content_analysis_save, mode='w', encoding='utf-8').} What did we write on this file? The text we got from wikiContentRequest.text"
   ]
  },
  {
   "cell_type": "markdown",
   "metadata": {},
   "source": [
    "Now let's open the file (`wikipedia_content_analysis.html`) we just created with\n",
    "a web browser. It should look sort of like the original but without the images\n",
    "and formatting.\n",
    "\n",
    "As there is very little standardization on structuring webpages, figuring out\n",
    "how best to extract what you want is an art. Looking at this page it looks like\n",
    "all the main textual content is inside `<p>`(paragraph) tags within the `<body>`\n",
    "tag. "
   ]
  },
  {
   "cell_type": "code",
   "execution_count": null,
   "metadata": {
    "scrolled": true
   },
   "outputs": [],
   "source": [
    "contentPTags = wikiContentSoup.body.findAll('p')\n",
    "for pTag in contentPTags[:3]:\n",
    "    print(pTag.text)"
   ]
  },
  {
   "cell_type": "markdown",
   "metadata": {},
   "source": [
    "Another excursion for those who are not familiar with programming: for loop. For loop is used to iterate over a sequence. \"ContentPTags\" contains multiple paragraphs, each of which starts and ends with `<p>`. What the \"for pTag in contentPtags[:3]\" does here is: find each paragraph in contentPTags, which, here, we limited to the first three using contentPtags[:3], and then print each paragraph. So, we have three paragraphs. By the way, you can insert `<p>` in juputer notebook!"
   ]
  },
  {
   "cell_type": "markdown",
   "metadata": {},
   "source": [
    "We now have all the text from the page, split up by paragraph. If we wanted to\n",
    "get the section headers or references as well it would require a bit more work,\n",
    "but is doable.\n",
    "\n",
    "There is one more thing we might want to do before sending this text to be\n",
    "processed, remove the references indicators (`[2]`, `[3]` , etc). To do this we\n",
    "can use a short regular expression (regex)."
   ]
  },
  {
   "cell_type": "code",
   "execution_count": null,
   "metadata": {},
   "outputs": [],
   "source": [
    "contentParagraphs = []\n",
    "for pTag in contentPTags:\n",
    "    #strings starting with r are raw so their \\'s are not modifier characters\n",
    "    #If we didn't start with r the string would be: '\\\\[\\\\d+\\\\]'\n",
    "    contentParagraphs.append(re.sub(r'\\[\\d+\\]', '', pTag.text))\n",
    "\n",
    "#convert to a DataFrame\n",
    "contentParagraphsDF = pandas.DataFrame({'paragraph-text' : contentParagraphs})\n",
    "print(contentParagraphsDF)"
   ]
  },
  {
   "cell_type": "markdown",
   "metadata": {},
   "source": [
    "Since we learned how to do for loop, you might get what we did here: using contentParagraphs = [], we made an empty list; and then, for each paragraph in contentPTags, we substituted every [\\d+\\] with '', i.e., removed every [\\d+\\], and then appended each paragraph (now without [\\d+\\]) to the empty list. As we can see, we have a dataframe, each row of which is each paragraph of contentPTags, without reference indicators. \n",
    "\n",
    "By the way, what does [\\d+\\] mean? If you are not familiar with regex, it is a way of specifying searches in text.\n",
    "A regex engine takes in the search pattern, in the above case `'\\[\\d+\\]'` and\n",
    "some string, the paragraph texts. Then it reads the input string one character\n",
    "at a time checking if it matches the search. Here the regex `'\\d'` matches\n",
    "number characters (while `'\\['` and `'\\]'` capture the braces on either side)."
   ]
  },
  {
   "cell_type": "markdown",
   "metadata": {},
   "source": [
    "Now we have a `DataFrame` containing all relevant text from the page ready to be processed"
   ]
  },
  {
   "cell_type": "code",
   "execution_count": null,
   "metadata": {},
   "outputs": [],
   "source": [
    "findNumber = r'\\d'\n",
    "regexResults = re.search(findNumber, 'not a number, not a number, numbers 2134567890, not a number')\n",
    "regexResults"
   ]
  },
  {
   "cell_type": "markdown",
   "metadata": {},
   "source": [
    "In Python the regex package (`re`) usually returns `Match` objects (you can have\n",
    "multiple pattern hits in a a single `Match`), to get the string that matched our\n",
    "pattern we can use the `.group()` method, and as we want the first one we will\n",
    "ask for the 0'th group."
   ]
  },
  {
   "cell_type": "code",
   "execution_count": null,
   "metadata": {},
   "outputs": [],
   "source": [
    "print(regexResults.group(0))"
   ]
  },
  {
   "cell_type": "markdown",
   "metadata": {},
   "source": [
    "That gives us the first number, if we wanted the whole block of numbers we can\n",
    "add a wildcard `'+'` which requests 1 or more instances of the preceding\n",
    "character."
   ]
  },
  {
   "cell_type": "code",
   "execution_count": null,
   "metadata": {},
   "outputs": [],
   "source": [
    "findNumbers = r'\\d+'\n",
    "regexResults = re.search(findNumbers, 'not a number, not a number, numbers 2134567890, not a number')\n",
    "print(regexResults.group(0))"
   ]
  },
  {
   "cell_type": "markdown",
   "metadata": {},
   "source": [
    "Now we have the whole block of numbers, there are a huge number of special\n",
    "characters in regex, for the full description of Python's implementation look at\n",
    "the [re docs](https://docs.python.org/3/library/re.html) there is also a short\n",
    "[tutorial](https://docs.python.org/3/howto/regex.html#regex-howto)."
   ]
  },
  {
   "cell_type": "markdown",
   "metadata": {},
   "source": [
    "# <span style=\"color:red\">Section 1</span>\n",
    "<span style=\"color:red\">Construct cells immediately below this that describe and download webcontent relating to your anticipated final project. Use beautiful soup and at least five regular expressions to extract relevant, nontrivial *chunks* of that content (e.g., cleaned sentences, paragraphs, etc.) to a pandas `Dataframe`.</span>"
   ]
  },
  {
   "cell_type": "code",
   "execution_count": 1,
   "metadata": {},
   "outputs": [],
   "source": [
    "# All these packages need to be installed from pip\n",
    "import requests  # for http requests\n",
    "import bs4  # called `beautifulsoup4`, an html parser\n",
    "import pandas  # gives us DataFrames\n",
    "import docx  # reading MS doc files, install as `python-docx`\n",
    "\n",
    "# Stuff for pdfs\n",
    "import pdfminer.pdfinterp\n",
    "import pdfminer.converter\n",
    "import pdfminer.layout\n",
    "import pdfminer.pdfpage\n",
    "\n",
    "# These come with Python\n",
    "import re  # for regexs\n",
    "import urllib.parse  # For joining urls\n",
    "import io  # for making http requests look like files\n",
    "import json  # For Tumblr API responses\n",
    "import os.path  # For checking if files exist\n",
    "import os  # For making directories"
   ]
  },
  {
   "cell_type": "code",
   "execution_count": 2,
   "metadata": {},
   "outputs": [],
   "source": [
    "bbc_fangfang_report = \"https://www.bbc.com/\"\n",
    "bbc_fangfang_report = \"https://www.bbc.com/\"\n",
    "bbc_fangfang_report = \"https://www.bbc.com/news/world-asia-54987675\""
   ]
  },
  {
   "cell_type": "code",
   "execution_count": 3,
   "metadata": {},
   "outputs": [
    {
     "name": "stdout",
     "output_type": "stream",
     "text": [
      "<Response [200]>\n",
      "---\n",
      "<!DOCTYPE html><html lang=\"en-GB\" class=\"no-js\"><head><meta charSet=\"utf-8\" /><meta name=\"viewport\" content=\"width=device-width, initial-scale=1\" /><title data-rh=\"true\">Fang Fang: Author vilified for Wuhan Diary speaks out a year on - BBC News</title><meta data-rh=\"true\" name=\"description\" content=\"Wuhan writer Fang Fang talks about the price she has had to pay for her controversial lockdown diaries.\"/><meta data-rh=\"true\" name=\"theme-color\" content=\"#FFFFFF\"/><meta data-rh=\"true\" property=\"article:author\" content=\"https://www.facebook.com/bbcnews\"/><meta data-rh=\"true\" property=\"article:section\" content=\"Asia\"/><meta data-rh=\"true\" property=\"fb:admins\" content=\"100004154058350\"/><meta data-rh=\"true\" property=\"fb:app_id\" content=\"1609039196070050\"/><meta data-rh=\"true\" property=\"fb:pages\" content=\"1143803202301544,317278538359186,1392506827668140,742734325867560,185246968166196,156060587793370,137920769558355,193435954068976,21263239760,156400551056385,929399697073756,154344434967,228\n"
     ]
    }
   ],
   "source": [
    "bbc_content_request = requests.get(bbc_fangfang_report)\n",
    "print(bbc_content_request)\n",
    "print('---')\n",
    "print(bbc_content_request.text[:1000])"
   ]
  },
  {
   "cell_type": "code",
   "execution_count": 4,
   "metadata": {},
   "outputs": [
    {
     "name": "stdout",
     "output_type": "stream",
     "text": [
      "Fang Fang: Author vilified for Wuhan Diary speaks out a year on - BBC NewsBBC HomepageSkip to contentAccessibility HelpBBC AccountHomeNewsSportReelWorklifeTravelFutureCultureMenuMorecaret-downsearchSearchHomeNewsSportReelWorklifeTravelFutureCultureMusicTVWeatherSoundsnoClose menuBBC NewslistMenuHomeCoronavirusVideoWorldAsiaUKBusinessTechScienceStoriesEntertainment & ArtslistMoreHealthWorld News TVIn PicturesReality CheckNewsbeatLong ReadsAsiaChinaIndiaFang Fang: Author vilified for Wuhan Diary speaks out a year onBy Fan Wang and Grace TsoiBBC World Service, Hong KongPublishedduration2 days agoSharenocloseShare pageCopy linkAbout sharingRelated TopicsCoronavirus pandemicimage copyrightWu BaojianShe has faced a nationalist backlash for her diaries documenting life in Wuhan in the early days of the coronavirus outbreak, but Chinese author Fang Fang she says she will not be silenced.\"When facing a catastrophe, it's vital to voice your opinion and give your advice,\" she told BBC Chinese in a rare email interview with international media.In late January, when Wuhan became the first place in the world to enter a state of complete lockdown, many of the city's 11 million residents found solace in reading Fang Fang's online diaries. They also provided a revealing glimpse into the city where the virus first emerged.The 65-year-old's daily posts on her Weibo account, the Chinese equivalent of Twitter, chronicled life living alone with her dog during the lockdown, as well as what she described as the dark side of the authority's response.They were initially well-received, but later provoked a wave of criticism from those who saw her efforts as unpatriotic.As part of the BBC 100 Women season, Fang Fang told the BBC why, despite the condemnation, she does not regret speaking out.'Vivid narrative'image copyrightGetty Imagesimage captionTo contain the spread in Wuhan, the authorities imposed unprecedented restrictionsFang Fang says that she wrote the diaries as part of a process tha\n"
     ]
    }
   ],
   "source": [
    "bbc_content_soup = bs4.BeautifulSoup(bbc_content_request.text, 'html.parser')\n",
    "print(bbc_content_soup.text[:2000])"
   ]
  },
  {
   "cell_type": "code",
   "execution_count": 5,
   "metadata": {},
   "outputs": [],
   "source": [
    "# Inspect what Python receives. To do this we can save the html requests obtained.\n",
    "\n",
    "bbc_save = 'news.html'\n",
    "with open(bbc_save, mode='w', encoding='utf-8') as f:\n",
    "    f.write(bbc_content_request.text)"
   ]
  },
  {
   "cell_type": "code",
   "execution_count": 6,
   "metadata": {},
   "outputs": [
    {
     "name": "stdout",
     "output_type": "stream",
     "text": [
      "By Fan Wang and Grace TsoiBBC World Service, Hong Kong\n",
      "She has faced a nationalist backlash for her diaries documenting life in Wuhan in the early days of the coronavirus outbreak, but Chinese author Fang Fang she says she will not be silenced.\n",
      "\"When facing a catastrophe, it's vital to voice your opinion and give your advice,\" she told BBC Chinese in a rare email interview with international media.\n",
      "In late January, when Wuhan became the first place in the world to enter a state of complete lockdown, many of the city's 11 million residents found solace in reading Fang Fang's online diaries. They also provided a revealing glimpse into the city where the virus first emerged.\n",
      "The 65-year-old's daily posts on her Weibo account, the Chinese equivalent of Twitter, chronicled life living alone with her dog during the lockdown, as well as what she described as the dark side of the authority's response.\n"
     ]
    }
   ],
   "source": [
    "content_p_tags = bbc_content_soup.body.findAll('p')\n",
    "for p_tag in content_p_tags[:5]:\n",
    "    print(p_tag.text)"
   ]
  },
  {
   "cell_type": "code",
   "execution_count": 7,
   "metadata": {},
   "outputs": [
    {
     "name": "stdout",
     "output_type": "stream",
     "text": [
      "                                       paragraph_text\n",
      "0   By Fan Wang and Grace TsoiBBC World Service, H...\n",
      "1   She has faced a nationalist backlash for her d...\n",
      "2   'When facing a catastrophe, it's vital to voic...\n",
      "3   In late January, when Wuhan became the first p...\n",
      "4   The 65-year-old's daily posts on her Weibo acc...\n",
      "..                                                ...\n",
      "68  Trump vows 'we will be back' as he leaves office7\n",
      "69               Deadly blast rocks centre of Madrid8\n",
      "70      Jack Ma makes first appearance since October9\n",
      "71        Ex-aide Bannon in swathe of Trump pardons10\n",
      "72  2021 BBC. The BBC is not responsible for the c...\n",
      "\n",
      "[73 rows x 1 columns]\n"
     ]
    }
   ],
   "source": [
    "# The content of this news is almost perfect, \n",
    "# so the cleaning work I'm doing is actually a littile bit superfluous.\n",
    "# Anyway, the following code is used to meet the requirements of the homework\n",
    "\n",
    "content_paragraphs = []\n",
    "for p_tag in content_p_tags:\n",
    "    content_paragraphs.append(re.sub(r'\\[\\d+\\]', '', p_tag.text))\n",
    "\n",
    "# Further cleaning the article\n",
    "cleaned_content_paragraphs = []\n",
    "for paragraph in content_paragraphs:\n",
    "    cleaned_paragraph = re.sub(r'Â©', \"\", paragraph) # Remove non-readable characters\n",
    "    cleaned_paragraph = re.sub(r' +', \" \", cleaned_paragraph) # Remove extra spaces\n",
    "    cleaned_paragraph = re.sub(r'^\\s+', \"\", cleaned_paragraph) # Remove leading spaces\n",
    "    cleaned_paragraph = re.sub(r'\\s+$', \"\", cleaned_paragraph) # # Remove trailing spaces\n",
    "    cleaned_paragraph = re.sub(r'\"', \"'\", cleaned_paragraph) # To meet the homework's requirement\n",
    "    cleaned_content_paragraphs.append(cleaned_paragraph)\n",
    "    \n",
    "\n",
    "content_paragraphs_df = pandas.DataFrame({'paragraph_text': cleaned_content_paragraphs})\n",
    "print(content_paragraphs_df)"
   ]
  },
  {
   "cell_type": "markdown",
   "metadata": {},
   "source": [
    "\n",
    "# Spidering\n",
    "\n",
    "What if we want to to get a bunch of different pages from wikipedia. We would\n",
    "need to get the url for each of the pages we want. Typically, we want pages that\n",
    "are linked to by other pages and so we will need to parse pages and identify the\n",
    "links. Right now we will be retrieving all links in the body of the content\n",
    "analysis page.\n",
    "\n",
    "To do this we will need to find all the `<a>` (anchor) tags with `href`s\n",
    "(hyperlink references) inside of `<p>` tags. `href` can have many\n",
    "[different](http://stackoverflow.com/questions/4855168/what-is-href-and-why-is-\n",
    "it-used) [forms](https://en.wikipedia.org/wiki/Hyperlink#Hyperlinks_in_HTML) so\n",
    "dealing with them can be tricky, but generally, you will want to extract\n",
    "absolute or relative links. An absolute link is one you can follow without\n",
    "modification, while a relative link requires a base url that you will then\n",
    "append. Wikipedia uses relative urls for its internal links: below is an example\n",
    "for dealing with them."
   ]
  },
  {
   "cell_type": "code",
   "execution_count": null,
   "metadata": {},
   "outputs": [],
   "source": [
    "#wikipedia_base_url = 'https://en.wikipedia.org'\n",
    "\n",
    "otherPAgeURLS = []\n",
    "#We also want to know where the links come from so we also will get:\n",
    "#the paragraph number\n",
    "#the word the link is in\n",
    "for paragraphNum, pTag in enumerate(contentPTags):\n",
    "    #we only want hrefs that link to wiki pages\n",
    "    tagLinks = pTag.findAll('a', href=re.compile('/wiki/'), class_=False)\n",
    "    for aTag in tagLinks:\n",
    "        #We need to extract the url from the <a> tag\n",
    "        relurl = aTag.get('href')\n",
    "        linkText = aTag.text\n",
    "        #wikipedia_base_url is the base we can use the urllib joining function to merge them\n",
    "        #Giving a nice structured tupe like this means we can use tuple expansion later\n",
    "        otherPAgeURLS.append((\n",
    "            urllib.parse.urljoin(wikipedia_base_url, relurl),\n",
    "            paragraphNum,\n",
    "            linkText,\n",
    "        ))\n",
    "print(otherPAgeURLS[:10])"
   ]
  },
  {
   "cell_type": "code",
   "execution_count": null,
   "metadata": {},
   "outputs": [],
   "source": [
    "print(contentPTags)"
   ]
  },
  {
   "cell_type": "markdown",
   "metadata": {},
   "source": [
    "Another excursion: Why do we use enumerate() here? enumerate() takes a collection, enumerates, and returns an enumate object with both the numbers and the collection. For example, contentPTags (the collection we used here) is comprised of paragraphs. We want the paragraph number of each paragraph. And this is what enumerate() does: it returns the paragraph number and the paragraph. "
   ]
  },
  {
   "cell_type": "markdown",
   "metadata": {},
   "source": [
    "We will be adding these new texts to our DataFrame `contentParagraphsDF` so we\n",
    "will need to add 2 more columns to keep track of paragraph numbers and sources."
   ]
  },
  {
   "cell_type": "code",
   "execution_count": null,
   "metadata": {},
   "outputs": [],
   "source": [
    "contentParagraphsDF['source'] = [wikipedia_content_analysis] * len(contentParagraphsDF['paragraph-text'])\n",
    "contentParagraphsDF['paragraph-number'] = range(len(contentParagraphsDF['paragraph-text']))\n",
    "\n",
    "contentParagraphsDF"
   ]
  },
  {
   "cell_type": "markdown",
   "metadata": {},
   "source": [
    "Then we can add two more columns to our `Dataframe` and define a function to\n",
    "parse\n",
    "each linked page and add its text to our DataFrame."
   ]
  },
  {
   "cell_type": "code",
   "execution_count": null,
   "metadata": {},
   "outputs": [],
   "source": [
    "contentParagraphsDF['source-paragraph-number'] = [None] * len(contentParagraphsDF['paragraph-text'])\n",
    "contentParagraphsDF['source-paragraph-text'] = [None] * len(contentParagraphsDF['paragraph-text'])\n",
    "\n",
    "def getTextFromWikiPage(targetURL, sourceParNum, sourceText):\n",
    "    #Make a dict to store data before adding it to the DataFrame\n",
    "    parsDict = {'source' : [], 'paragraph-number' : [], 'paragraph-text' : [], 'source-paragraph-number' : [],  'source-paragraph-text' : []}\n",
    "    #Now we get the page\n",
    "    r = requests.get(targetURL)\n",
    "    soup = bs4.BeautifulSoup(r.text, 'html.parser')\n",
    "    #enumerating gives use the paragraph number\n",
    "    for parNum, pTag in enumerate(soup.body.findAll('p')):\n",
    "        #same regex as before\n",
    "        parsDict['paragraph-text'].append(re.sub(r'\\[\\d+\\]', '', pTag.text))\n",
    "        parsDict['paragraph-number'].append(parNum)\n",
    "        parsDict['source'].append(targetURL)\n",
    "        parsDict['source-paragraph-number'].append(sourceParNum)\n",
    "        parsDict['source-paragraph-text'].append(sourceText)\n",
    "    return pandas.DataFrame(parsDict)"
   ]
  },
  {
   "cell_type": "markdown",
   "metadata": {},
   "source": [
    "And run it on our list of link tags"
   ]
  },
  {
   "cell_type": "code",
   "execution_count": null,
   "metadata": {},
   "outputs": [],
   "source": [
    "for urlTuple in otherPAgeURLS[:3]:\n",
    "    #ignore_index means the indices will not be reset after each append\n",
    "    contentParagraphsDF = contentParagraphsDF.append(getTextFromWikiPage(*urlTuple),ignore_index=True)\n",
    "contentParagraphsDF"
   ]
  },
  {
   "cell_type": "markdown",
   "metadata": {},
   "source": [
    "\n",
    "# <span style=\"color:red\">Section 2</span>\n",
    "<span style=\"color:red\">Construct cells immediately below this that spider webcontent from another site with content relating to your anticipated final project. Specifically, identify urls on a core page, then follow and extract content from them into a pandas `Dataframe`. In addition, demonstrate a *recursive* spider, which follows more than one level of links (i.e., follows links from a site, then follows links on followed sites to new sites, etc.), making sure to define a reasonable endpoint so that you do not wander the web forever :-).</span>\n",
    "\n"
   ]
  },
  {
   "cell_type": "code",
   "execution_count": null,
   "metadata": {},
   "outputs": [],
   "source": [
    "print(content_p_tags)"
   ]
  },
  {
   "cell_type": "code",
   "execution_count": 8,
   "metadata": {},
   "outputs": [
    {
     "name": "stdout",
     "output_type": "stream",
     "text": [
      "[('https://www.bbc.co.uk/news/world-55042935', 43, 'BBC 100 Women 2020: Who is on the list this year?'), ('https://www.bbc.co.uk/news/stories-55020994', 44, 'Sanna Marin: The feminist PM leading a coalition of women'), ('https://www.bbc.co.uk/news/world-us-canada-55738746', 45, 'Biden sets to work on reversing Trump policies'), ('https://www.bbc.co.uk/news/live/world-us-canada-55730500', 47, 'Biden signs orders ending key Trump policies'), ('https://www.bbc.co.uk/news/world-us-canada-55738741', 48, 'Kamala Harris becomes first female, first black VP')]\n",
      "--------------------\n",
      "27\n"
     ]
    }
   ],
   "source": [
    "# Notice here there are both relative links and absolute links.\n",
    "\n",
    "bbc_base_url = \"https://www.bbc.co.uk\"\n",
    "other_page_urls = []\n",
    "\n",
    "for paragraph_number, p_tag in enumerate(content_p_tags):\n",
    "    tag_links = p_tag.findAll('a', href=re.compile('^/news/'))\n",
    "\n",
    "    # Deal with relative links first\n",
    "    for a_tag in tag_links:\n",
    "        relurl = a_tag.get('href')\n",
    "        link_text = a_tag.text\n",
    "\n",
    "        other_page_urls.append(\n",
    "            (\n",
    "                urllib.parse.urljoin(bbc_base_url, relurl),\n",
    "                paragraph_number,\n",
    "                link_text,\n",
    "            )\n",
    "        )\n",
    "\n",
    "    # Deal with absolute links\n",
    "    tag_links = p_tag.findAll('a', href=re.compile('https://www.bbc.co.uk'))\n",
    "    for a_tag in tag_links:\n",
    "        absolute_url = a_tag.get('href')\n",
    "        link_text = a_tag.text\n",
    "        other_page_urls.append(\n",
    "            (absolute_url,\n",
    "             paragraph_number,\n",
    "             link_text,\n",
    "             ))\n",
    "\n",
    "print(other_page_urls[:5])\n",
    "print('--------------------')\n",
    "print(len(other_page_urls))"
   ]
  },
  {
   "cell_type": "code",
   "execution_count": 9,
   "metadata": {},
   "outputs": [
    {
     "name": "stdout",
     "output_type": "stream",
     "text": [
      "73\n",
      "range(0, 73)\n"
     ]
    },
    {
     "data": {
      "text/html": [
       "<div>\n",
       "<style scoped>\n",
       "    .dataframe tbody tr th:only-of-type {\n",
       "        vertical-align: middle;\n",
       "    }\n",
       "\n",
       "    .dataframe tbody tr th {\n",
       "        vertical-align: top;\n",
       "    }\n",
       "\n",
       "    .dataframe thead th {\n",
       "        text-align: right;\n",
       "    }\n",
       "</style>\n",
       "<table border=\"1\" class=\"dataframe\">\n",
       "  <thead>\n",
       "    <tr style=\"text-align: right;\">\n",
       "      <th></th>\n",
       "      <th>paragraph_text</th>\n",
       "      <th>source</th>\n",
       "      <th>paragraph_number</th>\n",
       "    </tr>\n",
       "  </thead>\n",
       "  <tbody>\n",
       "    <tr>\n",
       "      <th>0</th>\n",
       "      <td>By Fan Wang and Grace TsoiBBC World Service, H...</td>\n",
       "      <td>https://www.bbc.com/news/world-asia-54987675</td>\n",
       "      <td>0</td>\n",
       "    </tr>\n",
       "    <tr>\n",
       "      <th>1</th>\n",
       "      <td>She has faced a nationalist backlash for her d...</td>\n",
       "      <td>https://www.bbc.com/news/world-asia-54987675</td>\n",
       "      <td>1</td>\n",
       "    </tr>\n",
       "    <tr>\n",
       "      <th>2</th>\n",
       "      <td>'When facing a catastrophe, it's vital to voic...</td>\n",
       "      <td>https://www.bbc.com/news/world-asia-54987675</td>\n",
       "      <td>2</td>\n",
       "    </tr>\n",
       "    <tr>\n",
       "      <th>3</th>\n",
       "      <td>In late January, when Wuhan became the first p...</td>\n",
       "      <td>https://www.bbc.com/news/world-asia-54987675</td>\n",
       "      <td>3</td>\n",
       "    </tr>\n",
       "    <tr>\n",
       "      <th>4</th>\n",
       "      <td>The 65-year-old's daily posts on her Weibo acc...</td>\n",
       "      <td>https://www.bbc.com/news/world-asia-54987675</td>\n",
       "      <td>4</td>\n",
       "    </tr>\n",
       "    <tr>\n",
       "      <th>...</th>\n",
       "      <td>...</td>\n",
       "      <td>...</td>\n",
       "      <td>...</td>\n",
       "    </tr>\n",
       "    <tr>\n",
       "      <th>68</th>\n",
       "      <td>Trump vows 'we will be back' as he leaves office7</td>\n",
       "      <td>https://www.bbc.com/news/world-asia-54987675</td>\n",
       "      <td>68</td>\n",
       "    </tr>\n",
       "    <tr>\n",
       "      <th>69</th>\n",
       "      <td>Deadly blast rocks centre of Madrid8</td>\n",
       "      <td>https://www.bbc.com/news/world-asia-54987675</td>\n",
       "      <td>69</td>\n",
       "    </tr>\n",
       "    <tr>\n",
       "      <th>70</th>\n",
       "      <td>Jack Ma makes first appearance since October9</td>\n",
       "      <td>https://www.bbc.com/news/world-asia-54987675</td>\n",
       "      <td>70</td>\n",
       "    </tr>\n",
       "    <tr>\n",
       "      <th>71</th>\n",
       "      <td>Ex-aide Bannon in swathe of Trump pardons10</td>\n",
       "      <td>https://www.bbc.com/news/world-asia-54987675</td>\n",
       "      <td>71</td>\n",
       "    </tr>\n",
       "    <tr>\n",
       "      <th>72</th>\n",
       "      <td>2021 BBC. The BBC is not responsible for the c...</td>\n",
       "      <td>https://www.bbc.com/news/world-asia-54987675</td>\n",
       "      <td>72</td>\n",
       "    </tr>\n",
       "  </tbody>\n",
       "</table>\n",
       "<p>73 rows × 3 columns</p>\n",
       "</div>"
      ],
      "text/plain": [
       "                                       paragraph_text  \\\n",
       "0   By Fan Wang and Grace TsoiBBC World Service, H...   \n",
       "1   She has faced a nationalist backlash for her d...   \n",
       "2   'When facing a catastrophe, it's vital to voic...   \n",
       "3   In late January, when Wuhan became the first p...   \n",
       "4   The 65-year-old's daily posts on her Weibo acc...   \n",
       "..                                                ...   \n",
       "68  Trump vows 'we will be back' as he leaves office7   \n",
       "69               Deadly blast rocks centre of Madrid8   \n",
       "70      Jack Ma makes first appearance since October9   \n",
       "71        Ex-aide Bannon in swathe of Trump pardons10   \n",
       "72  2021 BBC. The BBC is not responsible for the c...   \n",
       "\n",
       "                                          source  paragraph_number  \n",
       "0   https://www.bbc.com/news/world-asia-54987675                 0  \n",
       "1   https://www.bbc.com/news/world-asia-54987675                 1  \n",
       "2   https://www.bbc.com/news/world-asia-54987675                 2  \n",
       "3   https://www.bbc.com/news/world-asia-54987675                 3  \n",
       "4   https://www.bbc.com/news/world-asia-54987675                 4  \n",
       "..                                           ...               ...  \n",
       "68  https://www.bbc.com/news/world-asia-54987675                68  \n",
       "69  https://www.bbc.com/news/world-asia-54987675                69  \n",
       "70  https://www.bbc.com/news/world-asia-54987675                70  \n",
       "71  https://www.bbc.com/news/world-asia-54987675                71  \n",
       "72  https://www.bbc.com/news/world-asia-54987675                72  \n",
       "\n",
       "[73 rows x 3 columns]"
      ]
     },
     "execution_count": 9,
     "metadata": {},
     "output_type": "execute_result"
    }
   ],
   "source": [
    "content_paragraphs_df['source'] = [bbc_fangfang_report] * len(content_paragraphs_df['paragraph_text'])\n",
    "print(len(content_paragraphs_df['paragraph_text']))\n",
    "content_paragraphs_df['paragraph_number'] = range(len(content_paragraphs_df['paragraph_text']))\n",
    "print(range(len(content_paragraphs_df['paragraph_text'])))\n",
    "content_paragraphs_df"
   ]
  },
  {
   "cell_type": "code",
   "execution_count": 10,
   "metadata": {},
   "outputs": [],
   "source": [
    "content_paragraphs_df['source_paragraph_number'] = [\n",
    "    None] * len(content_paragraphs_df['paragraph_text'])\n",
    "content_paragraphs_df['source_paragraph_text'] = [\n",
    "    None] * len(content_paragraphs_df['paragraph_text'])\n",
    "\n",
    "\n",
    "def getTextFromWikiPage(targetURL, sourceParNum, sourceText):\n",
    "    # Make a dict to store data before adding it to the DataFrame\n",
    "    parsDict = {'source': [], 'paragraph_number': [], 'paragraph_text': [\n",
    "    ], 'source_paragraph_number': [],  'source_paragraph_text': []}\n",
    "    # Now we get the page\n",
    "    r = requests.get(targetURL)\n",
    "    soup = bs4.BeautifulSoup(r.text, 'html.parser')\n",
    "    # enumerating gives use the paragraph number\n",
    "    for parNum, pTag in enumerate(soup.body.findAll('p')):\n",
    "        # same regex as before\n",
    "        parsDict['paragraph_text'].append(re.sub(r'\\[\\d+\\]', '', pTag.text))\n",
    "        parsDict['paragraph_number'].append(parNum)\n",
    "        parsDict['source'].append(targetURL)\n",
    "        parsDict['source_paragraph_number'].append(sourceParNum)\n",
    "        parsDict['source_paragraph_text'].append(sourceText)\n",
    "\n",
    "    # Generate new other_page_urls <--- type: a list of tuples\n",
    "    global other_page_urls\n",
    "    other_page_urls = []\n",
    "\n",
    "    contentPTags = soup.body.findAll('p')\n",
    "    for paragraphNum, pTag in enumerate(contentPTags):\n",
    "        tagLinks = pTag.findAll('a', href=re.compile('^/news/'))\n",
    "        for aTag in tagLinks:\n",
    "            relurl = aTag.get('href')\n",
    "            linkText = aTag.text\n",
    "            other_page_urls.append((\n",
    "                urllib.parse.urljoin(bbc_base_url, relurl),\n",
    "                paragraphNum,\n",
    "                linkText,\n",
    "            ))\n",
    "\n",
    "        tagLinks = pTag.findAll('a', href=re.compile('https://www.bbc.co.uk'))\n",
    "        for aTag in tagLinks:\n",
    "            absolute_url = aTag.get('href')\n",
    "            linkText = aTag.text\n",
    "            other_page_urls.append((\n",
    "                absolute_url,\n",
    "                paragraphNum,\n",
    "                linkText,\n",
    "            ))\n",
    "    return pandas.DataFrame(parsDict)"
   ]
  },
  {
   "cell_type": "code",
   "execution_count": 11,
   "metadata": {},
   "outputs": [
    {
     "name": "stdout",
     "output_type": "stream",
     "text": [
      "Current depth level: 2\n",
      "Current depth level: 1\n",
      "Current depth level: 0\n"
     ]
    },
    {
     "data": {
      "text/html": [
       "<div>\n",
       "<style scoped>\n",
       "    .dataframe tbody tr th:only-of-type {\n",
       "        vertical-align: middle;\n",
       "    }\n",
       "\n",
       "    .dataframe tbody tr th {\n",
       "        vertical-align: top;\n",
       "    }\n",
       "\n",
       "    .dataframe thead th {\n",
       "        text-align: right;\n",
       "    }\n",
       "</style>\n",
       "<table border=\"1\" class=\"dataframe\">\n",
       "  <thead>\n",
       "    <tr style=\"text-align: right;\">\n",
       "      <th></th>\n",
       "      <th>paragraph_text</th>\n",
       "      <th>source</th>\n",
       "      <th>paragraph_number</th>\n",
       "      <th>source_paragraph_number</th>\n",
       "      <th>source_paragraph_text</th>\n",
       "    </tr>\n",
       "  </thead>\n",
       "  <tbody>\n",
       "    <tr>\n",
       "      <th>0</th>\n",
       "      <td>By Fan Wang and Grace TsoiBBC World Service, H...</td>\n",
       "      <td>https://www.bbc.com/news/world-asia-54987675</td>\n",
       "      <td>0</td>\n",
       "      <td>None</td>\n",
       "      <td>None</td>\n",
       "    </tr>\n",
       "    <tr>\n",
       "      <th>1</th>\n",
       "      <td>She has faced a nationalist backlash for her d...</td>\n",
       "      <td>https://www.bbc.com/news/world-asia-54987675</td>\n",
       "      <td>1</td>\n",
       "      <td>None</td>\n",
       "      <td>None</td>\n",
       "    </tr>\n",
       "    <tr>\n",
       "      <th>2</th>\n",
       "      <td>'When facing a catastrophe, it's vital to voic...</td>\n",
       "      <td>https://www.bbc.com/news/world-asia-54987675</td>\n",
       "      <td>2</td>\n",
       "      <td>None</td>\n",
       "      <td>None</td>\n",
       "    </tr>\n",
       "    <tr>\n",
       "      <th>3</th>\n",
       "      <td>In late January, when Wuhan became the first p...</td>\n",
       "      <td>https://www.bbc.com/news/world-asia-54987675</td>\n",
       "      <td>3</td>\n",
       "      <td>None</td>\n",
       "      <td>None</td>\n",
       "    </tr>\n",
       "    <tr>\n",
       "      <th>4</th>\n",
       "      <td>The 65-year-old's daily posts on her Weibo acc...</td>\n",
       "      <td>https://www.bbc.com/news/world-asia-54987675</td>\n",
       "      <td>4</td>\n",
       "      <td>None</td>\n",
       "      <td>None</td>\n",
       "    </tr>\n",
       "    <tr>\n",
       "      <th>...</th>\n",
       "      <td>...</td>\n",
       "      <td>...</td>\n",
       "      <td>...</td>\n",
       "      <td>...</td>\n",
       "      <td>...</td>\n",
       "    </tr>\n",
       "    <tr>\n",
       "      <th>296</th>\n",
       "      <td>Trump vows 'we will be back' as he leaves office7</td>\n",
       "      <td>https://www.bbc.co.uk/news/world-us-canada-557...</td>\n",
       "      <td>47</td>\n",
       "      <td>44</td>\n",
       "      <td>Kamala Harris becomes first female, first blac...</td>\n",
       "    </tr>\n",
       "    <tr>\n",
       "      <th>297</th>\n",
       "      <td>Deadly blast rocks centre of Madrid8</td>\n",
       "      <td>https://www.bbc.co.uk/news/world-us-canada-557...</td>\n",
       "      <td>48</td>\n",
       "      <td>44</td>\n",
       "      <td>Kamala Harris becomes first female, first blac...</td>\n",
       "    </tr>\n",
       "    <tr>\n",
       "      <th>298</th>\n",
       "      <td>Jack Ma makes first appearance since October9</td>\n",
       "      <td>https://www.bbc.co.uk/news/world-us-canada-557...</td>\n",
       "      <td>49</td>\n",
       "      <td>44</td>\n",
       "      <td>Kamala Harris becomes first female, first blac...</td>\n",
       "    </tr>\n",
       "    <tr>\n",
       "      <th>299</th>\n",
       "      <td>Ex-aide Bannon in swathe of Trump pardons10</td>\n",
       "      <td>https://www.bbc.co.uk/news/world-us-canada-557...</td>\n",
       "      <td>50</td>\n",
       "      <td>44</td>\n",
       "      <td>Kamala Harris becomes first female, first blac...</td>\n",
       "    </tr>\n",
       "    <tr>\n",
       "      <th>300</th>\n",
       "      <td>Â© 2021 BBC. The BBC is not responsible for th...</td>\n",
       "      <td>https://www.bbc.co.uk/news/world-us-canada-557...</td>\n",
       "      <td>51</td>\n",
       "      <td>44</td>\n",
       "      <td>Kamala Harris becomes first female, first blac...</td>\n",
       "    </tr>\n",
       "  </tbody>\n",
       "</table>\n",
       "<p>301 rows × 5 columns</p>\n",
       "</div>"
      ],
      "text/plain": [
       "                                        paragraph_text  \\\n",
       "0    By Fan Wang and Grace TsoiBBC World Service, H...   \n",
       "1    She has faced a nationalist backlash for her d...   \n",
       "2    'When facing a catastrophe, it's vital to voic...   \n",
       "3    In late January, when Wuhan became the first p...   \n",
       "4    The 65-year-old's daily posts on her Weibo acc...   \n",
       "..                                                 ...   \n",
       "296  Trump vows 'we will be back' as he leaves office7   \n",
       "297               Deadly blast rocks centre of Madrid8   \n",
       "298      Jack Ma makes first appearance since October9   \n",
       "299        Ex-aide Bannon in swathe of Trump pardons10   \n",
       "300  Â© 2021 BBC. The BBC is not responsible for th...   \n",
       "\n",
       "                                                source  paragraph_number  \\\n",
       "0         https://www.bbc.com/news/world-asia-54987675                 0   \n",
       "1         https://www.bbc.com/news/world-asia-54987675                 1   \n",
       "2         https://www.bbc.com/news/world-asia-54987675                 2   \n",
       "3         https://www.bbc.com/news/world-asia-54987675                 3   \n",
       "4         https://www.bbc.com/news/world-asia-54987675                 4   \n",
       "..                                                 ...               ...   \n",
       "296  https://www.bbc.co.uk/news/world-us-canada-557...                47   \n",
       "297  https://www.bbc.co.uk/news/world-us-canada-557...                48   \n",
       "298  https://www.bbc.co.uk/news/world-us-canada-557...                49   \n",
       "299  https://www.bbc.co.uk/news/world-us-canada-557...                50   \n",
       "300  https://www.bbc.co.uk/news/world-us-canada-557...                51   \n",
       "\n",
       "    source_paragraph_number                              source_paragraph_text  \n",
       "0                      None                                               None  \n",
       "1                      None                                               None  \n",
       "2                      None                                               None  \n",
       "3                      None                                               None  \n",
       "4                      None                                               None  \n",
       "..                      ...                                                ...  \n",
       "296                      44  Kamala Harris becomes first female, first blac...  \n",
       "297                      44  Kamala Harris becomes first female, first blac...  \n",
       "298                      44  Kamala Harris becomes first female, first blac...  \n",
       "299                      44  Kamala Harris becomes first female, first blac...  \n",
       "300                      44  Kamala Harris becomes first female, first blac...  \n",
       "\n",
       "[301 rows x 5 columns]"
      ]
     },
     "execution_count": 11,
     "metadata": {},
     "output_type": "execute_result"
    }
   ],
   "source": [
    "end_depth_level = 3\n",
    "while end_depth_level != 0:\n",
    "    end_depth_level -= 1\n",
    "    print(\"Current depth level:\", end_depth_level)\n",
    "    for url_tuple in other_page_urls[1:2]:\n",
    "        content_paragraphs_df = content_paragraphs_df.append(getTextFromWikiPage(*url_tuple), ignore_index=True)\n",
    "content_paragraphs_df"
   ]
  },
  {
   "cell_type": "code",
   "execution_count": 12,
   "metadata": {},
   "outputs": [
    {
     "data": {
      "text/plain": [
       "array(['https://www.bbc.com/news/world-asia-54987675',\n",
       "       'https://www.bbc.co.uk/news/stories-55020994',\n",
       "       'https://www.bbc.co.uk/news/world-us-canada-55738746',\n",
       "       'https://www.bbc.co.uk/news/world-us-canada-55738741'],\n",
       "      dtype=object)"
      ]
     },
     "execution_count": 12,
     "metadata": {},
     "output_type": "execute_result"
    }
   ],
   "source": [
    "# I extract one link from \"one\" website. Therefore, \n",
    "# the following result shows that I extract info from \"three\" different sites\n",
    "\n",
    "content_paragraphs_df.source.unique()"
   ]
  },
  {
   "cell_type": "code",
   "execution_count": null,
   "metadata": {},
   "outputs": [],
   "source": [
    "# I used a \"While\" statement to achieve a recursive spider, though it achieves the requirement in function, \n",
    "# it does not strictly meet the requirement of \"recursive\" in syntax.\n",
    "# Therefore, the folloing code is written to meet the requirement seriously.\n",
    "# When running, please uncomment the last line.\n",
    "\n",
    "def recursive_spider(end_depth_level=3):\n",
    "    global content_paragraphs_df\n",
    "    if end_depth_level != 0:\n",
    "        end_depth_level -= 1\n",
    "        print(\"Current depth level:\", end_depth_level)\n",
    "        for url_tuple in other_page_urls[2:3]:\n",
    "            content_paragraphs_df = content_paragraphs_df.append(getTextFromWikiPage(*url_tuple), ignore_index=True)\n",
    "        return recursive_spider(end_depth_level)\n",
    "    else:\n",
    "        return content_paragraphs_df\n",
    "\n",
    "# print(recursive_spider(end_depth_level=3))"
   ]
  },
  {
   "cell_type": "markdown",
   "metadata": {},
   "source": [
    "## API (Tumblr)\n",
    "\n",
    "Generally website owners do not like you scraping their sites. If done badly,\n",
    "scarping can act like a DOS attack so you should be careful how often you make\n",
    "calls to a site. Some sites want automated tools to access their data, so they\n",
    "create [application programming interface\n",
    "(APIs)](https://en.wikipedia.org/wiki/Application_programming_interface). An API\n",
    "specifies a procedure for an application (or script) to access their data. Often\n",
    "this is though a [representational state transfer\n",
    "(REST)](https://en.wikipedia.org/wiki/Representational_state_transfer) web\n",
    "service, which just means if you make correctly formatted HTTP requests they\n",
    "will return nicely formatted data.\n",
    "\n",
    "A nice example for us to study is [Tumblr](https://www.tumblr.com), they have a\n",
    "[simple RESTful API](https://www.tumblr.com/docs/en/api/v1) that allows you to\n",
    "read posts without any complicated html parsing.\n",
    "\n",
    "We can get the first 20 posts from a blog by making an http GET request to\n",
    "`'http://{blog}.tumblr.com/api/read/json'`, were `{blog}` is the name of the\n",
    "target blog. Lets try and get the posts from [http://lolcats-lol-\n",
    "cat.tumblr.com/](http://lolcats-lol-cat.tumblr.com/) (Note the blog says at the\n",
    "top 'One hour one pic lolcats', but the canonical name that Tumblr uses is in\n",
    "the URL 'lolcats-lol-cat')."
   ]
  },
  {
   "cell_type": "code",
   "execution_count": null,
   "metadata": {},
   "outputs": [],
   "source": [
    "tumblrAPItarget = 'http://{}.tumblr.com/api/read/json'\n",
    "\n",
    "r = requests.get(tumblrAPItarget.format('lolcats-lol-cat'))\n",
    "\n",
    "print(r.text[:1000])"
   ]
  },
  {
   "cell_type": "markdown",
   "metadata": {},
   "source": [
    "This might not look very good on first inspection, but it has far fewer angle\n",
    "braces than html, which makes it easier to parse. What we have is\n",
    "[JSON](https://en.wikipedia.org/wiki/JSON) a 'human readable' text based data\n",
    "transmission format based on javascript. Luckily, we can readily convert it to a\n",
    "python `dict`."
   ]
  },
  {
   "cell_type": "code",
   "execution_count": null,
   "metadata": {},
   "outputs": [],
   "source": [
    "#We need to load only the stuff between the curly braces\n",
    "d = json.loads(r.text[len('var tumblr_api_read = '):-2])\n",
    "print(d.keys())\n",
    "print(len(d['posts']))"
   ]
  },
  {
   "cell_type": "markdown",
   "metadata": {},
   "source": [
    "If we read the [API specification](https://www.tumblr.com/docs/en/api/v1), we\n",
    "will see there are a lot of things we can get if we add things to our GET\n",
    "request. First we can retrieve posts by their id number. Let's first get post\n",
    "`146020177084`."
   ]
  },
  {
   "cell_type": "code",
   "execution_count": null,
   "metadata": {},
   "outputs": [],
   "source": [
    "r = requests.get(tumblrAPItarget.format('lolcats-lol-cat'), params = {'id' : 146020177084})\n",
    "d = json.loads(r.text[len('var tumblr_api_read = '):-2])\n",
    "d['posts'][0].keys()\n",
    "d['posts'][0]['photo-url-1280']\n",
    "\n",
    "with open('lolcat.gif', 'wb') as f:\n",
    "    gifRequest = requests.get(d['posts'][0]['photo-url-1280'], stream = True)\n",
    "    f.write(gifRequest.content)"
   ]
  },
  {
   "cell_type": "markdown",
   "metadata": {},
   "source": [
    "<img src='lolcat.gif'>\n",
    "\n",
    "Such beauty; such vigor (If you can't see it you have to refresh the page). Now\n",
    "we could retrieve the text from all posts as well\n",
    "as related metadata, like the post date, caption or tags. We could also get\n",
    "links to all the images."
   ]
  },
  {
   "cell_type": "code",
   "execution_count": null,
   "metadata": {},
   "outputs": [],
   "source": [
    "#Putting a max in case the blog has millions of images\n",
    "#The given max will be rounded up to the nearest multiple of 50\n",
    "def tumblrImageScrape(blogName, maxImages = 200):\n",
    "    #Restating this here so the function isn't dependent on any external variables\n",
    "    tumblrAPItarget = 'http://{}.tumblr.com/api/read/json'\n",
    "\n",
    "    #There are a bunch of possible locations for the photo url\n",
    "    possiblePhotoSuffixes = [1280, 500, 400, 250, 100]\n",
    "\n",
    "    #These are the pieces of information we will be gathering,\n",
    "    #at the end we will convert this to a DataFrame.\n",
    "    #There are a few other datums we could gather like the captions\n",
    "    #you can read the Tumblr documentation to learn how to get them\n",
    "    #https://www.tumblr.com/docs/en/api/v1\n",
    "    postsData = {\n",
    "        'id' : [],\n",
    "        'photo-url' : [],\n",
    "        'date' : [],\n",
    "        'tags' : [],\n",
    "        'photo-type' : []\n",
    "    }\n",
    "\n",
    "    #Tumblr limits us to a max of 50 posts per request\n",
    "    for requestNum in range(maxImages // 50):\n",
    "        requestParams = {\n",
    "            'start' : requestNum * 50,\n",
    "            'num' : 50,\n",
    "            'type' : 'photo'\n",
    "        }\n",
    "        r = requests.get(tumblrAPItarget.format(blogName), params = requestParams)\n",
    "        requestDict = json.loads(r.text[len('var tumblr_api_read = '):-2])\n",
    "        for postDict in requestDict['posts']:\n",
    "            #We are dealing with uncleaned data, we can't trust it.\n",
    "            #Specifically, not all posts are guaranteed to have the fields we want\n",
    "            try:\n",
    "                postsData['id'].append(postDict['id'])\n",
    "                postsData['date'].append(postDict['date'])\n",
    "                postsData['tags'].append(postDict['tags'])\n",
    "            except KeyError as e:\n",
    "                raise KeyError(\"Post {} from {} is missing: {}\".format(postDict['id'], blogName, e))\n",
    "\n",
    "            foundSuffix = False\n",
    "            for suffix in possiblePhotoSuffixes:\n",
    "                try:\n",
    "                    photoURL = postDict['photo-url-{}'.format(suffix)]\n",
    "                    postsData['photo-url'].append(photoURL)\n",
    "                    postsData['photo-type'].append(photoURL.split('.')[-1])\n",
    "                    foundSuffix = True\n",
    "                    break\n",
    "                except KeyError:\n",
    "                    pass\n",
    "            if not foundSuffix:\n",
    "                #Make sure your error messages are useful\n",
    "                #You will be one of the users\n",
    "                raise KeyError(\"Post {} from {} is missing a photo url\".format(postDict['id'], blogName))\n",
    "\n",
    "    return pandas.DataFrame(postsData)\n",
    "tumblrImageScrape('lolcats-lol-cat', 50)"
   ]
  },
  {
   "cell_type": "markdown",
   "metadata": {},
   "source": [
    "Now we have the urls of a bunch of images and can run OCR on them to gather\n",
    "compelling meme narratives, accompanied by cats.\n",
    "\n",
    "# Files\n",
    "\n",
    "What if the text we want isn't on a webpage? There are a many other sources of\n",
    "text available, typically organized into *files*.\n",
    "\n",
    "## Raw text (and encoding)\n",
    "\n",
    "The most basic form of storing text is as a _raw text_ document. Source code\n",
    "(`.py`, `.r`, etc) is usually raw text as are text files (`.txt`) and those with\n",
    "many other extension (e.g., .csv, .dat, etc.). Opening an unknown file with a\n",
    "text editor is often a great way of learning what the file is.\n",
    "\n",
    "We can create a text file in python with the `open()` function"
   ]
  },
  {
   "cell_type": "code",
   "execution_count": null,
   "metadata": {},
   "outputs": [],
   "source": [
    "#example_text_file = 'sometextfile.txt'\n",
    "#stringToWrite = 'A line\\nAnother line\\nA line with a few unusual symbols \\u2421 \\u241B \\u20A0 \\u20A1 \\u20A2 \\u20A3 \\u0D60\\n'\n",
    "stringToWrite = 'A line\\nAnother line\\nA line with a few unusual symbols ␡ ␛ ₠ ₡ ₢ ₣ ൠ\\n'\n",
    "\n",
    "with open(example_text_file, mode = 'w', encoding='utf-8') as f:\n",
    "    f.write(stringToWrite)"
   ]
  },
  {
   "cell_type": "markdown",
   "metadata": {},
   "source": [
    "Notice the `encoding='utf-8'` argument, which specifies how we map the bits from\n",
    "the file to the glyphs (and whitespace characters like tab (`'\\t'`) or newline\n",
    "(`'\\n'`)) on the screen. When dealing only with latin letters, arabic numerals\n",
    "and the other symbols on America keyboards you usually do not have to worry\n",
    "about encodings as the ones used today are backwards compatible with\n",
    "[ASCII](https://en.wikipedia.org/wiki/ASCII), which gives the binary\n",
    "representation of 128 characters.\n",
    "\n",
    "Some of you, however, will want to use other characters (e.g., Chinese\n",
    "characters). To solve this there is\n",
    "[Unicode](https://en.wikipedia.org/wiki/Unicode) which assigns numbers to\n",
    "symbols, e.g., 041 is `'A'` and 03A3 is `'Σ'` (numbers starting with 0 are\n",
    "hexadecimal). Often non/beyond-ASCII characters are called Unicode characters.\n",
    "Unicode contains 1,114,112 characters, about 10\\% of which have been assigned.\n",
    "Unfortunately there are many ways used to map combinations of bits to Unicode\n",
    "symbols. The ones you are likely to encounter are called by Python _utf-8_,\n",
    "_utf-16_ and _latin-1_. _utf-8_ is the standard for Linux and Mac OS while both\n",
    "_utf-16_ and _latin-1_ are used by windows. If you use the wrong encoding,\n",
    "characters can appear wrong, sometimes change in number or Python could raise an\n",
    "exception. Lets see what happens when we open the file we just created with\n",
    "different encodings."
   ]
  },
  {
   "cell_type": "code",
   "execution_count": null,
   "metadata": {},
   "outputs": [],
   "source": [
    "with open(example_text_file, encoding='utf-8') as f:\n",
    "    print(\"This is with the correct encoding:\")\n",
    "    print(f.read())\n",
    "\n",
    "with open(example_text_file, encoding='latin-1') as f:\n",
    "    print(\"This is with the wrong encoding:\")\n",
    "    print(f.read())"
   ]
  },
  {
   "cell_type": "markdown",
   "metadata": {},
   "source": [
    "Notice that with _latin-1_ the unicode characters are mixed up and there are too\n",
    "many of them. You need to keep in mind encoding when obtaining text files.\n",
    "Determining the encoding can sometime involve substantial work."
   ]
  },
  {
   "cell_type": "markdown",
   "metadata": {},
   "source": [
    "We can also load many text files at once. Lets start by looking at the Shakespeare files in the `data` directory "
   ]
  },
  {
   "cell_type": "code",
   "execution_count": null,
   "metadata": {},
   "outputs": [],
   "source": [
    "with open('./data/Shakespeare/midsummer_nights_dream.txt') as f:\n",
    "    midsummer = f.read()\n",
    "print(midsummer[-700:])"
   ]
  },
  {
   "cell_type": "markdown",
   "metadata": {},
   "source": [
    "By the way, depending on your working directory, you might get errors such as: [Errno 2] No such file or directory: '../data/Shakespeare/midsummer_nights_dream.txt.' Don't panic, it's nothing, just check your working directory. \n",
    "\n",
    "Then to load all the files in `./data/Shakespeare` we can use a for loop with `scandir`:"
   ]
  },
  {
   "cell_type": "code",
   "execution_count": null,
   "metadata": {},
   "outputs": [],
   "source": [
    "targetDir = './data/Shakespeare' #Change this to your own directory of texts\n",
    "shakespearText = []\n",
    "shakespearFileName = []\n",
    "\n",
    "for file in (file for file in os.scandir(targetDir) if file.is_file() and not file.name.startswith('.')):\n",
    "    with open(file.path, encoding=\"utf-8\") as f:\n",
    "        shakespearText.append(f.read())\n",
    "    shakespearFileName.append(file.name)"
   ]
  },
  {
   "cell_type": "markdown",
   "metadata": {},
   "source": [
    "Then we can put them all in pandas DataFrame"
   ]
  },
  {
   "cell_type": "code",
   "execution_count": null,
   "metadata": {},
   "outputs": [],
   "source": [
    "shakespear_df = pandas.DataFrame({'text' : shakespearText}, index = shakespearFileName)\n",
    "shakespear_df"
   ]
  },
  {
   "cell_type": "markdown",
   "metadata": {},
   "source": [
    "Getting your text in a format like this is the first step of most analysis"
   ]
  },
  {
   "cell_type": "markdown",
   "metadata": {},
   "source": [
    "## PDF\n",
    "\n",
    "Another common way text will be stored is in a PDF file. First we will download\n",
    "a pdf in Python. To do that lets grab a chapter from\n",
    "_Speech and Language Processing_, chapter 21 is on Information Extraction which\n",
    "seems apt. It is stored as a pdf at [https://web.stanford.edu/~jurafsky/slp3/21.\n",
    "pdf](https://web.stanford.edu/~jurafsky/slp3/21.pdf) although we are downloading\n",
    "from a copy just in case Jurafsky changes their website."
   ]
  },
  {
   "cell_type": "code",
   "execution_count": null,
   "metadata": {},
   "outputs": [],
   "source": [
    "#information_extraction_pdf = 'https://github.com/KnowledgeLab/content_analysis/raw/data/21.pdf'\n",
    "\n",
    "infoExtractionRequest = requests.get(information_extraction_pdf, stream=True)\n",
    "print(infoExtractionRequest.text[:1000])"
   ]
  },
  {
   "cell_type": "markdown",
   "metadata": {},
   "source": [
    "It says `'pdf'`, so thats a good sign. The rest though looks like we are having\n",
    "issues with an encoding. The random characters are not caused by our encoding\n",
    "being wrong, however. They are cause by there not being an encoding for those\n",
    "parts at all. PDFs are nominally binary files, meaning there are sections of\n",
    "binary that are specific to pdf and nothing else so you need something that\n",
    "knows about pdf to read them. To do that we will be using\n",
    "[`PyPDF2`](https://github.com/mstamy2/PyPDF2), a PDF processing library for\n",
    "Python 3.\n",
    "\n",
    "\n",
    "Because PDFs are a very complicated file format pdfminer requires a large amount\n",
    "of boilerplate code to extract text, we have written a function that takes in an\n",
    "open PDF file and returns the text so you don't have to."
   ]
  },
  {
   "cell_type": "code",
   "execution_count": null,
   "metadata": {},
   "outputs": [],
   "source": [
    "def readPDF(pdfFile):\n",
    "    #Based on code from http://stackoverflow.com/a/20905381/4955164\n",
    "    #Using utf-8, if there are a bunch of random symbols try changing this\n",
    "    codec = 'utf-8'\n",
    "    rsrcmgr = pdfminer.pdfinterp.PDFResourceManager()\n",
    "    retstr = io.StringIO()\n",
    "    layoutParams = pdfminer.layout.LAParams()\n",
    "    device = pdfminer.converter.TextConverter(rsrcmgr, retstr, laparams = layoutParams, codec = codec)\n",
    "    #We need a device and an interpreter\n",
    "    interpreter = pdfminer.pdfinterp.PDFPageInterpreter(rsrcmgr, device)\n",
    "    password = ''\n",
    "    maxpages = 0\n",
    "    caching = True\n",
    "    pagenos=set()\n",
    "    for page in pdfminer.pdfpage.PDFPage.get_pages(pdfFile, pagenos, maxpages=maxpages, password=password,caching=caching, check_extractable=True):\n",
    "        interpreter.process_page(page)\n",
    "    device.close()\n",
    "    returnedString = retstr.getvalue()\n",
    "    retstr.close()\n",
    "    return returnedString"
   ]
  },
  {
   "cell_type": "markdown",
   "metadata": {},
   "source": [
    "First we need to take the response object and convert it into a 'file like'\n",
    "object so that pdfminer can read it. To do this we will use `io`'s `BytesIO`."
   ]
  },
  {
   "cell_type": "code",
   "execution_count": null,
   "metadata": {},
   "outputs": [],
   "source": [
    "infoExtractionBytes = io.BytesIO(infoExtractionRequest.content)"
   ]
  },
  {
   "cell_type": "markdown",
   "metadata": {},
   "source": [
    "Now we can give it to pdfminer."
   ]
  },
  {
   "cell_type": "code",
   "execution_count": null,
   "metadata": {},
   "outputs": [],
   "source": [
    "print(readPDF(infoExtractionBytes)[:550])"
   ]
  },
  {
   "cell_type": "markdown",
   "metadata": {},
   "source": [
    "From here we can either look at the full text or fiddle with our PDF reader and\n",
    "get more information about individual blocks of text.\n",
    "\n",
    "## Word Docs\n",
    "\n",
    "The other type of document you are likely to encounter is the `.docx`, these are\n",
    "actually a version of [XML](https://en.wikipedia.org/wiki/Office_Open_XML), just\n",
    "like HTML, and like HTML we will use a specialized parser.\n",
    "\n",
    "For this class we will use [`python-docx`](https://python-\n",
    "docx.readthedocs.io/en/latest/) which provides a nice simple interface for\n",
    "reading `.docx` files"
   ]
  },
  {
   "cell_type": "code",
   "execution_count": null,
   "metadata": {},
   "outputs": [],
   "source": [
    "#example_docx = 'https://github.com/KnowledgeLab/content_analysis/raw/data/example_doc.docx'\n",
    "\n",
    "r = requests.get(example_docx, stream=True)\n",
    "d = docx.Document(io.BytesIO(r.content))\n",
    "for paragraph in d.paragraphs[:7]:\n",
    "    print(paragraph.text)"
   ]
  },
  {
   "cell_type": "markdown",
   "metadata": {},
   "source": [
    "This procedure uses the `io.BytesIO` class again, since `docx.Document` expects\n",
    "a file. Another way to do it is to save the document to a file and then read it\n",
    "like any other file. If we do this we can either delete the file afterwords, or\n",
    "save it and avoid downloading the following time.\n",
    "\n",
    "This function is useful as a part of many different tasks so it and others like it will be added to the helper package `lucem_illud_2020` so we can use it later without having to retype it."
   ]
  },
  {
   "cell_type": "code",
   "execution_count": null,
   "metadata": {},
   "outputs": [],
   "source": [
    "def downloadIfNeeded(targetURL, outputFile, **openkwargs):\n",
    "    if not os.path.isfile(outputFile):\n",
    "        outputDir = os.path.dirname(outputFile)\n",
    "        #This function is a more general os.mkdir()\n",
    "        if len(outputDir) > 0:\n",
    "            os.makedirs(outputDir, exist_ok = True)\n",
    "        r = requests.get(targetURL, stream=True)\n",
    "        #Using a closure like this is generally better than having to\n",
    "        #remember to close the file. There are ways to make this function\n",
    "        #work as a closure too\n",
    "        with open(outputFile, 'wb') as f:\n",
    "            f.write(r.content)\n",
    "    return open(outputFile, **openkwargs)"
   ]
  },
  {
   "cell_type": "markdown",
   "metadata": {},
   "source": [
    "This function will download, save and open `outputFile` as `outputFile` or just\n",
    "open it if `outputFile` exists. By default `open()` will open the file as read\n",
    "only text with the local encoding, which may cause issues if its not a text\n",
    "file."
   ]
  },
  {
   "cell_type": "code",
   "execution_count": null,
   "metadata": {},
   "outputs": [],
   "source": [
    "try:\n",
    "    d = docx.Document(downloadIfNeeded(example_docx, example_docx_save))\n",
    "except Exception as e:\n",
    "    print(e)"
   ]
  },
  {
   "cell_type": "markdown",
   "metadata": {},
   "source": [
    "We need to tell `open()` to read in binary mode (`'rb'`), this is why we added\n",
    "`**openkwargs`, this allows us to pass any keyword arguments (kwargs) from\n",
    "`downloadIfNeeded` to `open()`."
   ]
  },
  {
   "cell_type": "code",
   "execution_count": null,
   "metadata": {},
   "outputs": [],
   "source": [
    "d = docx.Document(downloadIfNeeded(example_docx, example_docx_save, mode = 'rb'))\n",
    "for paragraph in d.paragraphs[:7]:\n",
    "    print(paragraph.text)"
   ]
  },
  {
   "cell_type": "markdown",
   "metadata": {},
   "source": [
    "Now we can read the file with `docx.Document` and not have to wait for it to be\n",
    "downloaded every time."
   ]
  },
  {
   "cell_type": "markdown",
   "metadata": {},
   "source": [
    "\n",
    "# <span style=\"color:red\">Section 3</span>\n",
    "<span style=\"color:red\">Construct cells immediately below this that extract and organize textual content from text, PDF or Word into a pandas dataframe.</span>\n"
   ]
  },
  {
   "cell_type": "code",
   "execution_count": 66,
   "metadata": {},
   "outputs": [
    {
     "data": {
      "text/html": [
       "<div>\n",
       "<style scoped>\n",
       "    .dataframe tbody tr th:only-of-type {\n",
       "        vertical-align: middle;\n",
       "    }\n",
       "\n",
       "    .dataframe tbody tr th {\n",
       "        vertical-align: top;\n",
       "    }\n",
       "\n",
       "    .dataframe thead th {\n",
       "        text-align: right;\n",
       "    }\n",
       "</style>\n",
       "<table border=\"1\" class=\"dataframe\">\n",
       "  <thead>\n",
       "    <tr style=\"text-align: right;\">\n",
       "      <th></th>\n",
       "      <th>text</th>\n",
       "    </tr>\n",
       "  </thead>\n",
       "  <tbody>\n",
       "    <tr>\n",
       "      <th>test32112.txt</th>\n",
       "      <td>hehe\\nhaha\\n</td>\n",
       "    </tr>\n",
       "    <tr>\n",
       "      <th>sometextfile.txt</th>\n",
       "      <td>A line\\nAnother line\\nA line with a few unusua...</td>\n",
       "    </tr>\n",
       "    <tr>\n",
       "      <th>problem2.txt</th>\n",
       "      <td>def lru_cache(func, maxsize=128):\\n    '''\\n  ...</td>\n",
       "    </tr>\n",
       "    <tr>\n",
       "      <th>problem1.txt</th>\n",
       "      <td>### No importing other modules. You should are...</td>\n",
       "    </tr>\n",
       "    <tr>\n",
       "      <th>sample1.txt</th>\n",
       "      <td>Utilitatis causa amicitia est quaesita.\\nLorem...</td>\n",
       "    </tr>\n",
       "    <tr>\n",
       "      <th>sample2.txt</th>\n",
       "      <td>Aeque enim contingit omnibus fidibus, ut incon...</td>\n",
       "    </tr>\n",
       "    <tr>\n",
       "      <th>sample3.txt</th>\n",
       "      <td>Quod equidem non reprehendo;\\nLorem ipsum dolo...</td>\n",
       "    </tr>\n",
       "  </tbody>\n",
       "</table>\n",
       "</div>"
      ],
      "text/plain": [
       "                                                               text\n",
       "test32112.txt                                          hehe\\nhaha\\n\n",
       "sometextfile.txt  A line\\nAnother line\\nA line with a few unusua...\n",
       "problem2.txt      def lru_cache(func, maxsize=128):\\n    '''\\n  ...\n",
       "problem1.txt      ### No importing other modules. You should are...\n",
       "sample1.txt       Utilitatis causa amicitia est quaesita.\\nLorem...\n",
       "sample2.txt       Aeque enim contingit omnibus fidibus, ut incon...\n",
       "sample3.txt       Quod equidem non reprehendo;\\nLorem ipsum dolo..."
      ]
     },
     "execution_count": 66,
     "metadata": {},
     "output_type": "execute_result"
    }
   ],
   "source": [
    "target_dir = \"./HW_txt_data\"\n",
    "text_list = []\n",
    "file_names = []\n",
    "\n",
    "for file in (file for file in os.scandir(target_dir) if file.is_file() and not file.name.startswith(\".\")):\n",
    "    with open(file.path, encoding='utf-8') as f:\n",
    "        text_list.append(f.read())\n",
    "    file_names.append(file.name)\n",
    "\n",
    "txt_df = pandas.DataFrame({'text': text_list}, index=file_names)\n",
    "txt_df"
   ]
  },
  {
   "cell_type": "code",
   "execution_count": 67,
   "metadata": {},
   "outputs": [
    {
     "name": "stdout",
     "output_type": "stream",
     "text": [
      "%PDF-1.5\n",
      "%����\n",
      "3 0 obj <<\n",
      "/Length 4875      \n",
      "/Filter /FlateDecode\n",
      ">>\n",
      "stream\n",
      "xڍ[I��8��ׯ�95\u0015�bq_�\u000e�v���j�\u0012]�pLT�\u0001� \t�\u0014���,կ���\u0004��=�\u0014�\u0002\u000fo��\f",
      "�w��?�\t�����o��&wa�qT�=\u001e",
      "���/�� ��\"�{���꽭6a��Z�o�Q^x��$��n��{��_7�8I���9�\n",
      "���-�����p@��\u0006�C5��I��w��\n",
      "v�E\u0019�=��4�\u0005\u0006~����\u0016E�z��e{\u001f\u001a�i\u0003\u0014��f�n�I�d�\u000f�0+\u0013�6!.�Զ�\u0005�����\u001fD�o����x��ʕ�߫\u001e",
      "\u000fЯ��|�\u001f�Q,Q�յ�_�I�]{\u0001�����x�[�T�|�s<��>7\u000f.uRk\u0010m�8u\u0010s\u0002g��~^\n"
     ]
    }
   ],
   "source": [
    "pdf_link = \"https://www.cs.cornell.edu/~cristian/Echoes_of_power_files/echoes_of_power.pdf\"\n",
    "info_extraction_request = requests.get(pdf_link, stream=True)\n",
    "print(info_extraction_request.text[:500])"
   ]
  },
  {
   "cell_type": "code",
   "execution_count": 68,
   "metadata": {},
   "outputs": [],
   "source": [
    "def readPDF(pdfFile):\n",
    "    # Based on code from http://stackoverflow.com/a/20905381/4955164\n",
    "    codec = 'utf-8'\n",
    "    rsrcmgr = pdfminer.pdfinterp.PDFResourceManager()\n",
    "    retstr = io.StringIO()\n",
    "    layoutParams = pdfminer.layout.LAParams()\n",
    "    device = pdfminer.converter.TextConverter(\n",
    "        rsrcmgr, retstr, laparams=layoutParams, codec=codec)\n",
    "    # We need a device and an interpreter\n",
    "    interpreter = pdfminer.pdfinterp.PDFPageInterpreter(rsrcmgr, device)\n",
    "    password = ''\n",
    "    maxpages = 0\n",
    "    caching = True\n",
    "    pagenos = set()\n",
    "    for page in pdfminer.pdfpage.PDFPage.get_pages(pdfFile, pagenos, maxpages=maxpages, password=password, caching=caching, check_extractable=True):\n",
    "        interpreter.process_page(page)\n",
    "    device.close()\n",
    "    returnedString = retstr.getvalue()\n",
    "    retstr.close()\n",
    "    return returnedString"
   ]
  },
  {
   "cell_type": "code",
   "execution_count": 69,
   "metadata": {},
   "outputs": [],
   "source": [
    "info_extraction_bytes = io.BytesIO(info_extraction_request.content)"
   ]
  },
  {
   "cell_type": "code",
   "execution_count": 70,
   "metadata": {},
   "outputs": [
    {
     "name": "stdout",
     "output_type": "stream",
     "text": [
      "['Echoes of Power']\n",
      "['in Social Interaction', 'Cristian Danescu-Niculescu-Mizil', 'Cornell University', 'cristian@cs.cornell.edu,']\n"
     ]
    }
   ],
   "source": [
    "# Extract the PDF's title\n",
    "pdf_title = [readPDF(info_extraction_bytes)[:15]]\n",
    "print(pdf_title)\n",
    "\n",
    "# Extract some of the PDF's texts and clean them\n",
    "pdf_text = readPDF(info_extraction_bytes)[55:2500].split('\\n')\n",
    "cleaned_pdf_text = []\n",
    "for item in pdf_text:\n",
    "    if len(item) > 0:\n",
    "        cleaned_pdf_text.append(re.sub(r'\\n', '', item))\n",
    "\n",
    "print(cleaned_pdf_text[:4])"
   ]
  },
  {
   "cell_type": "code",
   "execution_count": 71,
   "metadata": {},
   "outputs": [
    {
     "name": "stdout",
     "output_type": "stream",
     "text": [
      "              title                                               text\n",
      "0   Echoes of Power                              in Social Interaction\n",
      "1   Echoes of Power                   Cristian Danescu-Niculescu-Mizil\n",
      "2   Echoes of Power                                 Cornell University\n",
      "3   Echoes of Power                           cristian@cs.cornell.edu,\n",
      "4   Echoes of Power                               llee@cs.cornell.edu,\n",
      "5   Echoes of Power                              bopang@yahoo-inc.com,\n",
      "6   Echoes of Power                                        Lillian Lee\n",
      "7   Echoes of Power                                 Cornell University\n",
      "8   Echoes of Power                                            Bo Pang\n",
      "9   Echoes of Power                                             Yahoo!\n",
      "10  Echoes of Power                                      Jon Kleinberg\n",
      "11  Echoes of Power                                 Cornell University\n",
      "12  Echoes of Power                            kleinber@cs.cornell.edu\n",
      "13  Echoes of Power                                           ABSTRACT\n",
      "14  Echoes of Power  Understanding social interaction within groups...\n",
      "15  Echoes of Power  ing online communities. Most current work focu...\n",
      "16  Echoes of Power  properties: who talks to whom, and how such in...\n",
      "17  Echoes of Power  larger network structures. The interactions th...\n",
      "18  Echoes of Power  generally take place in the form of natural la...\n",
      "19  Echoes of Power  ken or written — and one could reasonably supp...\n",
      "20  Echoes of Power  manifested in language might also provide info...\n",
      "21  Echoes of Power  status, and other aspects of the group’s dynam...\n",
      "22  Echoes of Power  ever, ﬁnding domain-independent language-based...\n",
      "23  Echoes of Power                                       a challenge.\n",
      "24  Echoes of Power  Here, we show that in group discussions, power...\n",
      "25  Echoes of Power  tween participants are subtly revealed by how ...\n",
      "26  Echoes of Power  immediately echoes the linguistic style of the...\n",
      "27  Echoes of Power  sponding to. Starting from this observation, w...\n",
      "28  Echoes of Power  ysis framework based on linguistic coordinatio...\n",
      "29  Echoes of Power  to shed light on power relationships and that ...\n",
      "30  Echoes of Power  across multiple types of power — including a m...\n",
      "31  Echoes of Power  of power based on status differences, and a mo...\n",
      "32  Echoes of Power  of power in which one individual experiences a...\n",
      "33  Echoes of Power  on another. Using this framework, we study how...\n",
      "34  Echoes of Power  behavior can reveal power relationships in two...\n",
      "35  Echoes of Power  tings: discussions among Wikipedians and argum...\n",
      "36  Echoes of Power                               U. S. Supreme Court.\n",
      "37  Echoes of Power  Categories and Subject Descriptors: J.4 [Compu...\n",
      "38  Echoes of Power             tions]: Social and behavioral sciences\n",
      "39  Echoes of Power        General Terms: Measurement, Experimentation\n",
      "40  Echoes of Power  Keywords power, relations, dependence, social ...\n",
      "41  Echoes of Power  style, coordination, linguistic convergence, l...\n",
      "42  Echoes of Power                munities, dependence, accommodation\n",
      "43  Echoes of Power                                                 1.\n",
      "44  Echoes of Power                                       INTRODUCTION\n",
      "45  Echoes of Power  With the arrival of detailed data on the inter...\n",
      "46  Echoes of Power  groups — generally coming from the on-line dom...\n",
      "47  Echoes of Power  line of research has developed around the phen...\n",
      "48  Echoes of Power  in these groups. To date, these analyses have ...\n",
      "49  Echoes of Power  features of the interactions, including who ta...\n",
      "50  Echoes of Power  quently, and how these patterns of interaction...\n",
      "51  Echoes of Power                                        structures.\n",
      "52  Echoes of Power            But the interactions themselves are gen\n"
     ]
    }
   ],
   "source": [
    "pdf_df = pandas.DataFrame({\"title\": pdf_title*len(cleaned_pdf_text)})\n",
    "pdf_df['text'] = cleaned_pdf_text\n",
    "print(pdf_df)"
   ]
  },
  {
   "cell_type": "code",
   "execution_count": 72,
   "metadata": {},
   "outputs": [
    {
     "name": "stdout",
     "output_type": "stream",
     "text": [
      "Prevention of vaccine-matched and mismatched influenza in children 6−35 months of age: a multinational randomized trial across five influenza seasons\n",
      "Authors: Claeys C1, MD; Zaman K*2, PhD; Dbaibo G3, MD; Li P4, PhD; Izu A5, MS; Kosalaraksa P6, MD; Rivera L7, MD; Acosta B8, MD; Arroba Basanta ML9, MD; Aziz A2, MD; Cabanero MA10, PhD; Chandrashekaran V11, MS; Corsaro B11, PhD; Cousin L12, MD; Diaz A13, MD; Diez-Domingo J14, MD; Dinleyici EC15, MD; Faust SN16, MD; Friel D1, PhD; Garcia-Sicilia J17, MD; Gomez-Go GD18, MD; Gonzales MLA19, MS; Hughes SM20, MD; Jackowska T21, MD; Kant S22, MD; Lucero M23, MD; Malvaux L1, PhD; Mares Bermudez J24, MD; Martinon-Torres F25, PhD; Miranda M26, MD; Montellano M18, MD; Peix Sambola MA27, MD; Prymula R28, MD; Puthanakit T29, MD; Ruzkova R30, MD; Sadowska-Krawczenko I31, PhD; Salamanca de la Cueva I32, MD; Sokal E33, MD; Soni J34, MA; Szymanski H35, MD; Ulied A36, MD; Schuind A11, MD; Jain VKǂ37, MD; Innis BL38, MD; for the Flu4VEC Study Group \n",
      "* Co-first author\n"
     ]
    }
   ],
   "source": [
    "word_docx_link = \"https://eprints.soton.ac.uk/417883/1/Claeys_et_al_LCAH_v3_15_December.docx\"\n",
    "word_docx_request = requests.get(word_docx_link, stream=True)\n",
    "word_docx_content = docx.Document(io.BytesIO(word_docx_request.content))\n",
    "for paragraph in word_docx_content.paragraphs[:3]:\n",
    "    print(paragraph.text)"
   ]
  },
  {
   "cell_type": "code",
   "execution_count": 73,
   "metadata": {},
   "outputs": [],
   "source": [
    "def downloadIfNeeded(targetURL, outputFile, **openkwargs):\n",
    "    if not os.path.isfile(outputFile):\n",
    "        outputDir = os.path.dirname(outputFile)\n",
    "        #This function is a more general os.mkdir()\n",
    "        if len(outputDir) > 0:\n",
    "            os.makedirs(outputDir, exist_ok = True)\n",
    "        r = requests.get(targetURL, stream=True)\n",
    "        #Using a closure like this is generally better than having to\n",
    "        #remember to close the file. There are ways to make this function\n",
    "        #work as a closure too\n",
    "        with open(outputFile, 'wb') as f:\n",
    "            f.write(r.content)\n",
    "    return open(outputFile, **openkwargs)"
   ]
  },
  {
   "cell_type": "code",
   "execution_count": 74,
   "metadata": {},
   "outputs": [
    {
     "name": "stdout",
     "output_type": "stream",
     "text": [
      "File is not a zip file\n"
     ]
    }
   ],
   "source": [
    "word_docx_save = \"word_docx_example.docx\"\n",
    "try:\n",
    "    word_docx_content = docx.Document(downloadIfNeeded(word_docx_link, word_docx_save))\n",
    "except Exception as e:\n",
    "    print(e)"
   ]
  },
  {
   "cell_type": "code",
   "execution_count": 75,
   "metadata": {},
   "outputs": [
    {
     "name": "stdout",
     "output_type": "stream",
     "text": [
      "         Title Paragraph Content\n",
      "0   Prevention      Introduction\n",
      "1   Prevention           Methods\n",
      "2   Prevention          Vaccines\n",
      "3   Prevention          Efficacy\n",
      "4   Prevention           Results\n",
      "5   Prevention            Safety\n",
      "6   Prevention        Discussion\n",
      "7   Prevention       Disclosures\n",
      "8   Prevention           Funding\n",
      "9   Prevention        References\n",
      "10  Prevention       6–17 months\n",
      "11  Prevention      18–35 months\n"
     ]
    }
   ],
   "source": [
    "word_docx_content = docx.Document(downloadIfNeeded(word_docx_link, word_docx_save, mode='rb'))\n",
    "word_docx_content_short_list = []\n",
    "\n",
    "# Append paragraphs with a particular length into a list\n",
    "for paragraph in word_docx_content.paragraphs:\n",
    "    paragraph_in_list = paragraph.text.split('\\n')\n",
    "    if len(paragraph_in_list[0]) > 0 and len(paragraph_in_list[0]) < 15: \n",
    "        word_docx_content_short_list.append(paragraph_in_list[0])\n",
    "\n",
    "# Organize the info into a dataframe\n",
    "word_docx_title = word_docx_content.paragraphs[0].text[:10]\n",
    "word_docx_short_content = [paragraph for paragraph in word_docx_content_short_list[1:] if len(paragraph) > 1]\n",
    "word_docx_df_dict = {\n",
    "    \"Title\": [word_docx_title]*len(word_docx_short_content),\n",
    "    \"Paragraph Content\": word_docx_short_content\n",
    "}\n",
    "word_docx_df = pandas.DataFrame(word_docx_df_dict)\n",
    "print(word_docx_df)"
   ]
  },
  {
   "cell_type": "markdown",
   "metadata": {},
   "source": [
    "### Other sources:\n",
    "\n",
    "Other popular sources for internet data:\n",
    "\n",
    "[reddit](https://www.reddit.com/) - https://praw.readthedocs.io/en/v2.1.21/\n",
    "\n",
    "[twitter](https://twitter.com/) - https://pypi.org/project/python-twitter/\n",
    "\n",
    "[project gutenburg](https://www.gutenberg.org/) - https://github.com/ageitgey/Gutenberg \n",
    "\n"
   ]
  }
 ],
 "metadata": {
  "kernelspec": {
   "display_name": "Python 3",
   "language": "python",
   "name": "python3"
  },
  "language_info": {
   "codemirror_mode": {
    "name": "ipython",
    "version": 3
   },
   "file_extension": ".py",
   "mimetype": "text/x-python",
   "name": "python",
   "nbconvert_exporter": "python",
   "pygments_lexer": "ipython3",
   "version": "3.8.5"
  }
 },
 "nbformat": 4,
 "nbformat_minor": 4
}
