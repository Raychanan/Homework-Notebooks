{
 "cells": [
  {
   "cell_type": "code",
   "execution_count": 169,
   "metadata": {},
   "outputs": [],
   "source": [
    "#All these packages need to be installed from pip\n",
    "import requests #for http requests\n",
    "import bs4 #called `beautifulsoup4`, an html parser\n",
    "import pandas #gives us DataFrames\n",
    "import docx #reading MS doc files, install as `python-docx`\n",
    "\n",
    "#Stuff for pdfs\n",
    "#Install as `pdfminer2`\n",
    "import pdfminer.pdfinterp\n",
    "import pdfminer.converter\n",
    "import pdfminer.layout\n",
    "import pdfminer.pdfpage\n",
    "\n",
    "#These come with Python\n",
    "import re #for regexs\n",
    "import urllib.parse #For joining urls\n",
    "import io #for making http requests look like files\n",
    "import json #For Tumblr API responses\n",
    "import os.path #For checking if files exist\n",
    "import os #For making directories"
   ]
  },
  {
   "cell_type": "code",
   "execution_count": 170,
   "metadata": {},
   "outputs": [],
   "source": [
    "bbc_fangfang_report = \"https://www.nytimes.com/\"\n",
    "bbc_fangfang_report = \"https://www.bbc.com/\"\n",
    "bbc_fangfang_report = \"https://www.bbc.com/news/world-asia-54987675\""
   ]
  },
  {
   "cell_type": "code",
   "execution_count": 171,
   "metadata": {},
   "outputs": [
    {
     "data": {
      "text/plain": [
       "<Response [200]>"
      ]
     },
     "execution_count": 171,
     "metadata": {},
     "output_type": "execute_result"
    }
   ],
   "source": [
    "requests.get(bbc_fangfang_report)"
   ]
  },
  {
   "cell_type": "code",
   "execution_count": 172,
   "metadata": {},
   "outputs": [
    {
     "name": "stdout",
     "output_type": "stream",
     "text": [
      "<Response [200]>\n",
      "---\n",
      "<!DOCTYPE html><html lang=\"en-GB\" class=\"no-js\"><head><meta charSet=\"utf-8\" /><meta name=\"viewport\" content=\"width=device-width, initial-scale=1\" /><title data-rh=\"true\">Fang Fang: Author vilified for Wuhan Diary speaks out a year on - BBC News</title><meta data-rh=\"true\" name=\"description\" content=\"Wuhan writer Fang Fang talks about the price she has had to pay for her controversial lockdown diaries.\"/><meta data-rh=\"true\" name=\"theme-color\" content=\"#FFFFFF\"/><meta data-rh=\"true\" property=\"article:author\" content=\"https://www.facebook.com/bbcnews\"/><meta data-rh=\"true\" property=\"article:section\" content=\"Asia\"/><meta data-rh=\"true\" property=\"fb:admins\" content=\"100004154058350\"/><meta data-rh=\"true\" property=\"fb:app_id\" content=\"1609039196070050\"/><meta data-rh=\"true\" property=\"fb:pages\" content=\"1143803202301544,317278538359186,1392506827668140,742734325867560,185246968166196,156060587793370,137920769558355,193435954068976,21263239760,156400551056385,929399697073756,154344434967,228\n"
     ]
    }
   ],
   "source": [
    "nytimes_content_request = requests.get(bbc_fangfang_report)\n",
    "print(nytimes_content_request)\n",
    "print('---')\n",
    "print(nytimes_content_request.text[:1000])"
   ]
  },
  {
   "cell_type": "code",
   "execution_count": 173,
   "metadata": {},
   "outputs": [
    {
     "name": "stdout",
     "output_type": "stream",
     "text": [
      "Fang Fang: Author vilified for Wuhan Diary speaks out a year on - BBC NewsBBC HomepageSkip to contentAccessibility HelpBBC AccountHomeNewsSportReelWorklifeTravelFutureCultureMenuMorecaret-downsearchSearchHomeNewsSportReelWorklifeTravelFutureCultureMusicTVWeatherSoundsnoClose menuBBC NewslistMenuHomeCoronavirusVideoWorldUS & CanadaUKBusinessTechScienceStoriesEntertainment & ArtslistMoreHealthIn PicturesReality CheckWorld News TVNewsbeatLong ReadsAsiaChinaIndiaFang Fang: Author vilified for Wuhan Diary speaks out a year onBy Fan Wang and Grace TsoiBBC World Service, Hong KongPublishedduration8 hours agoSharenocloseShare pagelinkCopy linkAbout sharingRelated TopicsCoronavirus pandemicimage copyrightWu BaojianShe has faced a nationalist backlash for her diaries documenting life in Wuhan in the early days of the coronavirus outbreak, but Chinese author Fang Fang she says she will not be silenced.\"When facing a catastrophe, it's vital to voice your opinion and give your advice,\" she told BBC Chinese in a rare email interview with international media.In late January, when Wuhan became the first place in the world to enter a state of complete lockdown, many of the city's 11 million residents found solace in reading Fang Fang's online diaries. They also provided a revealing glimpse into the city where the virus first emerged.The 65-year-old's daily posts on her Weibo account, the Chinese equivalent of Twitter, chronicled life living alone with her dog during the lockdown, as well as what she described as the dark side of the authority's response.They were initially well-received, but later provoked a wave of criticism from those who saw her efforts as unpatriotic.As part of the BBC 100 Women season, Fang Fang told the BBC why, despite the condemnation, she does not regret speaking out.'Vivid narrative'image copyrightGetty Imagesimage captionTo contain the spread in Wuhan, the authorities imposed unprecedented restrictionsFang Fang says that she wrote the diaries as part of a\n"
     ]
    }
   ],
   "source": [
    "nytimes_content_soup = bs4.BeautifulSoup(nytimes_content_request.text, 'html.parser')\n",
    "print(nytimes_content_soup.text[:2000])"
   ]
  },
  {
   "cell_type": "code",
   "execution_count": 174,
   "metadata": {},
   "outputs": [],
   "source": [
    "#it is likely that what Python receives is not what you will see, so we will need to \n",
    "#inspect what Python receives. To do this we can save the html requests obtained.\n",
    "\n",
    "nytimes_save = 'news.html'\n",
    "with open(nytimes_save, mode='w', encoding='utf-8') as f:\n",
    "    f.write(nytimes_content_request.text)"
   ]
  },
  {
   "cell_type": "code",
   "execution_count": 175,
   "metadata": {},
   "outputs": [
    {
     "name": "stdout",
     "output_type": "stream",
     "text": [
      "By Fan Wang and Grace TsoiBBC World Service, Hong Kong\n",
      "She has faced a nationalist backlash for her diaries documenting life in Wuhan in the early days of the coronavirus outbreak, but Chinese author Fang Fang she says she will not be silenced.\n",
      "\"When facing a catastrophe, it's vital to voice your opinion and give your advice,\" she told BBC Chinese in a rare email interview with international media.\n",
      "In late January, when Wuhan became the first place in the world to enter a state of complete lockdown, many of the city's 11 million residents found solace in reading Fang Fang's online diaries. They also provided a revealing glimpse into the city where the virus first emerged.\n",
      "The 65-year-old's daily posts on her Weibo account, the Chinese equivalent of Twitter, chronicled life living alone with her dog during the lockdown, as well as what she described as the dark side of the authority's response.\n",
      "They were initially well-received, but later provoked a wave of criticism from those who saw her efforts as unpatriotic.\n",
      "As part of the BBC 100 Women season, Fang Fang told the BBC why, despite the condemnation, she does not regret speaking out.\n",
      "Fang Fang says that she wrote the diaries as part of a process that helped her to \"channel her mind\" and reflect on what was happening during lockdown. \n",
      "She captured what it was like to be isolated from the rest of the world; the collective pain and sadness of witnessing the loss of life; and the anger at local officials for what she views as their mishandling of the crisis.\n",
      "At first, her online diary was praised domestically, with state media the China News Service describing her posts as inspiring, \"with vivid narrative, real emotions and a straightforward style\".\n",
      "But the reaction significantly shifted when they gained international attention and the criticism reached fever pitch when news emerged that her diaries would be translated into English and picked up by US publisher HarperCollins. \n",
      "\"Because of the 60 diary entries I wrote during the pandemicâ¦ I am seen as the enemy by the authorities,\" she said. \n",
      "Chinese media outlets, she says, have been ordered not to publish any of her articles. And her books, including new works and reprints, have been shunned by Chinese publishers. \n",
      "\"For a writer, it's a very, very cruel thing,\" she told the BBC.   \n",
      "\"Maybe it's because I have expressed more sympathy for ordinary people than applauding the government. I didn't flatter or praise the government, so I am guilty.\"  \n",
      "Fang Fang says that the backlash was not restricted to official disapproval.\n",
      "She says she has received tens of thousands of abusive messages, including death threats. On social media she has been labelled a traitor, accused of conspiring with the West to attack the Chinese state, with some even suggesting she was paid by the American intelligence agency, the CIA, to write the diaries.\n",
      "Fang Fang says she was surprised and confused by the viciousness of the attacks.\n",
      "\"It's very difficult for me to understand their hatred of me. My records are objective and mild,\" she says.  \n",
      "The attacks she says remind her of the 1966-1976 Cultural Revolution, a period of violent mob rule which led to the purging of intellectuals and \"class enemies\", including people with ties to the West.\n",
      "China is sensitive about its image abroad, and Fang Fang's diaries came during a time when the country was under immense international pressure for alleged cover-ups. \n",
      "Fang Kecheng, a journalism professor at the Chinese University of Hong Kong, says the attacks on Fang Fang follow a pattern of online nationalism. \"Nationalism has become the mainstream on the Chinese internet in recent years, and liberalism has been marginalised. Nationalist internet users are very active, and they have become nationalist trolls,\" says Prof Fang. \n",
      "He says online nationalism has been \"implicitly endorsed\" by Chinese authorities because it could help boost the support for the government - but it could also backfire if this gets radical. \n",
      "\"Words specifically used during the Cultural Revolution, such as 'class struggle' and 'dictatorship of the proletariat' have re-emerged. It means that China's reforms are on their way to failure and regression,\" she says.  \n",
      "After watching the coronavirus spread to almost every corner of the world, Fang Fang says China's decision to impose a 76-day lockdown in Wuhan was the right one, a stance reflected in her diary entries at the time.  \n",
      "\"The lockdown was a heavy price we paid in exchange for now being able to live freely in Wuhan without the virus,\" she says. \n",
      "Wuhan has reported no local cases since May. It does not count asymptomatic cases.\n",
      "\"If severe measures had not been adopted, the situation in Wuhan would have further spiralled out of control. So I expressed support for almost all disease control measures.\"   \n",
      "And Fang Fang says other countries can learn from aspects of China's approach. \n",
      "\"During the outbreak, all gatherings were banned, everyone was required to wear a mask, and a health QR code was needed to enter a housing complex. I think all these very good measures helped China control the virus.\" \n",
      "But China's ultimate success in containing the virus domestically does not negate, she argues, the need to investigate the initial handling of the outbreak by the authorities. \n",
      "\"There has been no thorough investigation into the reasons why it took so long to tackle the outbreak,\" Fang Fang says.\n",
      "She questions why at first authorities said the virus was \"preventable and controllable\".\n",
      "But Fang Fang says the world, not just China, needs to learn from the pandemic.\n",
      "\"It is human ignorance and arrogance that let the virus spread so widely and for so long.\"\n",
      "Professor Michael Berry, who translated her diaries into English, believes \"her resilience is rooted in the knowledge that she is doing the right thing\".\n",
      "\"She is not a dissident, she is not calling for the overthrow of the government; she is an individual that documented what she saw, felt, and experienced during the Wuhan lockdown,\" he said. \n",
      "But in doing that he argues, she does explore bigger questions \"not only the handling of the pandemic, but about what kind of society Chinese citizens want to create for themselves\".\n",
      "In Wuhan, Fang Fang's personal life was dealt a blow when her 16-year-old dog, a constant companion throughout the lockdown, died in April. But she is resilient.  \n",
      "She is still writing in the hope that her works will once again be published in her own country, and says she has no regrets.\n",
      "\"I definitely will not make compromises, and there's no need to stay silent.\" \n",
      "Additional reporting by Lara Owen\n",
      "BBC 100 Women names 100 influential and inspirational women around the world every year, and tells their stories. Follow us on Instagram and Facebook and join the conversation, using#BBC100Women.\n",
      "BBC 100 Women 2020: Who is on the list this year?\n",
      "Sanna Marin: The feminist PM leading a coalition of women\n",
      "Mexico urges US to make major immigration reforms\n",
      "The Mexican president spoke out as thousands gathered in Guatemala en route to Mexico and the US.\n",
      "Biden to keep Covid travel bans despite Trump order\n",
      "Biden 'to cancel Keystone pipeline on first day'\n",
      "How security threats have changed Bidenâs inauguration\n",
      "French incest allegations prompt victims to speak out\n",
      "The Hong Kong migrants fleeing to the UK\n",
      "Conquering K2 in winter 'together' VideoConquering K2 in winter 'together'\n",
      "Why Iranâs nuclear facilities are still vulnerable to attack\n",
      "Want to light up outdoors in Milan? Think again\n",
      "Author vilified for Wuhan Diary speaks out a year on\n",
      "BBC Worklife: Is the five-day work week dead?\n",
      "How a robot investigator searched 60 million files\n",
      "Football phrases\n",
      "15 sayings from around the world\n",
      "Trump supporter arrested after Pelosi 'data theft'1\n",
      "Mexico urges US to make major immigration reforms2\n",
      "Melaniaâs jacket and nine other defining images3\n",
      "Biden to keep Covid travel bans despite Trump order4\n",
      "Biden 'to cancel Keystone pipeline on first day'5\n",
      "World on brink of catastrophic moral failure - WHO6\n",
      "French incest allegations prompt victims to speak out7\n",
      "PM 'glad' to see Trump go - ex-Civil Service head8\n",
      "Two players test positive ahead of Australian Open9\n",
      "Man found 'living in airport for three months'10\n",
      "Â© 2021 BBC. The BBC is not responsible for the content of external sites. Read about our approach to external linking.\n"
     ]
    }
   ],
   "source": [
    "content_p_tags = nytimes_content_soup.body.findAll('p')\n",
    "# print(content_p_tags)\n",
    "for p_tag in content_p_tags:\n",
    "#     print(p_tag)\n",
    "    print(p_tag.text)"
   ]
  },
  {
   "cell_type": "code",
   "execution_count": 185,
   "metadata": {},
   "outputs": [
    {
     "name": "stdout",
     "output_type": "stream",
     "text": [
      "                                       paragraph_text\n",
      "0   By Fan Wang and Grace TsoiBBC World Service, H...\n",
      "1   She has faced a nationalist backlash for her d...\n",
      "2   'When facing a catastrophe, it's vital to voic...\n",
      "3   In late January, when Wuhan became the first p...\n",
      "4   The (number missing) -year-old's daily posts o...\n",
      "..                                                ...\n",
      "66  French incest allegations prompt victims to sp...\n",
      "67  PM 'glad' to see Trump go - ex-Civil Service h...\n",
      "68  Two players test positive ahead of Australian ...\n",
      "69  Man found 'living in airport for three months'...\n",
      "70  (number missing) BBC. The BBC is not responsib...\n",
      "\n",
      "[71 rows x 1 columns]\n"
     ]
    }
   ],
   "source": [
    "# The content of this news is almost perfect, and the cleaning work I'm doing is actually superfluous.\n",
    "# Anyway, the following code is used to satisfy the requirements of the homework\n",
    "\n",
    "content_paragraphs = []\n",
    "for p_tag in content_p_tags:\n",
    "    content_paragraphs.append(re.sub(r'\\d+', ' (number missing) ', p_tag.text))\n",
    "\n",
    "cleaned_content_paragraphs = []\n",
    "for paragraph in content_paragraphs:\n",
    "    cleaned_paragraph = re.sub(r'Â©', \"\", paragraph) # remove non-readable characters\n",
    "    cleaned_paragraph = re.sub(r' +', \" \", cleaned_paragraph) # remove extra spaces\n",
    "    cleaned_paragraph = re.sub(r'^\\s+', \"\", cleaned_paragraph) # remove leading spaces\n",
    "    cleaned_paragraph = re.sub(r'\\s+$', \"\", cleaned_paragraph) # # remove trailing spaces\n",
    "    cleaned_paragraph = re.sub(r'\"', \"'\", cleaned_paragraph) # to meet the homework's requirement\n",
    "    cleaned_content_paragraphs.append(cleaned_paragraph)\n",
    "    \n",
    "    \n",
    "# for paragraph in content_paragraphs:\n",
    "#     print(paragraph)\n",
    "content_paragraphs_df = pandas.DataFrame({'paragraph_text': cleaned_content_paragraphs})\n",
    "print(content_paragraphs_df)"
   ]
  },
  {
   "cell_type": "code",
   "execution_count": 186,
   "metadata": {},
   "outputs": [
    {
     "name": "stdout",
     "output_type": "stream",
     "text": [
      "[<p class=\"css-1pjc44v-Contributor e5xb54n0\"><span><strong>By Fan Wang and Grace Tsoi</strong><br/>BBC World Service, Hong Kong</span></p>, <p><style data-emotion-css=\"14iz86j-BoldText\">.css-14iz86j-BoldText{font-weight:bold;}</style><b class=\"css-14iz86j-BoldText e5tfeyi0\">She has faced a nationalist backlash for her diaries documenting life in Wuhan in the early days of the coronavirus outbreak, but Chinese author Fang Fang she says she will not be silenced.</b></p>, <p>\"When facing a catastrophe, it's vital to voice your opinion and give your advice,\" she told BBC Chinese in a rare email interview with international media.</p>, <p>In late January, when Wuhan became the first place in the world to enter a state of complete lockdown, many of the city's 11 million residents found solace in reading Fang Fang's online diaries. They also provided a revealing glimpse into the city where the virus first emerged.</p>, <p>The 65-year-old's daily posts on her Weibo account, the Chinese equivalent of Twitter, chronicled life living alone with her dog during the lockdown, as well as what she described as the dark side of the authority's response.</p>, <p>They were initially well-received, but later provoked a wave of criticism from those who saw her efforts as unpatriotic.</p>, <p>As part of the BBC 100 Women season, Fang Fang told the BBC why, despite the condemnation, she does not regret speaking out.</p>, <p>Fang Fang says that she wrote the diaries as part of a process that helped her to \"channel her mind\" and reflect on what was happening during lockdown. </p>, <p>She captured what it was like to be isolated from the rest of the world; the collective pain and sadness of witnessing the loss of life; and the anger at local officials for what she views as their mishandling of the crisis.</p>, <p>At first, her online diary was praised domestically, with state media the China News Service describing her posts as inspiring, \"with vivid narrative, real emotions and a straightforward style\".</p>, <p>But the reaction significantly shifted when they gained international attention and the criticism reached fever pitch when news emerged that her diaries would be translated into English and picked up by US publisher HarperCollins. </p>, <p>\"Because of the 60 diary entries I wrote during the pandemicâ¦ I am seen as the enemy by the authorities,\" she said. </p>, <p>Chinese media outlets, she says, have been ordered not to publish any of her articles. And her books, including new works and reprints, have been shunned by Chinese publishers. </p>, <p>\"For a writer, it's a very, very cruel thing,\" she told the BBC.   </p>, <p>\"Maybe it's because I have expressed more sympathy for ordinary people than applauding the government. I didn't flatter or praise the government, so I am guilty.\"  </p>, <p>Fang Fang says that the backlash was not restricted to official disapproval.</p>, <p>She says she has received tens of thousands of abusive messages, including death threats. On social media she has been labelled a traitor, accused of conspiring with the West to attack the Chinese state, with some even suggesting she was paid by the American intelligence agency, the CIA, to write the diaries.</p>, <p>Fang Fang says she was surprised and confused by the viciousness of the attacks.</p>, <p>\"It's very difficult for me to understand their hatred of me. My records are objective and mild,\" she says.  </p>, <p>The attacks she says remind her of the 1966-1976 Cultural Revolution, a period of violent mob rule which led to the purging of intellectuals and \"class enemies\", including people with ties to the West.</p>, <p>China is sensitive about its image abroad, and Fang Fang's diaries came during a time when the country was under immense international pressure for alleged cover-ups. </p>, <p>Fang Kecheng, a journalism professor at the Chinese University of Hong Kong, says the attacks on Fang Fang follow a pattern of online nationalism. \"Nationalism has become the mainstream on the Chinese internet in recent years, and liberalism has been marginalised. Nationalist internet users are very active, and they have become nationalist trolls,\" says Prof Fang. </p>, <p>He says online nationalism has been \"implicitly endorsed\" by Chinese authorities because it could help boost the support for the government - but it could also backfire if this gets radical. </p>, <p>\"Words specifically used during the Cultural Revolution, such as 'class struggle' and 'dictatorship of the proletariat' have re-emerged. It means that China's reforms are on their way to failure and regression,\" she says.  </p>, <p>After watching the coronavirus spread to almost every corner of the world, Fang Fang says China's decision to impose a 76-day lockdown in Wuhan was the right one, a stance reflected in her diary entries at the time.  </p>, <p>\"The lockdown was a heavy price we paid in exchange for now being able to live freely in Wuhan without the virus,\" she says. </p>, <p>Wuhan has reported no local cases since May. It does not count asymptomatic cases.</p>, <p>\"If severe measures had not been adopted, the situation in Wuhan would have further spiralled out of control. So I expressed support for almost all disease control measures.\"   </p>, <p>And Fang Fang says other countries can learn from aspects of China's approach. </p>, <p>\"During the outbreak, all gatherings were banned, everyone was required to wear a mask, and a health QR code was needed to enter a housing complex. I think all these very good measures helped China control the virus.\" </p>, <p>But China's ultimate success in containing the virus domestically does not negate, she argues, the need to investigate the initial handling of the outbreak by the authorities. </p>, <p>\"There has been no thorough investigation into the reasons why it took so long to tackle the outbreak,\" Fang Fang says.</p>, <p>She questions why at first authorities said the virus was \"preventable and controllable\".</p>, <p>But Fang Fang says the world, not just China, needs to learn from the pandemic.</p>, <p>\"It is human ignorance and arrogance that let the virus spread so widely and for so long.\"</p>, <p>Professor Michael Berry, who translated her diaries into English, believes \"her resilience is rooted in the knowledge that she is doing the right thing\".</p>, <p>\"She is not a dissident, she is not calling for the overthrow of the government; she is an individual that documented what she saw, felt, and experienced during the Wuhan lockdown,\" he said. </p>, <p>But in doing that he argues, she does explore bigger questions \"not only the handling of the pandemic, but about what kind of society Chinese citizens want to create for themselves\".</p>, <p>In Wuhan, Fang Fang's personal life was dealt a blow when her 16-year-old dog, a constant companion throughout the lockdown, died in April. But she is resilient.  </p>, <p>She is still writing in the hope that her works will once again be published in her own country, and says she has no regrets.</p>, <p>\"I definitely will not make compromises, and there's no need to stay silent.\" </p>, <p><style data-emotion-css=\"po6dm6-ItalicText\">.css-po6dm6-ItalicText{font-style:italic;}</style><i class=\"css-po6dm6-ItalicText e5tfeyi1\">Additional reporting by Lara Owen</i></p>, <p><a class=\"css-1xgj2ad-InlineLink e1no5rhv0\" href=\"http://www.bbc.co.uk/news/world-24371433\">BBC 100 Women</a><i class=\"css-po6dm6-ItalicText e5tfeyi1\"> names 100 influential and inspirational women around the world every year, and tells their stories. Follow us on </i><a class=\"css-1xgj2ad-InlineLink e1no5rhv0\" href=\"https://www.instagram.com/bbc100women/?hl=en\">Instagram</a><i class=\"css-po6dm6-ItalicText e5tfeyi1\"> and </i><a class=\"css-1xgj2ad-InlineLink e1no5rhv0\" href=\"https://www.facebook.com/BBC100women/?fref=ts\">Facebook </a><i class=\"css-po6dm6-ItalicText e5tfeyi1\">and join the conversation, using</i><i class=\"css-po6dm6-ItalicText e5tfeyi1\">#BBC100Women</i>.</p>, <p class=\"css-13k1mrq-PromoHeadline e1f5wbog2\"><style data-emotion-css=\"1hlxxic-PromoLink\">.css-1hlxxic-PromoLink:link{color:inherit;}.css-1hlxxic-PromoLink:visited{color:#696969;}.css-1hlxxic-PromoLink:link,.css-1hlxxic-PromoLink:visited{-webkit-text-decoration:none;text-decoration:none;}.css-1hlxxic-PromoLink:link:hover,.css-1hlxxic-PromoLink:visited:hover,.css-1hlxxic-PromoLink:link:focus,.css-1hlxxic-PromoLink:visited:focus{color:#B80000;-webkit-text-decoration:underline;text-decoration:underline;}.css-1hlxxic-PromoLink:link::after,.css-1hlxxic-PromoLink:visited::after{content:'';position:absolute;top:0;right:0;bottom:0;left:0;z-index:2;}</style><a class=\"css-1hlxxic-PromoLink e1f5wbog6\" href=\"/news/world-55042935\"><span aria-hidden=\"false\">BBC 100 Women 2020: Who is on the list this year?</span></a></p>, <p class=\"css-13k1mrq-PromoHeadline e1f5wbog2\"><a class=\"css-1hlxxic-PromoLink e1f5wbog6\" href=\"/news/stories-55020994\"><span aria-hidden=\"false\">Sanna Marin: The feminist PM leading a coalition of women</span></a></p>, <p class=\"css-13k1mrq-PromoHeadline e1f5wbog2\"><a class=\"css-1hlxxic-PromoLink e1f5wbog6\" href=\"/news/world-latin-america-55714865\"><span aria-hidden=\"false\">Mexico urges US to make major immigration reforms</span></a></p>, <p>The Mexican president spoke out as thousands gathered in Guatemala en route to Mexico and the US.</p>, <p class=\"css-13k1mrq-PromoHeadline e1f5wbog2\"><a class=\"css-1hlxxic-PromoLink e1f5wbog6\" href=\"/news/world-us-canada-55713570\"><span aria-hidden=\"false\">Biden to keep Covid travel bans despite Trump order</span></a></p>, <p class=\"css-13k1mrq-PromoHeadline e1f5wbog2\"><a class=\"css-1hlxxic-PromoLink e1f5wbog6\" href=\"/news/world-us-canada-55709261\"><span aria-hidden=\"false\">Biden 'to cancel Keystone pipeline on first day'</span></a></p>, <p class=\"css-13k1mrq-PromoHeadline e1f5wbog2\"><a class=\"css-1hlxxic-PromoLink e1f5wbog6\" href=\"/news/world-us-canada-55710436\"><span aria-hidden=\"false\">How security threats have changed Bidenâs inauguration</span></a></p>, <p class=\"css-13k1mrq-PromoHeadline e1f5wbog2\"><a class=\"css-1hlxxic-PromoLink e1f5wbog6\" href=\"/news/world-europe-55707613\"><span aria-hidden=\"false\">French incest allegations prompt victims to speak out</span></a></p>, <p class=\"css-13k1mrq-PromoHeadline e1f5wbog2\"><a class=\"css-1hlxxic-PromoLink e1f5wbog6\" href=\"/news/world-asia-china-55357495\"><span aria-hidden=\"false\">The Hong Kong migrants fleeing to the UK</span></a></p>, <p class=\"css-13k1mrq-PromoHeadline e1f5wbog2\"><style data-emotion-css=\"1snjdh1-IconContainer\">.css-1snjdh1-IconContainer{display:none;height:0.875em;width:0.875em;vertical-align:-0.0625em;margin-right:0.25em;}</style><span class=\"css-1snjdh1-IconContainer e1f5wbog8\"><svg aria-hidden=\"true\" class=\"css-47d2zd-StyledIcon e6m7o990\" focusable=\"false\" height=\"1em\" viewbox=\"0 0 32 32\" width=\"1em\"><path d=\"M29 16L5.8 1v30L29 16z\"></path></svg></span><a class=\"css-1hlxxic-PromoLink e1f5wbog6\" href=\"/news/world-asia-55710125\"><span class=\"css-oyqyoe-VisuallyHidden e1y6uwnp0\">Conquering K2 in winter 'together' Video</span><span aria-hidden=\"true\">Conquering K2 in winter 'together'</span></a></p>, <p class=\"css-13k1mrq-PromoHeadline e1f5wbog2\"><a class=\"css-1hlxxic-PromoLink e1f5wbog6\" href=\"/news/world-middle-east-55271429\"><span aria-hidden=\"false\">Why Iranâs nuclear facilities are still vulnerable to attack</span></a></p>, <p class=\"css-13k1mrq-PromoHeadline e1f5wbog2\"><a class=\"css-1hlxxic-PromoLink e1f5wbog6\" href=\"/news/world-europe-55341779\"><span aria-hidden=\"false\">Want to light up outdoors in Milan? Think again</span></a></p>, <p class=\"css-13k1mrq-PromoHeadline e1f5wbog2\"><a class=\"css-1hlxxic-PromoLink e1f5wbog6\" href=\"/news/world-asia-54987675\"><span aria-hidden=\"false\">Author vilified for Wuhan Diary speaks out a year on</span></a></p>, <p class=\"css-13k1mrq-PromoHeadline e1f5wbog2\"><a class=\"css-1hlxxic-PromoLink e1f5wbog6\" href=\"https://www.bbc.com/worklife/article/20210113-whats-the-best-plan-for-a-radical-new-workday\"><span aria-hidden=\"false\">BBC Worklife: Is the five-day work week dead?</span></a></p>, <p class=\"css-13k1mrq-PromoHeadline e1f5wbog2\"><a class=\"css-1hlxxic-PromoLink e1f5wbog6\" href=\"/news/business-55306139\"><span aria-hidden=\"false\">How a robot investigator searched 60 million files</span></a></p>, <p class=\"css-13k1mrq-PromoHeadline e1f5wbog2\"><a class=\"css-1hlxxic-PromoLink e1f5wbog6\" href=\"http://www.bbc.co.uk/programmes/articles/51MWxHsTD7YhW4gTWWtPvKf/end-to-end-with-15-football-phrases-from-around-the-world?intc_type=promo&amp;intc_location=news&amp;intc_campaign=fifteenfootballphrases_article&amp;intc_linkname=radio4_sm_mid_c3\"><span aria-hidden=\"false\">Football phrases</span></a></p>, <p>15 sayings from around the world</p>, <p class=\"css-13k1mrq-PromoHeadline e1f5wbog2\"><a class=\"css-1hlxxic-PromoLink e1f5wbog6\" href=\"/news/election-us-2020-55711200\"><span aria-hidden=\"false\"><style data-emotion-css=\"orcmk8-HeadlineContainer\">.css-orcmk8-HeadlineContainer{display:-webkit-box;display:-webkit-flex;display:-ms-flexbox;display:flex;-webkit-box-pack:justify;-webkit-justify-content:space-between;-ms-flex-pack:justify;justify-content:space-between;}</style><span class=\"css-orcmk8-HeadlineContainer e1ia0oo91\">Trump supporter arrested after Pelosi 'data theft'<style data-emotion-css=\"1dedj2h-Rank\">.css-1dedj2h-Rank{-webkit-align-self:center;-ms-flex-item-align:center;align-self:center;color:#B80000;margin-left:3.125rem;}</style><span class=\"css-1dedj2h-Rank e1ia0oo94\">1</span></span></span></a></p>, <p class=\"css-13k1mrq-PromoHeadline e1f5wbog2\"><a class=\"css-1hlxxic-PromoLink e1f5wbog6\" href=\"/news/world-latin-america-55714865\"><span aria-hidden=\"false\"><span class=\"css-orcmk8-HeadlineContainer e1ia0oo91\">Mexico urges US to make major immigration reforms<span class=\"css-1dedj2h-Rank e1ia0oo94\">2</span></span></span></a></p>, <p class=\"css-13k1mrq-PromoHeadline e1f5wbog2\"><a class=\"css-1hlxxic-PromoLink e1f5wbog6\" href=\"/news/world-us-canada-55708411\"><span aria-hidden=\"false\"><span class=\"css-orcmk8-HeadlineContainer e1ia0oo91\">Melaniaâs jacket and nine other defining images<span class=\"css-1dedj2h-Rank e1ia0oo94\">3</span></span></span></a></p>, <p class=\"css-13k1mrq-PromoHeadline e1f5wbog2\"><a class=\"css-1hlxxic-PromoLink e1f5wbog6\" href=\"/news/world-us-canada-55713570\"><span aria-hidden=\"false\"><span class=\"css-orcmk8-HeadlineContainer e1ia0oo91\">Biden to keep Covid travel bans despite Trump order<span class=\"css-1dedj2h-Rank e1ia0oo94\">4</span></span></span></a></p>, <p class=\"css-13k1mrq-PromoHeadline e1f5wbog2\"><a class=\"css-1hlxxic-PromoLink e1f5wbog6\" href=\"/news/world-us-canada-55709261\"><span aria-hidden=\"false\"><span class=\"css-orcmk8-HeadlineContainer e1ia0oo91\">Biden 'to cancel Keystone pipeline on first day'<span class=\"css-1dedj2h-Rank e1ia0oo94\">5</span></span></span></a></p>, <p class=\"css-13k1mrq-PromoHeadline e1f5wbog2\"><a class=\"css-1hlxxic-PromoLink e1f5wbog6\" href=\"/news/world-55709428\"><span aria-hidden=\"false\"><span class=\"css-orcmk8-HeadlineContainer e1ia0oo91\">World on brink of catastrophic moral failure - WHO<span class=\"css-1dedj2h-Rank e1ia0oo94\">6</span></span></span></a></p>, <p class=\"css-13k1mrq-PromoHeadline e1f5wbog2\"><a class=\"css-1hlxxic-PromoLink e1f5wbog6\" href=\"/news/world-europe-55707613\"><span aria-hidden=\"false\"><span class=\"css-orcmk8-HeadlineContainer e1ia0oo91\">French incest allegations prompt victims to speak out<span class=\"css-1dedj2h-Rank e1ia0oo94\">7</span></span></span></a></p>, <p class=\"css-13k1mrq-PromoHeadline e1f5wbog2\"><a class=\"css-1hlxxic-PromoLink e1f5wbog6\" href=\"/news/uk-55714276\"><span aria-hidden=\"false\"><span class=\"css-orcmk8-HeadlineContainer e1ia0oo91\">PM 'glad' to see Trump go - ex-Civil Service head<span class=\"css-1dedj2h-Rank e1ia0oo94\">8</span></span></span></a></p>, <p class=\"css-13k1mrq-PromoHeadline e1f5wbog2\"><a class=\"css-1hlxxic-PromoLink e1f5wbog6\" href=\"/news/world-australia-55713453\"><span aria-hidden=\"false\"><span class=\"css-orcmk8-HeadlineContainer e1ia0oo91\">Two players test positive ahead of Australian Open<span class=\"css-1dedj2h-Rank e1ia0oo94\">9</span></span></span></a></p>, <p class=\"css-13k1mrq-PromoHeadline e1f5wbog2\"><a class=\"css-1hlxxic-PromoLink e1f5wbog6\" href=\"/news/world-us-canada-55702003\"><span aria-hidden=\"false\"><span class=\"css-orcmk8-HeadlineContainer e1ia0oo91\">Man found 'living in airport for three months'<span class=\"css-1dedj2h-Rank e1ia0oo94\">10</span></span></span></a></p>, <p>Â© 2021 BBC. The BBC is not responsible for the content of external sites.<!-- --> <style data-emotion-css=\"1xgx53b-Link\">.css-1xgx53b-Link{font-family:ReithSans,Helvetica,Arial,freesans,sans-serif;font-weight:700;-webkit-text-decoration:none;text-decoration:none;color:#FFFFFF;}.css-1xgx53b-Link:hover,.css-1xgx53b-Link:focus{-webkit-text-decoration:underline;text-decoration:underline;}</style><a class=\"css-1xgx53b-Link ejnx8uh1\" href=\"https://www.bbc.co.uk/help/web/links/\">Read about our approach to external linking.</a></p>]\n"
     ]
    }
   ],
   "source": [
    "# spidering\n",
    "print(content_p_tags)"
   ]
  },
  {
   "cell_type": "code",
   "execution_count": 187,
   "metadata": {},
   "outputs": [
    {
     "name": "stdout",
     "output_type": "stream",
     "text": [
      "[('http://www.bbc.co.uk/news/world-55042935', 43, 'BBC 100 Women 2020: Who is on the list this year?'), ('http://www.bbc.co.uk/news/stories-55020994', 44, 'Sanna Marin: The feminist PM leading a coalition of women'), ('http://www.bbc.co.uk/news/world-latin-america-55714865', 45, 'Mexico urges US to make major immigration reforms'), ('http://www.bbc.co.uk/news/world-us-canada-55713570', 47, 'Biden to keep Covid travel bans despite Trump order'), ('http://www.bbc.co.uk/news/world-us-canada-55709261', 48, \"Biden 'to cancel Keystone pipeline on first day'\")]\n"
     ]
    }
   ],
   "source": [
    "bbc_base_url = \"http://www.bbc.co.uk\"\n",
    "other_p_urls = []\n",
    "for paragraph_number, p_tag in enumerate(content_p_tags):\n",
    "    #     print(p_tag)\n",
    "    tag_links = p_tag.findAll('a', href=re.compile('^/news/'))\n",
    "#     print(tag_links)\n",
    "    for a_tag in tag_links:\n",
    "        relurl = a_tag.get('href')\n",
    "        link_text = a_tag.text\n",
    "#         print(relurl)\n",
    "#         print(link_text)\n",
    "        other_p_urls.append(\n",
    "            (\n",
    "                urllib.parse.urljoin(bbc_base_url, relurl),\n",
    "                paragraph_number,\n",
    "                link_text,\n",
    "            )\n",
    "        )\n",
    "print(other_p_urls[:5])"
   ]
  },
  {
   "cell_type": "code",
   "execution_count": 188,
   "metadata": {},
   "outputs": [
    {
     "name": "stdout",
     "output_type": "stream",
     "text": [
      "71\n",
      "range(0, 71)\n"
     ]
    },
    {
     "data": {
      "text/html": [
       "<div>\n",
       "<style scoped>\n",
       "    .dataframe tbody tr th:only-of-type {\n",
       "        vertical-align: middle;\n",
       "    }\n",
       "\n",
       "    .dataframe tbody tr th {\n",
       "        vertical-align: top;\n",
       "    }\n",
       "\n",
       "    .dataframe thead th {\n",
       "        text-align: right;\n",
       "    }\n",
       "</style>\n",
       "<table border=\"1\" class=\"dataframe\">\n",
       "  <thead>\n",
       "    <tr style=\"text-align: right;\">\n",
       "      <th></th>\n",
       "      <th>paragraph_text</th>\n",
       "      <th>source</th>\n",
       "      <th>paragraph_number</th>\n",
       "    </tr>\n",
       "  </thead>\n",
       "  <tbody>\n",
       "    <tr>\n",
       "      <th>0</th>\n",
       "      <td>By Fan Wang and Grace TsoiBBC World Service, H...</td>\n",
       "      <td>https://www.bbc.com/news/world-asia-54987675</td>\n",
       "      <td>0</td>\n",
       "    </tr>\n",
       "    <tr>\n",
       "      <th>1</th>\n",
       "      <td>She has faced a nationalist backlash for her d...</td>\n",
       "      <td>https://www.bbc.com/news/world-asia-54987675</td>\n",
       "      <td>1</td>\n",
       "    </tr>\n",
       "    <tr>\n",
       "      <th>2</th>\n",
       "      <td>'When facing a catastrophe, it's vital to voic...</td>\n",
       "      <td>https://www.bbc.com/news/world-asia-54987675</td>\n",
       "      <td>2</td>\n",
       "    </tr>\n",
       "    <tr>\n",
       "      <th>3</th>\n",
       "      <td>In late January, when Wuhan became the first p...</td>\n",
       "      <td>https://www.bbc.com/news/world-asia-54987675</td>\n",
       "      <td>3</td>\n",
       "    </tr>\n",
       "    <tr>\n",
       "      <th>4</th>\n",
       "      <td>The (number missing) -year-old's daily posts o...</td>\n",
       "      <td>https://www.bbc.com/news/world-asia-54987675</td>\n",
       "      <td>4</td>\n",
       "    </tr>\n",
       "    <tr>\n",
       "      <th>...</th>\n",
       "      <td>...</td>\n",
       "      <td>...</td>\n",
       "      <td>...</td>\n",
       "    </tr>\n",
       "    <tr>\n",
       "      <th>66</th>\n",
       "      <td>French incest allegations prompt victims to sp...</td>\n",
       "      <td>https://www.bbc.com/news/world-asia-54987675</td>\n",
       "      <td>66</td>\n",
       "    </tr>\n",
       "    <tr>\n",
       "      <th>67</th>\n",
       "      <td>PM 'glad' to see Trump go - ex-Civil Service h...</td>\n",
       "      <td>https://www.bbc.com/news/world-asia-54987675</td>\n",
       "      <td>67</td>\n",
       "    </tr>\n",
       "    <tr>\n",
       "      <th>68</th>\n",
       "      <td>Two players test positive ahead of Australian ...</td>\n",
       "      <td>https://www.bbc.com/news/world-asia-54987675</td>\n",
       "      <td>68</td>\n",
       "    </tr>\n",
       "    <tr>\n",
       "      <th>69</th>\n",
       "      <td>Man found 'living in airport for three months'...</td>\n",
       "      <td>https://www.bbc.com/news/world-asia-54987675</td>\n",
       "      <td>69</td>\n",
       "    </tr>\n",
       "    <tr>\n",
       "      <th>70</th>\n",
       "      <td>(number missing) BBC. The BBC is not responsib...</td>\n",
       "      <td>https://www.bbc.com/news/world-asia-54987675</td>\n",
       "      <td>70</td>\n",
       "    </tr>\n",
       "  </tbody>\n",
       "</table>\n",
       "<p>71 rows × 3 columns</p>\n",
       "</div>"
      ],
      "text/plain": [
       "                                       paragraph_text  \\\n",
       "0   By Fan Wang and Grace TsoiBBC World Service, H...   \n",
       "1   She has faced a nationalist backlash for her d...   \n",
       "2   'When facing a catastrophe, it's vital to voic...   \n",
       "3   In late January, when Wuhan became the first p...   \n",
       "4   The (number missing) -year-old's daily posts o...   \n",
       "..                                                ...   \n",
       "66  French incest allegations prompt victims to sp...   \n",
       "67  PM 'glad' to see Trump go - ex-Civil Service h...   \n",
       "68  Two players test positive ahead of Australian ...   \n",
       "69  Man found 'living in airport for three months'...   \n",
       "70  (number missing) BBC. The BBC is not responsib...   \n",
       "\n",
       "                                          source  paragraph_number  \n",
       "0   https://www.bbc.com/news/world-asia-54987675                 0  \n",
       "1   https://www.bbc.com/news/world-asia-54987675                 1  \n",
       "2   https://www.bbc.com/news/world-asia-54987675                 2  \n",
       "3   https://www.bbc.com/news/world-asia-54987675                 3  \n",
       "4   https://www.bbc.com/news/world-asia-54987675                 4  \n",
       "..                                           ...               ...  \n",
       "66  https://www.bbc.com/news/world-asia-54987675                66  \n",
       "67  https://www.bbc.com/news/world-asia-54987675                67  \n",
       "68  https://www.bbc.com/news/world-asia-54987675                68  \n",
       "69  https://www.bbc.com/news/world-asia-54987675                69  \n",
       "70  https://www.bbc.com/news/world-asia-54987675                70  \n",
       "\n",
       "[71 rows x 3 columns]"
      ]
     },
     "execution_count": 188,
     "metadata": {},
     "output_type": "execute_result"
    }
   ],
   "source": [
    "content_paragraphs_df['source'] = [bbc_fangfang_report] * len(content_paragraphs_df['paragraph_text'])\n",
    "print(len(content_paragraphs_df['paragraph_text']))\n",
    "content_paragraphs_df['paragraph_number'] = range(len(content_paragraphs_df['paragraph_text']))\n",
    "print(range(len(content_paragraphs_df['paragraph_text'])))\n",
    "content_paragraphs_df"
   ]
  },
  {
   "cell_type": "code",
   "execution_count": null,
   "metadata": {},
   "outputs": [],
   "source": []
  },
  {
   "cell_type": "code",
   "execution_count": null,
   "metadata": {},
   "outputs": [],
   "source": []
  }
 ],
 "metadata": {
  "kernelspec": {
   "display_name": "Python 3",
   "language": "python",
   "name": "python3"
  },
  "language_info": {
   "codemirror_mode": {
    "name": "ipython",
    "version": 3
   },
   "file_extension": ".py",
   "mimetype": "text/x-python",
   "name": "python",
   "nbconvert_exporter": "python",
   "pygments_lexer": "ipython3",
   "version": "3.8.5"
  },
  "toc": {
   "base_numbering": 1,
   "nav_menu": {},
   "number_sections": true,
   "sideBar": true,
   "skip_h1_title": false,
   "title_cell": "Table of Contents",
   "title_sidebar": "Contents",
   "toc_cell": false,
   "toc_position": {},
   "toc_section_display": true,
   "toc_window_display": false
  },
  "varInspector": {
   "cols": {
    "lenName": 16,
    "lenType": 16,
    "lenVar": 40
   },
   "kernels_config": {
    "python": {
     "delete_cmd_postfix": "",
     "delete_cmd_prefix": "del ",
     "library": "var_list.py",
     "varRefreshCmd": "print(var_dic_list())"
    },
    "r": {
     "delete_cmd_postfix": ") ",
     "delete_cmd_prefix": "rm(",
     "library": "var_list.r",
     "varRefreshCmd": "cat(var_dic_list()) "
    }
   },
   "types_to_exclude": [
    "module",
    "function",
    "builtin_function_or_method",
    "instance",
    "_Feature"
   ],
   "window_display": false
  }
 },
 "nbformat": 4,
 "nbformat_minor": 4
}
